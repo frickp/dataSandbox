{
 "cells": [
  {
   "cell_type": "markdown",
   "metadata": {},
   "source": [
    "Should make a pandas dataframe where each run has a unique ID, and position is tracked for each interval\n",
    "\n",
    "1. While loop faster than for loop\n",
    "2. Is zero a possible value? Is one?\n",
    "3. If it is at the boundary, how can I keep it from iterating? Continue works..."
   ]
  },
  {
   "cell_type": "code",
   "execution_count": 1,
   "metadata": {
    "collapsed": false
   },
   "outputs": [],
   "source": [
    "%matplotlib inline\n",
    "import numpy as np\n",
    "import pandas as pd\n",
    "import matplotlib.pyplot as plt\n",
    "#from sklearn.utils import resample"
   ]
  },
  {
   "cell_type": "code",
   "execution_count": 2,
   "metadata": {
    "collapsed": false
   },
   "outputs": [
    {
     "name": "stdout",
     "output_type": "stream",
     "text": [
      "0.535616666055\n",
      "0.206696190476\n",
      "0.402549951698\n",
      "0.77992052257\n",
      "0.661579236571\n",
      "0.619493807549\n",
      "0.446177055856\n",
      "0.562505215711\n",
      "0.631735521804\n",
      "0.072346861113\n"
     ]
    }
   ],
   "source": [
    "#Core function\n",
    "x, y = 0,0\n",
    "i = 1\n",
    "df = pd.DataFrame(columns=['time','x','y'])\n",
    "while i <= 10 :\n",
    "    r = np.random.random_sample()\n",
    "    if r < 0.25:\n",
    "        y += 1 \n",
    "        df.loc[i]=[i, x, y]\n",
    "    if r > 0.25 and r < 0.5:\n",
    "        y -= 1\n",
    "        df.loc[i]=[i, x, y]\n",
    "        #print x, y\n",
    "    if r > 0.5 and r < 0.75:\n",
    "        x += 1\n",
    "        df.loc[i]=[i, x, y]\n",
    "        #print x, y\n",
    "    if r > 0.75:\n",
    "        x -= 1\n",
    "        df.loc[i]=[i, x, y]\n",
    "        #print x, y\n",
    "    print r\n",
    "    i += 1\n",
    "    "
   ]
  },
  {
   "cell_type": "code",
   "execution_count": 3,
   "metadata": {
    "collapsed": true
   },
   "outputs": [],
   "source": [
    "# This function returns a data frame of the distances after \"t\" draws\n",
    "\n",
    "def randWalk(t):\n",
    "    x, y = 0, 0\n",
    "    i = 1\n",
    "    df = pd.DataFrame(columns=['time','x','y'])\n",
    "    while i <= t:\n",
    "        r = np.random.random_sample()\n",
    "        if r < 0.25:\n",
    "            y += 1 \n",
    "            df.loc[i]=[i, x, y]\n",
    "        if r > 0.25 and r < 0.5:\n",
    "            y -= 1\n",
    "            df.loc[i]=[i, x, y]\n",
    "            #print x, y\n",
    "        if r > 0.5 and r < 0.75:\n",
    "            x += 1\n",
    "            df.loc[i]=[i, x, y]\n",
    "            #print x, y\n",
    "        if r > 0.75:\n",
    "            x -= 1\n",
    "            df.loc[i]=[i, x, y]\n",
    "        i += 1\n",
    "    return df"
   ]
  },
  {
   "cell_type": "code",
   "execution_count": 4,
   "metadata": {
    "collapsed": false
   },
   "outputs": [],
   "source": [
    "#randWalk(10)"
   ]
  },
  {
   "cell_type": "code",
   "execution_count": 5,
   "metadata": {
    "collapsed": false
   },
   "outputs": [
    {
     "data": {
      "text/plain": [
       "0.4752475247524752"
      ]
     },
     "execution_count": 5,
     "metadata": {},
     "output_type": "execute_result"
    }
   ],
   "source": [
    "# This function returns the fraction of times that distance >= 3 on the tenth move,\n",
    "# over a certain number (numDraw) of random walks\n",
    "\n",
    "def greaterThree(numDraws):\n",
    "    j = 1\n",
    "    countCrow3 = 0 \n",
    "    while j <= numDraws: \n",
    "        m10 = randWalk(10).loc[10]\n",
    "        dist = np.sqrt(np.square(m10['x']) + np.square(m10['y']))\n",
    "        if dist >= 3:\n",
    "            countCrow3 += 1\n",
    "        j += 1\n",
    "    return countCrow3/float(j)\n",
    "greaterThree(100)\n"
   ]
  },
  {
   "cell_type": "code",
   "execution_count": 6,
   "metadata": {
    "collapsed": false
   },
   "outputs": [],
   "source": [
    "#print greaterThree(10000)\n",
    "#print greaterThree(10000)\n",
    "#print greaterThree(10000)"
   ]
  },
  {
   "cell_type": "code",
   "execution_count": 7,
   "metadata": {
    "collapsed": false
   },
   "outputs": [
    {
     "data": {
      "text/html": [
       "<div>\n",
       "<table border=\"1\" class=\"dataframe\">\n",
       "  <thead>\n",
       "    <tr style=\"text-align: right;\">\n",
       "      <th></th>\n",
       "      <th>greaterTen</th>\n",
       "    </tr>\n",
       "  </thead>\n",
       "  <tbody>\n",
       "    <tr>\n",
       "      <th>0</th>\n",
       "      <td>0.166667</td>\n",
       "    </tr>\n",
       "    <tr>\n",
       "      <th>1</th>\n",
       "      <td>0.166667</td>\n",
       "    </tr>\n",
       "    <tr>\n",
       "      <th>2</th>\n",
       "      <td>0.166667</td>\n",
       "    </tr>\n",
       "    <tr>\n",
       "      <th>3</th>\n",
       "      <td>0.666667</td>\n",
       "    </tr>\n",
       "    <tr>\n",
       "      <th>4</th>\n",
       "      <td>0.666667</td>\n",
       "    </tr>\n",
       "  </tbody>\n",
       "</table>\n",
       "</div>"
      ],
      "text/plain": [
       "   greaterTen\n",
       "0    0.166667\n",
       "1    0.166667\n",
       "2    0.166667\n",
       "3    0.666667\n",
       "4    0.666667"
      ]
     },
     "execution_count": 7,
     "metadata": {},
     "output_type": "execute_result"
    }
   ],
   "source": [
    "distTen = pd.DataFrame(columns=['greaterTen'])\n",
    "k = 0\n",
    "\n",
    "while k < 10:\n",
    "    n = greaterThree(5)\n",
    "    distTen.loc[k] = n\n",
    "    #print greaterTen(5)\n",
    "    k += 1\n",
    "distTen.head()"
   ]
  },
  {
   "cell_type": "code",
   "execution_count": 8,
   "metadata": {
    "collapsed": true
   },
   "outputs": [],
   "source": [
    "#Make this into a function\n",
    "def distG3(rep,numDraws):\n",
    "    distTen = pd.DataFrame(columns=['greaterTen'])\n",
    "    k = 0\n",
    "    while k < rep:\n",
    "        n = greaterThree(numDraws)\n",
    "        distTen.loc[k] = n\n",
    "        k += 1\n",
    "    return distTen"
   ]
  },
  {
   "cell_type": "code",
   "execution_count": 9,
   "metadata": {
    "collapsed": false
   },
   "outputs": [],
   "source": [
    "g3_50_10 = distG3(rep=50,numDraws=10)\n",
    "#g3_50_1000 = distG3(rep=50,numDraws=50)"
   ]
  },
  {
   "cell_type": "code",
   "execution_count": 10,
   "metadata": {
    "collapsed": false
   },
   "outputs": [
    {
     "data": {
      "image/png": "[encoded data removed]",
      "text/plain": [
       "<matplotlib.figure.Figure at 0x107747310>"
      ]
     },
     "metadata": {},
     "output_type": "display_data"
    }
   ],
   "source": [
    "#g3_5050.hist()\n",
    "g3_50_10.hist()\n",
    "plt.show()"
   ]
  },
  {
   "cell_type": "code",
   "execution_count": 11,
   "metadata": {
    "collapsed": false
   },
   "outputs": [
    {
     "data": {
      "text/plain": [
       "1950"
      ]
     },
     "execution_count": 11,
     "metadata": {},
     "output_type": "execute_result"
    }
   ],
   "source": [
    "y = np.random.random_sample(20000)\n",
    "len(y[y>0.9])"
   ]
  },
  {
   "cell_type": "code",
   "execution_count": 12,
   "metadata": {
    "collapsed": false
   },
   "outputs": [
    {
     "data": {
      "text/plain": [
       "0.5783406626845122"
      ]
     },
     "execution_count": 12,
     "metadata": {},
     "output_type": "execute_result"
    }
   ],
   "source": [
    "np.random.random_sample()"
   ]
  },
  {
   "cell_type": "code",
   "execution_count": 13,
   "metadata": {
    "collapsed": false
   },
   "outputs": [
    {
     "name": "stdout",
     "output_type": "stream",
     "text": [
      "[0 1 0 0 1 1 0 0 0 0 0 1 0 0 0 0 0 0 0 0 0 0 1 1 0 1 0 1 1 1 0 1 1 1 0 1 1\n",
      " 1 1 1 0 1 0 0 0 1 0 1 0 0 0 1 1 0 1 1 1 0 0 0 0 0 0 1 0 0 1 1 1 0 0 0 0 1\n",
      " 1 0 0 1 1 1 1 1 0 1 1 1 0 1 1 1 1 1 1 0 1 0 1 1 1 1]\n",
      "[-1  1 -1 -1  1  1 -1 -1 -1 -1 -1  1 -1 -1 -1 -1 -1 -1 -1 -1 -1 -1  1  1 -1\n",
      "  1 -1  1  1  1 -1  1  1  1 -1  1  1  1  1  1 -1  1 -1 -1 -1  1 -1  1 -1 -1\n",
      " -1  1  1 -1  1  1  1 -1 -1 -1 -1 -1 -1  1 -1 -1  1  1  1 -1 -1 -1 -1  1  1\n",
      " -1 -1  1  1  1  1  1 -1  1  1  1 -1  1  1  1  1  1  1 -1  1 -1  1  1  1  1]\n",
      "[ -1   0  -1  -2  -1   0  -1  -2  -3  -4  -5  -4  -5  -6  -7  -8  -9 -10\n",
      " -11 -12 -13 -14 -13 -12 -13 -12 -13 -12 -11 -10 -11 -10  -9  -8  -9  -8\n",
      "  -7  -6  -5  -4  -5  -4  -5  -6  -7  -6  -7  -6  -7  -8  -9  -8  -7  -8\n",
      "  -7  -6  -5  -6  -7  -8  -9 -10 -11 -10 -11 -12 -11 -10  -9 -10 -11 -12\n",
      " -13 -12 -11 -12 -13 -12 -11 -10  -9  -8  -9  -8  -7  -6  -7  -6  -5  -4\n",
      "  -3  -2  -1  -2  -1  -2  -1   0   1   2]\n",
      "[-1  0 -1 -2 -1  0  1  0  1  0  1  0 -1 -2 -1  0  1  2  3  2  3  4  3  4  3\n",
      "  4  3  4  5  6  5  4  3  2  3  2  3  4  3  2  3  4  3  4  3  4  3  4  5  4\n",
      "  3  4  5  6  7  8  9  8  7  6  7  8  7  8  9  8  9 10  9  8  7  8  9  8  9\n",
      "  8  7  8  9 10 11 10  9  8  9 10  9  8  7  6  7  8  9 10 11 12 11 10 11 10]\n"
     ]
    }
   ],
   "source": [
    "#This is the good stuff!\n",
    "\n",
    "time = 100\n",
    "xRand = np.random.randint(0, high = 2, size = time)\n",
    "yRand = np.random.randint(0, high = 2, size = time)\n",
    "print xRand\n",
    "xSteps = np.where(xRand == 1, 1, -1)\n",
    "ySteps = np.where(yRand == 1, 1, -1)\n",
    "print xSteps\n",
    "xPos = np.cumsum(xSteps)\n",
    "yPos = np.cumsum(ySteps)\n",
    "print xPos\n",
    "print yPos"
   ]
  },
  {
   "cell_type": "code",
   "execution_count": 14,
   "metadata": {
    "collapsed": false
   },
   "outputs": [
    {
     "name": "stdout",
     "output_type": "stream",
     "text": [
      "[0 1 1 0 0 0 0 1 1 1 0 0 0 1 1 1 1 0 1 0 1 0 1 1 0 1 1 1 1 1 0 1 1 1 0 0 1\n",
      " 0 1 1 1 0 0 0 1 0 1 0 1 0 1 1 1 0 0 1 1 1 0 0 0 1 1 0 1 1 1 0 0 1 1 1 0 1\n",
      " 1 1 1 0 1 1 1 1 1 1 1 1 0 0 0 0 1 1 0 1 0 0 0 0 0 0]\n",
      "[-1  0  1  0 -1 -2 -3 -2 -1  0 -1 -2 -3 -2 -1  0  1  0  1  0  1  0  1  2  1\n",
      "  2  3  4  5  6  5  6  7  8  7  6  7  6  7  8  9  8  7  6  7  6  7  6  7  6\n",
      "  7  8  9  8  7  8  9 10  9  8  7  8  9  8  9 10 11 10  9 10 11 12 11 12 13\n",
      " 14 15 14 15 16 17 18 19 20 21 22 21 20 19 18 19 20 19 20 19 18 17 16 15 14]\n",
      "[ -1  -1   0   0  -1  -3  -6  -8  -9  -9 -10 -12 -15 -17 -18 -18 -17 -17\n",
      " -16 -16 -15 -15 -14 -12 -11  -9  -6  -2   3   9  14  20  27  35  42  48\n",
      "  55  61  68  76  85  93 100 106 113 119 126 132 139 145 152 160 169 177\n",
      " 184 192 201 211 220 228 235 243 252 260 269 279 290 300 309 319 330 342\n",
      " 353 365 378 392 407 421 436 452 469 487 506 526 547 569 590 610 629 647\n",
      " 666 686 705 725 744 762 779 795 810 824]\n",
      "[ -1  -3  -4  -4  -5  -7  -8  -8  -7  -7  -8 -10 -11 -11 -12 -14 -15 -15\n",
      " -16 -16 -17 -19 -20 -20 -21 -23 -24 -26 -29 -33 -38 -42 -45 -47 -48 -48\n",
      " -47 -47 -46 -46 -47 -49 -52 -54 -55 -55 -56 -56 -55 -53 -50 -48 -47 -47\n",
      " -48 -48 -47 -45 -44 -44 -43 -41 -40 -38 -35 -31 -26 -22 -19 -15 -12  -8\n",
      "  -5  -3  -2  -2  -3  -3  -2   0   1   3   6   8   9  11  12  12  13  15\n",
      "  16  16  15  15  16  18  19  19  20  22]\n"
     ]
    }
   ],
   "source": [
    "time = 100\n",
    "xRand = np.random.randint(0, high = 2, size = time)\n",
    "yRand = np.random.randint(0, high = 2, size = time)\n",
    "print xRand\n",
    "xSteps = np.cumsum(np.where(xRand == 1, 1, -1))\n",
    "ySteps = np.cumsum(np.where(yRand == 1, 1, -1))\n",
    "print xSteps\n",
    "xPos = np.cumsum(xSteps)\n",
    "yPos = np.cumsum(ySteps)\n",
    "print xPos\n",
    "print yPos"
   ]
  },
  {
   "cell_type": "code",
   "execution_count": 15,
   "metadata": {
    "collapsed": false
   },
   "outputs": [
    {
     "name": "stdout",
     "output_type": "stream",
     "text": [
      "[ 1  0 -1 -2 -3 -2 -3 -2 -1  0]\n",
      "[1 0 1 2 3 4 3 2 3 4]\n"
     ]
    }
   ],
   "source": [
    "def randWalk(time):\n",
    "    xRand = np.random.randint(0, high = 2, size = time) #simulate binary outcome\n",
    "    yRand = np.random.randint(0, high = 2, size = time)\n",
    "    xPos = np.cumsum(np.where(xRand == 1, 1, -1))\n",
    "    yPos = np.cumsum(np.where(yRand == 1, 1, -1))\n",
    "    return xPos, yPos\n",
    "a,b = randWalk(10)\n",
    "print a\n",
    "print b"
   ]
  },
  {
   "cell_type": "code",
   "execution_count": 16,
   "metadata": {
    "collapsed": false
   },
   "outputs": [
    {
     "data": {
      "text/plain": [
       "array([[ 0.74302166,  0.57104297,  0.64408308,  0.94252731,  0.85455445,\n",
       "         0.76394168],\n",
       "       [ 0.41036423,  0.01435013,  0.1438523 ,  0.48530802,  0.78003909,\n",
       "         0.21131984],\n",
       "       [ 0.84016331,  0.3382726 ,  0.17786721,  0.44512443,  0.28722239,\n",
       "         0.17089832],\n",
       "       [ 0.87198837,  0.56087301,  0.4424952 ,  0.67684206,  0.09373858,\n",
       "         0.24362761],\n",
       "       [ 0.17577733,  0.17700605,  0.38043304,  0.90938155,  0.23233257,\n",
       "         0.18253006],\n",
       "       [ 0.12040694,  0.95161014,  0.94860497,  0.4215277 ,  0.80033392,\n",
       "         0.30453184]])"
      ]
     },
     "execution_count": 16,
     "metadata": {},
     "output_type": "execute_result"
    }
   ],
   "source": [
    "np.random.rand(6,6)"
   ]
  },
  {
   "cell_type": "code",
   "execution_count": 17,
   "metadata": {
    "collapsed": false
   },
   "outputs": [
    {
     "data": {
      "text/plain": [
       "0.5742574257425742"
      ]
     },
     "execution_count": 17,
     "metadata": {},
     "output_type": "execute_result"
    }
   ],
   "source": [
    "# This function returns the fraction of times that distance >= 3 on the tenth move,\n",
    "# over a certain number (numDraw) of random walks\n",
    "\n",
    "# I think what I need to do here is to create a matrix. One dimension is the draws for the\n",
    "# current walk. The second dimension is the draws for every subsequent walk.\n",
    "\n",
    "def greaterThree(numDraws):\n",
    "    j = 1\n",
    "    countCrow3 = 0 \n",
    "    while j <= numDraws: \n",
    "        x, y = randWalk(numDraws)\n",
    "        x10, y10 = x[9], y[9]\n",
    "        dist = np.sqrt(np.square(x10) + np.square(y10))\n",
    "        if dist >= 3:\n",
    "            countCrow3 += 1\n",
    "        j += 1\n",
    "    return countCrow3/float(j)\n",
    "greaterThree(100)\n",
    "\n"
   ]
  },
  {
   "cell_type": "code",
   "execution_count": 18,
   "metadata": {
    "collapsed": false
   },
   "outputs": [],
   "source": [
    "max = 0.5\n",
    "while i < 10:\n",
    "    x = max(np.random.rand(50))\n",
    "    print x\n",
    "    if x > max:\n",
    "        x = max\n",
    "    i += 1\n",
    "\n"
   ]
  },
  {
   "cell_type": "code",
   "execution_count": 19,
   "metadata": {
    "collapsed": false
   },
   "outputs": [],
   "source": [
    "m = np.matrix(np.random.randn(50).reshape((5,10)))\n",
    "m = np.random.randn(50).reshape((5,10))\n",
    "#len(np.random.randn(50))"
   ]
  },
  {
   "cell_type": "code",
   "execution_count": 20,
   "metadata": {
    "collapsed": false
   },
   "outputs": [
    {
     "name": "stdout",
     "output_type": "stream",
     "text": [
      "[[4 5 6 4 7]\n",
      " [7 6 4 4 7]\n",
      " [6 7 4 5 6]]\n",
      "[[0 0 6 0 7]\n",
      " [7 6 0 0 7]\n",
      " [6 7 0 0 6]]\n"
     ]
    },
    {
     "data": {
      "text/plain": [
       "array([[ 0,  0,  1,  0, -1],\n",
       "       [-1,  1,  0,  0, -1],\n",
       "       [ 1, -1,  0,  0,  1]])"
      ]
     },
     "execution_count": 20,
     "metadata": {},
     "output_type": "execute_result"
    }
   ],
   "source": [
    "s = np.array([[4,5,6,4,7],\n",
    " [7, 6, 4, 4, 7],\n",
    " [6, 7, 4, 5, 6]]).reshape((3,5))\n",
    "print s\n",
    "s2 = np.where(s<6,0,s)\n",
    "print s2\n",
    "s2[s2 == np.max(s2)] = -1\n",
    "s2[s2 == np.max(s2)] = 1\n",
    "s2\n",
    "#np.where(s != 0 & s == 6,1,-1)\n",
    "#?np.where"
   ]
  },
  {
   "cell_type": "code",
   "execution_count": 21,
   "metadata": {
    "collapsed": false
   },
   "outputs": [
    {
     "data": {
      "text/plain": [
       "(array([[ 0,  0, -1, -1, -2],\n",
       "        [ 0, -1,  0, -1, -2],\n",
       "        [ 0,  1,  0,  0,  0]]), array([[ 1,  0,  0,  1,  1],\n",
       "        [ 1,  1,  1,  1,  1],\n",
       "        [-1, -1, -1, -2, -1]]))"
      ]
     },
     "execution_count": 21,
     "metadata": {},
     "output_type": "execute_result"
    }
   ],
   "source": [
    "#This is most recent (1:45)\n",
    "\n",
    "#np.random.randint(0, high = 4, size = 100)\n",
    "def randWalk(moves,samples):\n",
    "    draws = np.random.randint(4, high = 8, size = samples*moves).reshape((samples,moves))\n",
    "    xSteps = np.where(draws<6,0,draws)\n",
    "    xSteps[xSteps == np.max(xSteps)] = -1\n",
    "    xSteps[xSteps == np.max(xSteps)] = 1\n",
    "    \n",
    "    ySteps = np.where(draws>5,0,draws)\n",
    "    ySteps[ySteps == np.max(ySteps)] = -1\n",
    "    ySteps[ySteps == np.max(ySteps)] = 1\n",
    "    \n",
    "    xPos = np.cumsum(xSteps, axis=1)\n",
    "    yPos = np.cumsum(ySteps, axis=1)\n",
    "    return xPos, yPos\n",
    "    \n",
    "randWalk(5,3)"
   ]
  },
  {
   "cell_type": "code",
   "execution_count": 129,
   "metadata": {
    "collapsed": false
   },
   "outputs": [],
   "source": [
    "# Question 1.1:\n",
    "\n",
    "def crow3(moves,samples):\n",
    "    x, y = randWalk(moves=moves,samples=samples)\n",
    "    x10 = x[:,9]; y10 = y[:,9] #get the x,y position after the tenth step\n",
    "    m10 = np.sqrt(np.square(x10) + np.square(y10)) #calculate the distance from origin \n",
    "    d = len(m10[m10>3])/float(len(m10)) #return the probability\n",
    "    return d\n",
    "\n"
   ]
  },
  {
   "cell_type": "code",
   "execution_count": 130,
   "metadata": {
    "collapsed": false
   },
   "outputs": [
    {
     "data": {
      "text/plain": [
       "0.454945"
      ]
     },
     "execution_count": 130,
     "metadata": {},
     "output_type": "execute_result"
    }
   ],
   "source": [
    "# crow3(10,200000)   0.452265 \n",
    "# crow3(10,2000000)  0.4541365\n",
    "# crow3(10,20000000) 0.4541023\n",
    "crow3(10,200000)"
   ]
  },
  {
   "cell_type": "code",
   "execution_count": 131,
   "metadata": {
    "collapsed": false
   },
   "outputs": [],
   "source": [
    "# Question 1.2: \n",
    "\n",
    "def ever5(moves,samples):\n",
    "    x, y = randWalk(moves=moves,samples=samples)\n",
    "    distMat = []\n",
    "    for i in range(10):\n",
    "        xi = x[:,i]; yi = y[:,i] #get the x,y position after the tenth step\n",
    "        mi = np.sqrt(np.square(xi) + np.square(yi)) #calculate the distance from origin \n",
    "        distMat.append(mi)\n",
    "    distMat = np.matrix(distMat)\n",
    "    maxDist = np.amax(distMat,axis=0)\n",
    "    return maxDist[maxDist>=5].shape[1]/float(maxDist.shape[1])\n"
   ]
  },
  {
   "cell_type": "code",
   "execution_count": 132,
   "metadata": {
    "collapsed": false
   },
   "outputs": [
    {
     "data": {
      "text/plain": [
       "0.133116"
      ]
     },
     "execution_count": 132,
     "metadata": {},
     "output_type": "execute_result"
    }
   ],
   "source": [
    "ever5(moves=10, samples=500000)"
   ]
  },
  {
   "cell_type": "code",
   "execution_count": 208,
   "metadata": {
    "collapsed": false
   },
   "outputs": [],
   "source": [
    "# Question 1.3 \n",
    "# What is the probability that the tourist is ever east of East 1st Avenue \n",
    "# but ends up west of West 1st Avenue in 10 moves?\n",
    "\n",
    "# To find this, I should look for rows where x is < -1 and ends at > 1\n",
    "\n",
    "def e1w1(moves,samples):\n",
    "    x, y = randWalk(moves=moves,samples=samples)\n",
    "    e1 = np.amin(x,axis=1) < -1\n",
    "    w1 =  x[:,9] > 1\n",
    "    ew = e1 & w1\n",
    "    return len(ew[ew==True])/float(len(ew))\n",
    "    \n",
    "#e1w1(10,10)"
   ]
  },
  {
   "cell_type": "code",
   "execution_count": 209,
   "metadata": {
    "collapsed": false
   },
   "outputs": [
    {
     "data": {
      "text/plain": [
       "0.006093"
      ]
     },
     "execution_count": 209,
     "metadata": {},
     "output_type": "execute_result"
    }
   ],
   "source": [
    "e1w1(10,1000000)"
   ]
  },
  {
   "cell_type": "code",
   "execution_count": 473,
   "metadata": {
    "collapsed": false
   },
   "outputs": [],
   "source": [
    "# Q1.4\n",
    "# What is the average number of moves until the first time the tourist is at least 10\n",
    "# city blocks (as the crow flies) from Broadway and Broadway.\n",
    "\n",
    "def til10(moves,samples,maxVal):\n",
    "    x, y = randWalk(moves=moves,samples=samples)\n",
    "    distMat = []\n",
    "    for i in range(moves):\n",
    "        xi = x[:,i]; yi = y[:,i] #get the x,y position after the tenth step\n",
    "        mi = np.sqrt(np.square(xi) + np.square(yi)) #calculate the distance from origin \n",
    "        distMat.append(mi)\n",
    "    distMat = np.matrix(distMat)\n",
    "    #print distMat\n",
    "    normDistMat = np.where(distMat >= maxVal,maxVal,distMat)\n",
    "    dMax = np.max(normDistMat, axis=0)\n",
    "    #print dMax == 10\n",
    "    #print dMax\n",
    "    dMoves = np.argmax(normDistMat, axis=0)\n",
    "    #print 'number of steps:'\n",
    "    #print dMoves\n",
    "    #print 'Keep only walks that exceed 10'\n",
    "    filtMoves = dMoves[dMax == maxVal]\n",
    "    #print filtMoves\n",
    "    print np.mean(filtMoves)\n"
   ]
  },
  {
   "cell_type": "code",
   "execution_count": 474,
   "metadata": {
    "collapsed": false
   },
   "outputs": [
    {
     "name": "stdout",
     "output_type": "stream",
     "text": [
      "103.81312\n"
     ]
    }
   ],
   "source": [
    "til10(moves=1000,samples=50000,maxVal=10)       #103.81312\n"
   ]
  },
  {
   "cell_type": "code",
   "execution_count": 477,
   "metadata": {
    "collapsed": false
   },
   "outputs": [
    {
     "name": "stdout",
     "output_type": "stream",
     "text": [
      "3541.1\n"
     ]
    }
   ],
   "source": [
    "# til10(moves=100000,samples=500,maxVal=60)     #3541.1"
   ]
  },
  {
   "cell_type": "code",
   "execution_count": 398,
   "metadata": {
    "collapsed": true
   },
   "outputs": [],
   "source": [
    "# q 1.5: What is the probability that the tourist is ever at least 10 city blocks \n",
    "# (as the crow flies) from Broadway and Broadway within 60 moves?\n",
    "\n",
    "\n",
    "def til10within60(moves,samples):\n",
    "    x, y = randWalk(moves=moves,samples=samples)\n",
    "    distMat = []\n",
    "    for i in range(moves):\n",
    "        xi = x[:,i]; yi = y[:,i] #get the x,y position after the tenth step\n",
    "        mi = np.sqrt(np.square(xi) + np.square(yi)) #calculate the distance from origin \n",
    "        distMat.append(mi)\n",
    "    distMat = np.matrix(distMat)\n",
    "    #print distMat\n",
    "    normDistMat = np.where(distMat>=10,10,distMat)\n",
    "    #print normDistMat\n",
    "    #maxDist = np.amax(distMat,axis=0)\n",
    "    #print maxDist\n",
    "    #print 'argmax'\n",
    "    dMax = np.max(normDistMat,axis=0)\n",
    "    #print dMax == 10\n",
    "    #print dMax\n",
    "    dMoves = np.argmax(normDistMat,axis=0)\n",
    "    #print normDistMat.shape\n",
    "    #print 'number of steps:'\n",
    "    #print dMoves\n",
    "    #print 'Keep only walks that exceed 10'\n",
    "    filtMoves = dMoves[dMax == 10]\n",
    "    return len(filtMoves)/float(len(dMoves))\n",
    "    #print np.mean(filtMoves)\n",
    "\n",
    "\n"
   ]
  },
  {
   "cell_type": "code",
   "execution_count": 400,
   "metadata": {
    "collapsed": false
   },
   "outputs": [
    {
     "data": {
      "text/plain": [
       "0.318354"
      ]
     },
     "execution_count": 400,
     "metadata": {},
     "output_type": "execute_result"
    }
   ],
   "source": [
    "til10within60(60,1000000) "
   ]
  },
  {
   "cell_type": "code",
   "execution_count": 449,
   "metadata": {
    "collapsed": false
   },
   "outputs": [],
   "source": [
    "# q 1.6: What is the probability that the tourist is at least 10 city blocks \n",
    "# (as the crow flies) from Broadway and Broadway after 60 moves?\n",
    "\n",
    "def til10after60(moves,samples):\n",
    "    x, y = randWalk(moves=moves,samples=samples)\n",
    "    distMat = []\n",
    "    for i in range(moves):\n",
    "        xi = x[:,i]; yi = y[:,i] #get the x,y position after the tenth step\n",
    "        mi = np.sqrt(np.square(xi) + np.square(yi)) #calculate the distance from origin \n",
    "        distMat.append(mi)\n",
    "    distMat = np.matrix(distMat)\n",
    "    normDistMat = np.where(distMat >= 10,10,distMat)\n",
    "    m60 = normDistMat[59,:]    \n",
    "    return np.count_nonzero(m60 == 10)/float(samples)\n"
   ]
  },
  {
   "cell_type": "code",
   "execution_count": 458,
   "metadata": {
    "collapsed": false
   },
   "outputs": [
    {
     "data": {
      "text/plain": [
       "0.20678"
      ]
     },
     "execution_count": 458,
     "metadata": {},
     "output_type": "execute_result"
    }
   ],
   "source": [
    "# til10after60(moves=60,samples=100000)   0.20678"
   ]
  },
  {
   "cell_type": "code",
   "execution_count": 470,
   "metadata": {
    "collapsed": false
   },
   "outputs": [],
   "source": [
    "# q 1.7 What is the probability that the tourist is ever east of East 1st Avenue \n",
    "# but ends up west of West 1st Avenue in 30 moves?\n",
    "\n",
    "# Question 1.3 \n",
    "# What is the probability that the tourist is ever east of East 1st Avenue \n",
    "# but ends up west of West 1st Avenue in 10 moves?\n",
    "\n",
    "# To find this, I should look for rows where x is < -1 and ends at > 1\n",
    "\n",
    "def e1w1(moves,samples):\n",
    "    x, y = randWalk(moves=moves,samples=samples)\n",
    "    e1 = np.amin(x,axis=1) < -1\n",
    "    w1 =  x[:,29] > 1\n",
    "    ew = e1 & w1\n",
    "    return len(ew[ew==True])/float(len(ew))\n",
    "    \n"
   ]
  },
  {
   "cell_type": "code",
   "execution_count": 472,
   "metadata": {
    "collapsed": false
   },
   "outputs": [
    {
     "data": {
      "text/plain": [
       "0.077406"
      ]
     },
     "execution_count": 472,
     "metadata": {},
     "output_type": "execute_result"
    }
   ],
   "source": [
    "#e1w1(30,1000000) #        0.07763"
   ]
  },
  {
   "cell_type": "code",
   "execution_count": null,
   "metadata": {
    "collapsed": true
   },
   "outputs": [],
   "source": []
  },
  {
   "cell_type": "code",
   "execution_count": null,
   "metadata": {
    "collapsed": true
   },
   "outputs": [],
   "source": []
  },
  {
   "cell_type": "code",
   "execution_count": 207,
   "metadata": {
    "collapsed": false
   },
   "outputs": [
    {
     "ename": "IndentationError",
     "evalue": "unexpected indent (<ipython-input-207-0e88ee3560d8>, line 4)",
     "output_type": "error",
     "traceback": [
      "\u001b[0;36m  File \u001b[0;32m\"<ipython-input-207-0e88ee3560d8>\"\u001b[0;36m, line \u001b[0;32m4\u001b[0m\n\u001b[0;31m    draws = np.random.randint(0, high = 2, size = samples*moves*dim).reshape((samples,moves,dim))\u001b[0m\n\u001b[0m    ^\u001b[0m\n\u001b[0;31mIndentationError\u001b[0m\u001b[0;31m:\u001b[0m unexpected indent\n"
     ]
    }
   ],
   "source": [
    "#Obsolete... only 2 random categories, not 4\n",
    "\n",
    "#def randWalk(moves,samples):\n",
    "    draws = np.random.randint(0, high = 2, size = samples*moves*dim).reshape((samples,moves,dim))\n",
    "    xPos = np.cumsum(np.where(draws[:,:,0] == 1, 1, -1), axis=1)\n",
    "    yPos = np.cumsum(np.where(draws[:,:,1] == 1, 1, -1), axis=1)\n",
    "#    print 'hi',xPos\n",
    "    return xPos, yPos\n",
    "    \n",
    "\n",
    "x, y = randWalk(moves=10,samples=5)\n",
    "x10 = x[:,9]; y10 = y[:,9]\n",
    "print x10, y10\n",
    "print np.square(x10), np.square(y10)\n",
    "print np.square(x10) + np.square(y10)\n",
    "m10 = np.sqrt(np.square(x10) + np.square(y10))\n",
    "len(m10[m10>3])/float(len(m10))\n",
    "\n",
    "#Okay, now how do I get the distances between these?"
   ]
  },
  {
   "cell_type": "code",
   "execution_count": null,
   "metadata": {
    "collapsed": true
   },
   "outputs": [],
   "source": []
  },
  {
   "cell_type": "code",
   "execution_count": null,
   "metadata": {
    "collapsed": true
   },
   "outputs": [],
   "source": []
  },
  {
   "cell_type": "code",
   "execution_count": 481,
   "metadata": {
    "collapsed": false
   },
   "outputs": [
    {
     "data": {
      "text/plain": [
       "['hi', 'there']"
      ]
     },
     "execution_count": 481,
     "metadata": {},
     "output_type": "execute_result"
    }
   ],
   "source": [
    "s = 'hi there'\n",
    "s.split()"
   ]
  },
  {
   "cell_type": "code",
   "execution_count": null,
   "metadata": {
    "collapsed": true
   },
   "outputs": [],
   "source": []
  }
 ],
 "metadata": {
  "kernelspec": {
   "display_name": "Python 2",
   "language": "python",
   "name": "python2"
  },
  "language_info": {
   "codemirror_mode": {
    "name": "ipython",
    "version": 2
   },
   "file_extension": ".py",
   "mimetype": "text/x-python",
   "name": "python",
   "nbconvert_exporter": "python",
   "pygments_lexer": "ipython2",
   "version": "2.7.10"
  }
 },
 "nbformat": 4,
 "nbformat_minor": 0
}
