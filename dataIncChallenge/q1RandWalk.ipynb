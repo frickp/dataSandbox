{
 "cells": [
  {
   "cell_type": "markdown",
   "metadata": {},
   "source": [
    "Should make a pandas dataframe where each run has a unique ID, and position is tracked for each interval\n",
    "\n",
    "1. While loop faster than for loop\n",
    "2. Is zero a possible value? Is one?\n",
    "3. If it is at the boundary, how can I keep it from iterating? Continue works..."
   ]
  },
  {
   "cell_type": "code",
   "execution_count": 7,
   "metadata": {
    "collapsed": false
   },
   "outputs": [],
   "source": [
    "%matplotlib inline\n",
    "import numpy as np\n",
    "import pandas as pd\n",
    "import matplotlib.pyplot as plt\n",
    "#from sklearn.utils import resample"
   ]
  },
  {
   "cell_type": "code",
   "execution_count": 8,
   "metadata": {
    "collapsed": false
   },
   "outputs": [
    {
     "name": "stdout",
     "output_type": "stream",
     "text": [
      "0.610793991072\n",
      "0.858712606679\n",
      "0.756074935055\n",
      "0.609209863451\n",
      "0.502290260203\n",
      "0.305804335177\n",
      "0.351816914735\n",
      "0.014076213794\n",
      "0.607481083268\n",
      "0.522354132347\n"
     ]
    }
   ],
   "source": [
    "#Core function\n",
    "x, y = 0,0\n",
    "i = 1\n",
    "df = pd.DataFrame(columns=['time','x','y'])\n",
    "while i <= 10 :\n",
    "    r = np.random.random_sample()\n",
    "    if r < 0.25:\n",
    "        y += 1 \n",
    "        df.loc[i]=[i, x, y]\n",
    "    if r > 0.25 and r < 0.5:\n",
    "        y -= 1\n",
    "        df.loc[i]=[i, x, y]\n",
    "        #print x, y\n",
    "    if r > 0.5 and r < 0.75:\n",
    "        x += 1\n",
    "        df.loc[i]=[i, x, y]\n",
    "        #print x, y\n",
    "    if r > 0.75:\n",
    "        x -= 1\n",
    "        df.loc[i]=[i, x, y]\n",
    "        #print x, y\n",
    "    print r\n",
    "    i += 1\n",
    "    "
   ]
  },
  {
   "cell_type": "code",
   "execution_count": 9,
   "metadata": {
    "collapsed": true
   },
   "outputs": [],
   "source": [
    "# This function returns a data frame of the distances after \"t\" draws\n",
    "\n",
    "def randWalk(t):\n",
    "    x, y = 0, 0\n",
    "    i = 1\n",
    "    df = pd.DataFrame(columns=['time','x','y'])\n",
    "    while i <= t:\n",
    "        r = np.random.random_sample()\n",
    "        if r < 0.25:\n",
    "            y += 1 \n",
    "            df.loc[i]=[i, x, y]\n",
    "        if r > 0.25 and r < 0.5:\n",
    "            y -= 1\n",
    "            df.loc[i]=[i, x, y]\n",
    "            #print x, y\n",
    "        if r > 0.5 and r < 0.75:\n",
    "            x += 1\n",
    "            df.loc[i]=[i, x, y]\n",
    "            #print x, y\n",
    "        if r > 0.75:\n",
    "            x -= 1\n",
    "            df.loc[i]=[i, x, y]\n",
    "        i += 1\n",
    "    return df"
   ]
  },
  {
   "cell_type": "code",
   "execution_count": 10,
   "metadata": {
    "collapsed": false
   },
   "outputs": [],
   "source": [
    "#randWalk(10)"
   ]
  },
  {
   "cell_type": "code",
   "execution_count": 11,
   "metadata": {
    "collapsed": false
   },
   "outputs": [
    {
     "data": {
      "text/plain": [
       "0.45544554455445546"
      ]
     },
     "execution_count": 11,
     "metadata": {},
     "output_type": "execute_result"
    }
   ],
   "source": [
    "# This function returns the fraction of times that distance >= 3 on the tenth move,\n",
    "# over a certain number (numDraw) of random walks\n",
    "\n",
    "def greaterThree(numDraws):\n",
    "    j = 1\n",
    "    countCrow3 = 0 \n",
    "    while j <= numDraws: \n",
    "        m10 = randWalk(10).loc[10]\n",
    "        dist = np.sqrt(np.square(m10['x']) + np.square(m10['y']))\n",
    "        if dist >= 3:\n",
    "            countCrow3 += 1\n",
    "        j += 1\n",
    "    return countCrow3/float(j)\n",
    "greaterThree(100)\n"
   ]
  },
  {
   "cell_type": "code",
   "execution_count": 12,
   "metadata": {
    "collapsed": false
   },
   "outputs": [],
   "source": [
    "#print greaterThree(10000)\n",
    "#print greaterThree(10000)\n",
    "#print greaterThree(10000)"
   ]
  },
  {
   "cell_type": "code",
   "execution_count": 13,
   "metadata": {
    "collapsed": false
   },
   "outputs": [
    {
     "data": {
      "text/html": [
       "<div>\n",
       "<table border=\"1\" class=\"dataframe\">\n",
       "  <thead>\n",
       "    <tr style=\"text-align: right;\">\n",
       "      <th></th>\n",
       "      <th>greaterTen</th>\n",
       "    </tr>\n",
       "  </thead>\n",
       "  <tbody>\n",
       "    <tr>\n",
       "      <th>0</th>\n",
       "      <td>0.166667</td>\n",
       "    </tr>\n",
       "    <tr>\n",
       "      <th>1</th>\n",
       "      <td>0.166667</td>\n",
       "    </tr>\n",
       "    <tr>\n",
       "      <th>2</th>\n",
       "      <td>0.333333</td>\n",
       "    </tr>\n",
       "    <tr>\n",
       "      <th>3</th>\n",
       "      <td>0.666667</td>\n",
       "    </tr>\n",
       "    <tr>\n",
       "      <th>4</th>\n",
       "      <td>0.333333</td>\n",
       "    </tr>\n",
       "  </tbody>\n",
       "</table>\n",
       "</div>"
      ],
      "text/plain": [
       "   greaterTen\n",
       "0    0.166667\n",
       "1    0.166667\n",
       "2    0.333333\n",
       "3    0.666667\n",
       "4    0.333333"
      ]
     },
     "execution_count": 13,
     "metadata": {},
     "output_type": "execute_result"
    }
   ],
   "source": [
    "distTen = pd.DataFrame(columns=['greaterTen'])\n",
    "k = 0\n",
    "\n",
    "while k < 10:\n",
    "    n = greaterThree(5)\n",
    "    distTen.loc[k] = n\n",
    "    #print greaterTen(5)\n",
    "    k += 1\n",
    "distTen.head()"
   ]
  },
  {
   "cell_type": "code",
   "execution_count": 14,
   "metadata": {
    "collapsed": true
   },
   "outputs": [],
   "source": [
    "#Make this into a function\n",
    "def distG3(rep,numDraws):\n",
    "    distTen = pd.DataFrame(columns=['greaterTen'])\n",
    "    k = 0\n",
    "    while k < rep:\n",
    "        n = greaterThree(numDraws)\n",
    "        distTen.loc[k] = n\n",
    "        k += 1\n",
    "    return distTen"
   ]
  },
  {
   "cell_type": "code",
   "execution_count": 15,
   "metadata": {
    "collapsed": false
   },
   "outputs": [],
   "source": [
    "g3_50_10 = distG3(rep=50,numDraws=10)\n",
    "#g3_50_1000 = distG3(rep=50,numDraws=50)"
   ]
  },
  {
   "cell_type": "code",
   "execution_count": 16,
   "metadata": {
    "collapsed": false
   },
   "outputs": [
    {
     "data": {
      "image/png": "[encoded data removed]",
      "text/plain": [
       "<matplotlib.figure.Figure at 0x107796390>"
      ]
     },
     "metadata": {},
     "output_type": "display_data"
    }
   ],
   "source": [
    "#g3_5050.hist()\n",
    "g3_50_10.hist()\n",
    "plt.show()"
   ]
  },
  {
   "cell_type": "code",
   "execution_count": 17,
   "metadata": {
    "collapsed": false
   },
   "outputs": [
    {
     "data": {
      "text/plain": [
       "2054"
      ]
     },
     "execution_count": 17,
     "metadata": {},
     "output_type": "execute_result"
    }
   ],
   "source": [
    "y = np.random.random_sample(20000)\n",
    "len(y[y>0.9])"
   ]
  },
  {
   "cell_type": "code",
   "execution_count": 18,
   "metadata": {
    "collapsed": false
   },
   "outputs": [
    {
     "data": {
      "text/plain": [
       "0.41527431550266947"
      ]
     },
     "execution_count": 18,
     "metadata": {},
     "output_type": "execute_result"
    }
   ],
   "source": [
    "np.random.random_sample()"
   ]
  },
  {
   "cell_type": "code",
   "execution_count": 19,
   "metadata": {
    "collapsed": false
   },
   "outputs": [
    {
     "name": "stdout",
     "output_type": "stream",
     "text": [
      "[0 0 1 1 1 1 0 1 0 1 1 0 1 0 0 1 1 0 0 1 0 0 0 1 0 0 0 0 1 0 0 1 1 0 0 1 0\n",
      " 1 1 0 0 1 0 1 0 1 1 0 1 0 0 0 0 0 1 0 0 1 1 0 0 1 0 0 0 1 1 0 1 0 0 0 0 1\n",
      " 1 0 0 0 0 1 0 1 0 0 1 1 0 1 1 1 1 0 1 0 0 1 1 1 0 0]\n",
      "[-1 -1  1  1  1  1 -1  1 -1  1  1 -1  1 -1 -1  1  1 -1 -1  1 -1 -1 -1  1 -1\n",
      " -1 -1 -1  1 -1 -1  1  1 -1 -1  1 -1  1  1 -1 -1  1 -1  1 -1  1  1 -1  1 -1\n",
      " -1 -1 -1 -1  1 -1 -1  1  1 -1 -1  1 -1 -1 -1  1  1 -1  1 -1 -1 -1 -1  1  1\n",
      " -1 -1 -1 -1  1 -1  1 -1 -1  1  1 -1  1  1  1  1 -1  1 -1 -1  1  1  1 -1 -1]\n",
      "[ -1  -2  -1   0   1   2   1   2   1   2   3   2   3   2   1   2   3   2\n",
      "   1   2   1   0  -1   0  -1  -2  -3  -4  -3  -4  -5  -4  -3  -4  -5  -4\n",
      "  -5  -4  -3  -4  -5  -4  -5  -4  -5  -4  -3  -4  -3  -4  -5  -6  -7  -8\n",
      "  -7  -8  -9  -8  -7  -8  -9  -8  -9 -10 -11 -10  -9 -10  -9 -10 -11 -12\n",
      " -13 -12 -11 -12 -13 -14 -15 -14 -15 -14 -15 -16 -15 -14 -15 -14 -13 -12\n",
      " -11 -12 -11 -12 -13 -12 -11 -10 -11 -12]\n",
      "[ 1  2  1  2  1  0 -1 -2 -1 -2 -3 -4 -3 -4 -5 -4 -3 -4 -3 -4 -5 -6 -5 -4 -5\n",
      " -4 -5 -4 -3 -2 -1  0  1  2  1  0  1  0  1  0 -1 -2 -3 -4 -3 -4 -3 -2 -1 -2\n",
      " -1  0 -1 -2 -3 -2 -3 -2 -1  0 -1  0  1  0  1  2  1  0 -1  0  1  2  1  0  1\n",
      "  0 -1 -2 -3 -4 -5 -4 -3 -4 -3 -2 -3 -4 -5 -4 -3 -4 -5 -4 -5 -4 -5 -6 -7 -8]\n"
     ]
    }
   ],
   "source": [
    "#This is the good stuff!\n",
    "\n",
    "time = 100\n",
    "xRand = np.random.randint(0, high = 2, size = time)\n",
    "yRand = np.random.randint(0, high = 2, size = time)\n",
    "print xRand\n",
    "xSteps = np.where(xRand == 1, 1, -1)\n",
    "ySteps = np.where(yRand == 1, 1, -1)\n",
    "print xSteps\n",
    "xPos = np.cumsum(xSteps)\n",
    "yPos = np.cumsum(ySteps)\n",
    "print xPos\n",
    "print yPos"
   ]
  },
  {
   "cell_type": "code",
   "execution_count": 20,
   "metadata": {
    "collapsed": false
   },
   "outputs": [
    {
     "name": "stdout",
     "output_type": "stream",
     "text": [
      "[1 0 0 0 1 1 1 1 0 1 1 0 1 0 0 1 1 0 0 0 0 1 0 1 0 0 0 1 0 0 1 0 0 0 1 0 0\n",
      " 1 1 0 1 0 1 1 0 1 0 1 0 1 0 1 0 0 0 0 1 0 0 1 1 0 0 0 0 0 1 1 0 1 0 1 0 0\n",
      " 1 1 0 1 1 1 0 0 1 0 1 1 0 0 0 1 0 0 0 1 1 1 1 0 1 0]\n",
      "[  1   0  -1  -2  -1   0   1   2   1   2   3   2   3   2   1   2   3   2\n",
      "   1   0  -1   0  -1   0  -1  -2  -3  -2  -3  -4  -3  -4  -5  -6  -5  -6\n",
      "  -7  -6  -5  -6  -5  -6  -5  -4  -5  -4  -5  -4  -5  -4  -5  -4  -5  -6\n",
      "  -7  -8  -7  -8  -9  -8  -7  -8  -9 -10 -11 -12 -11 -10 -11 -10 -11 -10\n",
      " -11 -12 -11 -10 -11 -10  -9  -8  -9 -10  -9 -10  -9  -8  -9 -10 -11 -10\n",
      " -11 -12 -13 -12 -11 -10  -9 -10  -9 -10]\n",
      "[   1    1    0   -2   -3   -3   -2    0    1    3    6    8   11   13   14\n",
      "   16   19   21   22   22   21   21   20   20   19   17   14   12    9    5\n",
      "    2   -2   -7  -13  -18  -24  -31  -37  -42  -48  -53  -59  -64  -68  -73\n",
      "  -77  -82  -86  -91  -95 -100 -104 -109 -115 -122 -130 -137 -145 -154 -162\n",
      " -169 -177 -186 -196 -207 -219 -230 -240 -251 -261 -272 -282 -293 -305 -316\n",
      " -326 -337 -347 -356 -364 -373 -383 -392 -402 -411 -419 -428 -438 -449 -459\n",
      " -470 -482 -495 -507 -518 -528 -537 -547 -556 -566]\n",
      "[   1    3    4    6    7    7    6    6    7    9   10   12   13   13   12\n",
      "   10    9    7    6    6    5    3    2    0   -1   -3   -4   -6   -9  -13\n",
      "  -18  -22  -25  -29  -34  -40  -45  -51  -56  -62  -67  -71  -74  -78  -81\n",
      "  -85  -90  -94  -99 -103 -106 -108 -111 -115 -120 -126 -133 -141 -148 -154\n",
      " -161 -167 -172 -178 -183 -189 -196 -204 -211 -219 -228 -236 -243 -249 -254\n",
      " -258 -261 -265 -270 -274 -279 -283 -286 -290 -295 -301 -308 -314 -321 -329\n",
      " -336 -342 -347 -351 -354 -356 -357 -359 -360 -362]\n"
     ]
    }
   ],
   "source": [
    "time = 100\n",
    "xRand = np.random.randint(0, high = 2, size = time)\n",
    "yRand = np.random.randint(0, high = 2, size = time)\n",
    "print xRand\n",
    "xSteps = np.cumsum(np.where(xRand == 1, 1, -1))\n",
    "ySteps = np.cumsum(np.where(yRand == 1, 1, -1))\n",
    "print xSteps\n",
    "xPos = np.cumsum(xSteps)\n",
    "yPos = np.cumsum(ySteps)\n",
    "print xPos\n",
    "print yPos"
   ]
  },
  {
   "cell_type": "code",
   "execution_count": 21,
   "metadata": {
    "collapsed": false
   },
   "outputs": [
    {
     "name": "stdout",
     "output_type": "stream",
     "text": [
      "[1 2 1 2 3 4 3 4 5 6]\n",
      "[ 1  2  3  2  1  0 -1  0 -1  0]\n"
     ]
    }
   ],
   "source": [
    "def randWalk(time):\n",
    "    xRand = np.random.randint(0, high = 2, size = time) #simulate binary outcome\n",
    "    yRand = np.random.randint(0, high = 2, size = time)\n",
    "    xPos = np.cumsum(np.where(xRand == 1, 1, -1))\n",
    "    yPos = np.cumsum(np.where(yRand == 1, 1, -1))\n",
    "    return xPos, yPos\n",
    "a,b = randWalk(10)\n",
    "print a\n",
    "print b"
   ]
  },
  {
   "cell_type": "code",
   "execution_count": 22,
   "metadata": {
    "collapsed": false
   },
   "outputs": [
    {
     "data": {
      "text/plain": [
       "array([[  1.28241527e-01,   1.89018049e-01,   8.35489167e-01,\n",
       "          1.96120187e-01,   6.43703968e-02,   4.06336726e-01],\n",
       "       [  2.19218527e-01,   2.80052885e-01,   9.95339386e-01,\n",
       "          8.73513853e-01,   5.17374812e-01,   1.82030019e-01],\n",
       "       [  1.55847661e-01,   8.27074932e-01,   5.80673082e-02,\n",
       "          3.92835229e-01,   8.23279904e-01,   6.99699921e-01],\n",
       "       [  2.30272180e-01,   4.30818810e-01,   9.31255357e-01,\n",
       "          3.99171150e-01,   8.37453394e-01,   2.40088229e-01],\n",
       "       [  5.06955015e-01,   9.88633458e-01,   8.70913310e-01,\n",
       "          2.04126082e-01,   5.02636581e-01,   1.81659577e-01],\n",
       "       [  8.03522854e-01,   5.31180157e-03,   7.94239718e-01,\n",
       "          8.04257655e-01,   1.05885043e-05,   9.80349007e-01]])"
      ]
     },
     "execution_count": 22,
     "metadata": {},
     "output_type": "execute_result"
    }
   ],
   "source": [
    "np.random.rand(6,6)"
   ]
  },
  {
   "cell_type": "code",
   "execution_count": 23,
   "metadata": {
    "collapsed": false
   },
   "outputs": [
    {
     "data": {
      "text/plain": [
       "0.49504950495049505"
      ]
     },
     "execution_count": 23,
     "metadata": {},
     "output_type": "execute_result"
    }
   ],
   "source": [
    "# This function returns the fraction of times that distance >= 3 on the tenth move,\n",
    "# over a certain number (numDraw) of random walks\n",
    "\n",
    "# I think what I need to do here is to create a matrix. One dimension is the draws for the\n",
    "# current walk. The second dimension is the draws for every subsequent walk.\n",
    "\n",
    "def greaterThree(numDraws):\n",
    "    j = 1\n",
    "    countCrow3 = 0 \n",
    "    while j <= numDraws: \n",
    "        x, y = randWalk(numDraws)\n",
    "        x10, y10 = x[9], y[9]\n",
    "        dist = np.sqrt(np.square(x10) + np.square(y10))\n",
    "        if dist >= 3:\n",
    "            countCrow3 += 1\n",
    "        j += 1\n",
    "    return countCrow3/float(j)\n",
    "greaterThree(100)\n",
    "\n"
   ]
  },
  {
   "cell_type": "code",
   "execution_count": 24,
   "metadata": {
    "collapsed": false
   },
   "outputs": [],
   "source": [
    "max = 0.5\n",
    "while i < 10:\n",
    "    x = max(np.random.rand(50))\n",
    "    print x\n",
    "    if x > max:\n",
    "        x = max\n",
    "    i += 1\n",
    "\n"
   ]
  },
  {
   "cell_type": "code",
   "execution_count": 25,
   "metadata": {
    "collapsed": false
   },
   "outputs": [],
   "source": [
    "m = np.matrix(np.random.randn(50).reshape((5,10)))\n",
    "m = np.random.randn(50).reshape((5,10))\n",
    "#len(np.random.randn(50))"
   ]
  },
  {
   "cell_type": "code",
   "execution_count": 26,
   "metadata": {
    "collapsed": false
   },
   "outputs": [
    {
     "name": "stdout",
     "output_type": "stream",
     "text": [
      "[[4 5 6 4 7]\n",
      " [7 6 4 4 7]\n",
      " [6 7 4 5 6]]\n",
      "[[0 0 6 0 7]\n",
      " [7 6 0 0 7]\n",
      " [6 7 0 0 6]]\n"
     ]
    },
    {
     "data": {
      "text/plain": [
       "array([[ 0,  0,  1,  0, -1],\n",
       "       [-1,  1,  0,  0, -1],\n",
       "       [ 1, -1,  0,  0,  1]])"
      ]
     },
     "execution_count": 26,
     "metadata": {},
     "output_type": "execute_result"
    }
   ],
   "source": [
    "s = np.array([[4,5,6,4,7],\n",
    " [7, 6, 4, 4, 7],\n",
    " [6, 7, 4, 5, 6]]).reshape((3,5))\n",
    "print s\n",
    "s2 = np.where(s<6,0,s)\n",
    "print s2\n",
    "s2[s2 == np.max(s2)] = -1\n",
    "s2[s2 == np.max(s2)] = 1\n",
    "s2\n",
    "#np.where(s != 0 & s == 6,1,-1)\n",
    "#?np.where"
   ]
  },
  {
   "cell_type": "code",
   "execution_count": 27,
   "metadata": {
    "collapsed": false
   },
   "outputs": [
    {
     "data": {
      "text/plain": [
       "(array([[ 1,  1,  2,  2,  2],\n",
       "        [ 0,  1,  1,  1,  1],\n",
       "        [-1,  0, -1, -1, -1]]), array([[ 0,  1,  1,  2,  3],\n",
       "        [-1, -1, -2, -1, -2],\n",
       "        [ 0,  0,  0, -1,  0]]))"
      ]
     },
     "execution_count": 27,
     "metadata": {},
     "output_type": "execute_result"
    }
   ],
   "source": [
    "#This is most recent (1:45)\n",
    "\n",
    "#np.random.randint(0, high = 4, size = 100)\n",
    "def randWalk(moves,samples):\n",
    "    draws = np.random.randint(4, high = 8, size = samples*moves).reshape((samples,moves))\n",
    "    xSteps = np.where(draws<6,0,draws)\n",
    "    xSteps[xSteps == np.max(xSteps)] = -1\n",
    "    xSteps[xSteps == np.max(xSteps)] = 1\n",
    "    \n",
    "    ySteps = np.where(draws>5,0,draws)\n",
    "    ySteps[ySteps == np.max(ySteps)] = -1\n",
    "    ySteps[ySteps == np.max(ySteps)] = 1\n",
    "    \n",
    "    xPos = np.cumsum(xSteps, axis=1)\n",
    "    yPos = np.cumsum(ySteps, axis=1)\n",
    "    return xPos, yPos\n",
    "    \n",
    "randWalk(5,3)"
   ]
  },
  {
   "cell_type": "code",
   "execution_count": 5,
   "metadata": {
    "collapsed": false
   },
   "outputs": [],
   "source": [
    "# Question 1.1:\n",
    "\n",
    "def crow3(moves,samples):\n",
    "    x, y = randWalk(moves=moves,samples=samples)\n",
    "    x10 = x[:,9]; y10 = y[:,9] #get the x,y position after the tenth step\n",
    "    m10 = np.sqrt(np.square(x10) + np.square(y10)) #calculate the distance from origin \n",
    "    d = len(m10[m10>3])/float(len(m10)) #return the probability\n",
    "    return d\n",
    "\n"
   ]
  },
  {
   "cell_type": "code",
   "execution_count": null,
   "metadata": {
    "collapsed": false
   },
   "outputs": [],
   "source": [
    "# crow3(10,200000)   0.452265 \n",
    "# crow3(10,2000000)  0.4541365\n",
    "# crow3(10,20000000) 0.4541023\n",
    "#crow3(10,2000000000)"
   ]
  },
  {
   "cell_type": "code",
   "execution_count": null,
   "metadata": {
    "collapsed": false
   },
   "outputs": [],
   "source": [
    "# Question 1.2: \n",
    "\n",
    "def ever5(moves,samples):\n",
    "    x, y = randWalk(moves=moves,samples=samples)\n",
    "    distMat = []\n",
    "    for i in range(10):\n",
    "        xi = x[:,i]; yi = y[:,i] #get the x,y position after the tenth step\n",
    "        mi = np.sqrt(np.square(xi) + np.square(yi)) #calculate the distance from origin \n",
    "        distMat.append(mi)\n",
    "    distMat = np.matrix(distMat)\n",
    "    maxDist = np.amax(distMat,axis=0)\n",
    "    return maxDist[maxDist>=5].shape[1]/float(maxDist.shape[1])\n"
   ]
  },
  {
   "cell_type": "code",
   "execution_count": null,
   "metadata": {
    "collapsed": false
   },
   "outputs": [],
   "source": [
    "#ever5(moves=10, samples=50000000)"
   ]
  },
  {
   "cell_type": "code",
   "execution_count": 208,
   "metadata": {
    "collapsed": false
   },
   "outputs": [],
   "source": [
    "# Question 1.3 \n",
    "# What is the probability that the tourist is ever east of East 1st Avenue \n",
    "# but ends up west of West 1st Avenue in 10 moves?\n",
    "\n",
    "# To find this, I should look for rows where x is < -1 and ends at > 1\n",
    "\n",
    "def e1w1(moves,samples):\n",
    "    x, y = randWalk(moves=moves,samples=samples)\n",
    "    e1 = np.amin(x,axis=1) < -1\n",
    "    w1 =  x[:,9] > 1\n",
    "    ew = e1 & w1\n",
    "    return len(ew[ew==True])/float(len(ew))\n",
    "    \n",
    "#e1w1(10,10)"
   ]
  },
  {
   "cell_type": "code",
   "execution_count": null,
   "metadata": {
    "collapsed": false
   },
   "outputs": [],
   "source": [
    "#e1w1(10,1000000000)"
   ]
  },
  {
   "cell_type": "code",
   "execution_count": 473,
   "metadata": {
    "collapsed": false
   },
   "outputs": [],
   "source": [
    "# Q1.4\n",
    "# What is the average number of moves until the first time the tourist is at least 10\n",
    "# city blocks (as the crow flies) from Broadway and Broadway.\n",
    "\n",
    "def til10(moves,samples,maxVal):\n",
    "    x, y = randWalk(moves=moves,samples=samples)\n",
    "    distMat = []\n",
    "    for i in range(moves):\n",
    "        xi = x[:,i]; yi = y[:,i] #get the x,y position after the tenth step\n",
    "        mi = np.sqrt(np.square(xi) + np.square(yi)) #calculate the distance from origin \n",
    "        distMat.append(mi)\n",
    "    distMat = np.matrix(distMat)\n",
    "    #print distMat\n",
    "    normDistMat = np.where(distMat >= maxVal,maxVal,distMat)\n",
    "    dMax = np.max(normDistMat, axis=0)\n",
    "    #print dMax == 10\n",
    "    #print dMax\n",
    "    dMoves = np.argmax(normDistMat, axis=0)\n",
    "    #print 'number of steps:'\n",
    "    #print dMoves\n",
    "    #print 'Keep only walks that exceed 10'\n",
    "    filtMoves = dMoves[dMax == maxVal]\n",
    "    #print filtMoves\n",
    "    print np.mean(filtMoves)\n"
   ]
  },
  {
   "cell_type": "code",
   "execution_count": 474,
   "metadata": {
    "collapsed": false
   },
   "outputs": [
    {
     "name": "stdout",
     "output_type": "stream",
     "text": [
      "103.81312\n"
     ]
    }
   ],
   "source": [
    "til10(moves=1000,samples=50000,maxVal=10)       #103.81312\n"
   ]
  },
  {
   "cell_type": "code",
   "execution_count": 477,
   "metadata": {
    "collapsed": false
   },
   "outputs": [
    {
     "name": "stdout",
     "output_type": "stream",
     "text": [
      "3541.1\n"
     ]
    }
   ],
   "source": [
    "# til10(moves=100000,samples=500,maxVal=60)     #3541.1"
   ]
  },
  {
   "cell_type": "code",
   "execution_count": 398,
   "metadata": {
    "collapsed": true
   },
   "outputs": [],
   "source": [
    "# q 1.5: What is the probability that the tourist is ever at least 10 city blocks \n",
    "# (as the crow flies) from Broadway and Broadway within 60 moves?\n",
    "\n",
    "\n",
    "def til10within60(moves,samples):\n",
    "    x, y = randWalk(moves=moves,samples=samples)\n",
    "    distMat = []\n",
    "    for i in range(moves):\n",
    "        xi = x[:,i]; yi = y[:,i] #get the x,y position after the tenth step\n",
    "        mi = np.sqrt(np.square(xi) + np.square(yi)) #calculate the distance from origin \n",
    "        distMat.append(mi)\n",
    "    distMat = np.matrix(distMat)\n",
    "    #print distMat\n",
    "    normDistMat = np.where(distMat>=10,10,distMat)\n",
    "    #print normDistMat\n",
    "    #maxDist = np.amax(distMat,axis=0)\n",
    "    #print maxDist\n",
    "    #print 'argmax'\n",
    "    dMax = np.max(normDistMat,axis=0)\n",
    "    #print dMax == 10\n",
    "    #print dMax\n",
    "    dMoves = np.argmax(normDistMat,axis=0)\n",
    "    #print normDistMat.shape\n",
    "    #print 'number of steps:'\n",
    "    #print dMoves\n",
    "    #print 'Keep only walks that exceed 10'\n",
    "    filtMoves = dMoves[dMax == 10]\n",
    "    return len(filtMoves)/float(len(dMoves))\n",
    "    #print np.mean(filtMoves)\n",
    "\n",
    "\n"
   ]
  },
  {
   "cell_type": "code",
   "execution_count": 400,
   "metadata": {
    "collapsed": false
   },
   "outputs": [
    {
     "data": {
      "text/plain": [
       "0.318354"
      ]
     },
     "execution_count": 400,
     "metadata": {},
     "output_type": "execute_result"
    }
   ],
   "source": [
    "til10within60(60,1000000) "
   ]
  },
  {
   "cell_type": "code",
   "execution_count": 449,
   "metadata": {
    "collapsed": false
   },
   "outputs": [],
   "source": [
    "# q 1.6: What is the probability that the tourist is at least 10 city blocks \n",
    "# (as the crow flies) from Broadway and Broadway after 60 moves?\n",
    "\n",
    "def til10after60(moves,samples):\n",
    "    x, y = randWalk(moves=moves,samples=samples)\n",
    "    distMat = []\n",
    "    for i in range(moves):\n",
    "        xi = x[:,i]; yi = y[:,i] #get the x,y position after the tenth step\n",
    "        mi = np.sqrt(np.square(xi) + np.square(yi)) #calculate the distance from origin \n",
    "        distMat.append(mi)\n",
    "    distMat = np.matrix(distMat)\n",
    "    normDistMat = np.where(distMat >= 10,10,distMat)\n",
    "    m60 = normDistMat[59,:]    \n",
    "    return np.count_nonzero(m60 == 10)/float(samples)\n"
   ]
  },
  {
   "cell_type": "code",
   "execution_count": 458,
   "metadata": {
    "collapsed": false
   },
   "outputs": [
    {
     "data": {
      "text/plain": [
       "0.20678"
      ]
     },
     "execution_count": 458,
     "metadata": {},
     "output_type": "execute_result"
    }
   ],
   "source": [
    "# til10after60(moves=60,samples=100000)   0.20678"
   ]
  },
  {
   "cell_type": "code",
   "execution_count": 470,
   "metadata": {
    "collapsed": false
   },
   "outputs": [],
   "source": [
    "# q 1.7 What is the probability that the tourist is ever east of East 1st Avenue \n",
    "# but ends up west of West 1st Avenue in 30 moves?\n",
    "\n",
    "# Question 1.3 \n",
    "# What is the probability that the tourist is ever east of East 1st Avenue \n",
    "# but ends up west of West 1st Avenue in 10 moves?\n",
    "\n",
    "# To find this, I should look for rows where x is < -1 and ends at > 1\n",
    "\n",
    "def e1w1(moves,samples):\n",
    "    x, y = randWalk(moves=moves,samples=samples)\n",
    "    e1 = np.amin(x,axis=1) < -1\n",
    "    w1 =  x[:,29] > 1\n",
    "    ew = e1 & w1\n",
    "    return len(ew[ew==True])/float(len(ew))\n",
    "    \n"
   ]
  },
  {
   "cell_type": "code",
   "execution_count": 472,
   "metadata": {
    "collapsed": false
   },
   "outputs": [
    {
     "data": {
      "text/plain": [
       "0.077406"
      ]
     },
     "execution_count": 472,
     "metadata": {},
     "output_type": "execute_result"
    }
   ],
   "source": [
    "#e1w1(30,1000000) #        0.07763"
   ]
  },
  {
   "cell_type": "code",
   "execution_count": null,
   "metadata": {
    "collapsed": true
   },
   "outputs": [],
   "source": []
  },
  {
   "cell_type": "code",
   "execution_count": null,
   "metadata": {
    "collapsed": true
   },
   "outputs": [],
   "source": []
  },
  {
   "cell_type": "code",
   "execution_count": 207,
   "metadata": {
    "collapsed": false
   },
   "outputs": [
    {
     "ename": "IndentationError",
     "evalue": "unexpected indent (<ipython-input-207-0e88ee3560d8>, line 4)",
     "output_type": "error",
     "traceback": [
      "\u001b[0;36m  File \u001b[0;32m\"<ipython-input-207-0e88ee3560d8>\"\u001b[0;36m, line \u001b[0;32m4\u001b[0m\n\u001b[0;31m    draws = np.random.randint(0, high = 2, size = samples*moves*dim).reshape((samples,moves,dim))\u001b[0m\n\u001b[0m    ^\u001b[0m\n\u001b[0;31mIndentationError\u001b[0m\u001b[0;31m:\u001b[0m unexpected indent\n"
     ]
    }
   ],
   "source": [
    "#Obsolete... only 2 random categories, not 4\n",
    "\n",
    "#def randWalk(moves,samples):\n",
    "    draws = np.random.randint(0, high = 2, size = samples*moves*dim).reshape((samples,moves,dim))\n",
    "    xPos = np.cumsum(np.where(draws[:,:,0] == 1, 1, -1), axis=1)\n",
    "    yPos = np.cumsum(np.where(draws[:,:,1] == 1, 1, -1), axis=1)\n",
    "#    print 'hi',xPos\n",
    "    return xPos, yPos\n",
    "    \n",
    "\n",
    "x, y = randWalk(moves=10,samples=5)\n",
    "x10 = x[:,9]; y10 = y[:,9]\n",
    "print x10, y10\n",
    "print np.square(x10), np.square(y10)\n",
    "print np.square(x10) + np.square(y10)\n",
    "m10 = np.sqrt(np.square(x10) + np.square(y10))\n",
    "len(m10[m10>3])/float(len(m10))\n",
    "\n",
    "#Okay, now how do I get the distances between these?"
   ]
  },
  {
   "cell_type": "code",
   "execution_count": null,
   "metadata": {
    "collapsed": true
   },
   "outputs": [],
   "source": []
  },
  {
   "cell_type": "code",
   "execution_count": null,
   "metadata": {
    "collapsed": true
   },
   "outputs": [],
   "source": []
  },
  {
   "cell_type": "code",
   "execution_count": 481,
   "metadata": {
    "collapsed": false
   },
   "outputs": [
    {
     "data": {
      "text/plain": [
       "['hi', 'there']"
      ]
     },
     "execution_count": 481,
     "metadata": {},
     "output_type": "execute_result"
    }
   ],
   "source": [
    "s = 'hi there'\n",
    "s.split()"
   ]
  },
  {
   "cell_type": "code",
   "execution_count": null,
   "metadata": {
    "collapsed": true
   },
   "outputs": [],
   "source": []
  }
 ],
 "metadata": {
  "kernelspec": {
   "display_name": "Python 2",
   "language": "python",
   "name": "python2"
  },
  "language_info": {
   "codemirror_mode": {
    "name": "ipython",
    "version": 2
   },
   "file_extension": ".py",
   "mimetype": "text/x-python",
   "name": "python",
   "nbconvert_exporter": "python",
   "pygments_lexer": "ipython2",
   "version": "2.7.10"
  }
 },
 "nbformat": 4,
 "nbformat_minor": 0
}
