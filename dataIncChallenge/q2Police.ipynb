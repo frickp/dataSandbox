{
 "cells": [
  {
   "cell_type": "code",
   "execution_count": 1,
   "metadata": {
    "collapsed": false
   },
   "outputs": [
    {
     "data": {
      "text/plain": [
       "u'/Users/Peter/git/dataSandbox/dataIncChallenge'"
      ]
     },
     "execution_count": 1,
     "metadata": {},
     "output_type": "execute_result"
    }
   ],
   "source": [
    "pwd"
   ]
  },
  {
   "cell_type": "code",
   "execution_count": 2,
   "metadata": {
    "collapsed": false
   },
   "outputs": [
    {
     "name": "stdout",
     "output_type": "stream",
     "text": [
      "311_Service_Requests_from_2010_to_Present.csv  q1RandWalk.ipynb                               q2Police.ipynb\r\n"
     ]
    }
   ],
   "source": [
    "ls"
   ]
  },
  {
   "cell_type": "code",
   "execution_count": 3,
   "metadata": {
    "collapsed": true
   },
   "outputs": [],
   "source": [
    "import pandas as pd"
   ]
  },
  {
   "cell_type": "code",
   "execution_count": 4,
   "metadata": {
    "collapsed": true
   },
   "outputs": [],
   "source": [
    "#df = pd.DataFrame.from_csv('311_Service_Requests_from_2010_to_Present.csv')"
   ]
  },
  {
   "cell_type": "code",
   "execution_count": 5,
   "metadata": {
    "collapsed": false
   },
   "outputs": [],
   "source": [
    "tp = pd.read_csv('311_Service_Requests_from_2010_to_Present.csv', iterator=True, chunksize=1000) # gives TextFileReader, which is iteratable with chunks of 1000 rows.\n",
    "df = pd.concat(tp, ignore_index=True)"
   ]
  },
  {
   "cell_type": "code",
   "execution_count": 10,
   "metadata": {
    "collapsed": false
   },
   "outputs": [
    {
     "data": {
      "text/html": [
       "<div>\n",
       "<table border=\"1\" class=\"dataframe\">\n",
       "  <thead>\n",
       "    <tr style=\"text-align: right;\">\n",
       "      <th></th>\n",
       "      <th>Unique Key</th>\n",
       "      <th>Created Date</th>\n",
       "      <th>Closed Date</th>\n",
       "      <th>Agency</th>\n",
       "      <th>Agency Name</th>\n",
       "      <th>Complaint Type</th>\n",
       "      <th>Descriptor</th>\n",
       "      <th>Location Type</th>\n",
       "      <th>Incident Zip</th>\n",
       "      <th>Incident Address</th>\n",
       "      <th>...</th>\n",
       "      <th>Bridge Highway Name</th>\n",
       "      <th>Bridge Highway Direction</th>\n",
       "      <th>Road Ramp</th>\n",
       "      <th>Bridge Highway Segment</th>\n",
       "      <th>Garage Lot Name</th>\n",
       "      <th>Ferry Direction</th>\n",
       "      <th>Ferry Terminal Name</th>\n",
       "      <th>Latitude</th>\n",
       "      <th>Longitude</th>\n",
       "      <th>Location</th>\n",
       "    </tr>\n",
       "  </thead>\n",
       "  <tbody>\n",
       "    <tr>\n",
       "      <th>0</th>\n",
       "      <td>31845504</td>\n",
       "      <td>10/28/2015 03:24:21 AM</td>\n",
       "      <td>NaN</td>\n",
       "      <td>NYPD</td>\n",
       "      <td>NYPD</td>\n",
       "      <td>Illegal Parking</td>\n",
       "      <td>Blocked Hydrant</td>\n",
       "      <td>Street/Sidewalk</td>\n",
       "      <td>11219</td>\n",
       "      <td>1101 OVINGTON AVENUE</td>\n",
       "      <td>...</td>\n",
       "      <td>NaN</td>\n",
       "      <td>NaN</td>\n",
       "      <td>NaN</td>\n",
       "      <td>NaN</td>\n",
       "      <td>NaN</td>\n",
       "      <td>NaN</td>\n",
       "      <td>NaN</td>\n",
       "      <td>40.626612</td>\n",
       "      <td>-74.007500</td>\n",
       "      <td>(40.62661172175207, -74.00750037666796)</td>\n",
       "    </tr>\n",
       "    <tr>\n",
       "      <th>1</th>\n",
       "      <td>31839078</td>\n",
       "      <td>10/28/2015 03:23:44 AM</td>\n",
       "      <td>10/28/2015 03:23:55 AM</td>\n",
       "      <td>DHS</td>\n",
       "      <td>Operations Unit - Department of Homeless Services</td>\n",
       "      <td>Homeless Person Assistance</td>\n",
       "      <td>No Status Call</td>\n",
       "      <td>NaN</td>\n",
       "      <td>10019</td>\n",
       "      <td>712 5 AVENUE</td>\n",
       "      <td>...</td>\n",
       "      <td>NaN</td>\n",
       "      <td>NaN</td>\n",
       "      <td>NaN</td>\n",
       "      <td>NaN</td>\n",
       "      <td>NaN</td>\n",
       "      <td>NaN</td>\n",
       "      <td>NaN</td>\n",
       "      <td>40.762495</td>\n",
       "      <td>-73.975193</td>\n",
       "      <td>(40.76249450483886, -73.9751932073919)</td>\n",
       "    </tr>\n",
       "    <tr>\n",
       "      <th>2</th>\n",
       "      <td>31857385</td>\n",
       "      <td>10/28/2015 03:17:19 AM</td>\n",
       "      <td>NaN</td>\n",
       "      <td>CHALL</td>\n",
       "      <td>CHALL</td>\n",
       "      <td>Opinion for the Mayor</td>\n",
       "      <td>HOUSING</td>\n",
       "      <td>NaN</td>\n",
       "      <td>NaN</td>\n",
       "      <td>NaN</td>\n",
       "      <td>...</td>\n",
       "      <td>NaN</td>\n",
       "      <td>NaN</td>\n",
       "      <td>NaN</td>\n",
       "      <td>1-1-1170054379</td>\n",
       "      <td>NaN</td>\n",
       "      <td>NaN</td>\n",
       "      <td>NaN</td>\n",
       "      <td>NaN</td>\n",
       "      <td>NaN</td>\n",
       "      <td>NaN</td>\n",
       "    </tr>\n",
       "    <tr>\n",
       "      <th>3</th>\n",
       "      <td>31840856</td>\n",
       "      <td>10/28/2015 03:14:37 AM</td>\n",
       "      <td>NaN</td>\n",
       "      <td>NYPD</td>\n",
       "      <td>New York City Police Department</td>\n",
       "      <td>Illegal Parking</td>\n",
       "      <td>Posted Parking Sign Violation</td>\n",
       "      <td>Street/Sidewalk</td>\n",
       "      <td>11230</td>\n",
       "      <td>NaN</td>\n",
       "      <td>...</td>\n",
       "      <td>NaN</td>\n",
       "      <td>NaN</td>\n",
       "      <td>NaN</td>\n",
       "      <td>NaN</td>\n",
       "      <td>NaN</td>\n",
       "      <td>NaN</td>\n",
       "      <td>NaN</td>\n",
       "      <td>40.613900</td>\n",
       "      <td>-73.969921</td>\n",
       "      <td>(40.61389964521426, -73.96992136456537)</td>\n",
       "    </tr>\n",
       "    <tr>\n",
       "      <th>4</th>\n",
       "      <td>31850288</td>\n",
       "      <td>10/28/2015 03:07:29 AM</td>\n",
       "      <td>NaN</td>\n",
       "      <td>DOHMH</td>\n",
       "      <td>Department of Health and Mental Hygiene</td>\n",
       "      <td>Rodent</td>\n",
       "      <td>Rat Sighting</td>\n",
       "      <td>1-2 Family Dwelling</td>\n",
       "      <td>11211</td>\n",
       "      <td>139 CONSELYEA STREET</td>\n",
       "      <td>...</td>\n",
       "      <td>NaN</td>\n",
       "      <td>NaN</td>\n",
       "      <td>NaN</td>\n",
       "      <td>NaN</td>\n",
       "      <td>NaN</td>\n",
       "      <td>NaN</td>\n",
       "      <td>NaN</td>\n",
       "      <td>40.715143</td>\n",
       "      <td>-73.945462</td>\n",
       "      <td>(40.71514277555003, -73.9454616607721)</td>\n",
       "    </tr>\n",
       "  </tbody>\n",
       "</table>\n",
       "<p>5 rows × 53 columns</p>\n",
       "</div>"
      ],
      "text/plain": [
       "   Unique Key            Created Date             Closed Date Agency  \\\n",
       "0    31845504  10/28/2015 03:24:21 AM                     NaN   NYPD   \n",
       "1    31839078  10/28/2015 03:23:44 AM  10/28/2015 03:23:55 AM    DHS   \n",
       "2    31857385  10/28/2015 03:17:19 AM                     NaN  CHALL   \n",
       "3    31840856  10/28/2015 03:14:37 AM                     NaN   NYPD   \n",
       "4    31850288  10/28/2015 03:07:29 AM                     NaN  DOHMH   \n",
       "\n",
       "                                         Agency Name  \\\n",
       "0                                               NYPD   \n",
       "1  Operations Unit - Department of Homeless Services   \n",
       "2                                              CHALL   \n",
       "3                    New York City Police Department   \n",
       "4            Department of Health and Mental Hygiene   \n",
       "\n",
       "               Complaint Type                     Descriptor  \\\n",
       "0             Illegal Parking                Blocked Hydrant   \n",
       "1  Homeless Person Assistance                 No Status Call   \n",
       "2       Opinion for the Mayor                        HOUSING   \n",
       "3             Illegal Parking  Posted Parking Sign Violation   \n",
       "4                      Rodent                   Rat Sighting   \n",
       "\n",
       "         Location Type Incident Zip      Incident Address  \\\n",
       "0      Street/Sidewalk        11219  1101 OVINGTON AVENUE   \n",
       "1                  NaN        10019          712 5 AVENUE   \n",
       "2                  NaN          NaN                   NaN   \n",
       "3      Street/Sidewalk        11230                   NaN   \n",
       "4  1-2 Family Dwelling        11211  139 CONSELYEA STREET   \n",
       "\n",
       "                    ...                    Bridge Highway Name  \\\n",
       "0                   ...                                    NaN   \n",
       "1                   ...                                    NaN   \n",
       "2                   ...                                    NaN   \n",
       "3                   ...                                    NaN   \n",
       "4                   ...                                    NaN   \n",
       "\n",
       "  Bridge Highway Direction Road Ramp Bridge Highway Segment Garage Lot Name  \\\n",
       "0                      NaN       NaN                    NaN             NaN   \n",
       "1                      NaN       NaN                    NaN             NaN   \n",
       "2                      NaN       NaN         1-1-1170054379             NaN   \n",
       "3                      NaN       NaN                    NaN             NaN   \n",
       "4                      NaN       NaN                    NaN             NaN   \n",
       "\n",
       "  Ferry Direction Ferry Terminal Name   Latitude  Longitude  \\\n",
       "0             NaN                 NaN  40.626612 -74.007500   \n",
       "1             NaN                 NaN  40.762495 -73.975193   \n",
       "2             NaN                 NaN        NaN        NaN   \n",
       "3             NaN                 NaN  40.613900 -73.969921   \n",
       "4             NaN                 NaN  40.715143 -73.945462   \n",
       "\n",
       "                                  Location  \n",
       "0  (40.62661172175207, -74.00750037666796)  \n",
       "1   (40.76249450483886, -73.9751932073919)  \n",
       "2                                      NaN  \n",
       "3  (40.61389964521426, -73.96992136456537)  \n",
       "4   (40.71514277555003, -73.9454616607721)  \n",
       "\n",
       "[5 rows x 53 columns]"
      ]
     },
     "execution_count": 10,
     "metadata": {},
     "output_type": "execute_result"
    }
   ],
   "source": [
    "df.head()"
   ]
  },
  {
   "cell_type": "code",
   "execution_count": 14,
   "metadata": {
    "collapsed": false
   },
   "outputs": [
    {
     "data": {
      "text/plain": [
       "HPD           3589455\n",
       "DOT           1737681\n",
       "NYPD          1245952\n",
       "DEP            944539\n",
       "DSNY           772054\n",
       "DOB            532735\n",
       "DPR            463736\n",
       "DOHMH          290287\n",
       "DOF            149577\n",
       "TLC            135575\n",
       "DCA            124571\n",
       "HRA             55726\n",
       "FDNY            28728\n",
       "3-1-1           22542\n",
       "CHALL           16235\n",
       "DOE             11917\n",
       "DHS              7216\n",
       "EDC              5846\n",
       "DOITT            4790\n",
       "DFTA             2187\n",
       "OPS              1293\n",
       "NYCEM             980\n",
       "OATH              272\n",
       "DOP               162\n",
       "MOIA               25\n",
       "COIB               22\n",
       "MOVA               14\n",
       "MOFTB              13\n",
       "FUND               12\n",
       "LAW                10\n",
       "               ...   \n",
       "MOC                 9\n",
       "NYCOOA              9\n",
       "DCAS                8\n",
       "CAU                 8\n",
       "AJC                 8\n",
       "NYCPPF              8\n",
       "OCME                7\n",
       "MOPD                7\n",
       "DYCD                7\n",
       "DOC                 7\n",
       "IA                  6\n",
       "OCHIA               6\n",
       "ACS                 5\n",
       "OAE                 5\n",
       "EMTF                4\n",
       "SBS                 4\n",
       "CWI                 4\n",
       "VAC                 4\n",
       "OPA                 4\n",
       "WF1                 3\n",
       "DV                  3\n",
       "NYCERS              3\n",
       "NYCSERVICE          3\n",
       "DESIGNCOM           3\n",
       "LOFT                2\n",
       "DCP                 2\n",
       "OMB                 1\n",
       "DORIS               1\n",
       "LPC                 1\n",
       "TFA                 1\n",
       "Name: Agency, dtype: int64"
      ]
     },
     "execution_count": 14,
     "metadata": {},
     "output_type": "execute_result"
    }
   ],
   "source": [
    "df['Agency'].value_counts()"
   ]
  },
  {
   "cell_type": "code",
   "execution_count": 16,
   "metadata": {
    "collapsed": false
   },
   "outputs": [
    {
     "data": {
      "text/plain": [
       "Index([u'Unique Key', u'Created Date', u'Closed Date', u'Agency',\n",
       "       u'Agency Name', u'Complaint Type', u'Descriptor', u'Location Type',\n",
       "       u'Incident Zip', u'Incident Address', u'Street Name', u'Cross Street 1',\n",
       "       u'Cross Street 2', u'Intersection Street 1', u'Intersection Street 2',\n",
       "       u'Address Type', u'City', u'Landmark', u'Facility Type', u'Status',\n",
       "       u'Due Date', u'Resolution Description',\n",
       "       u'Resolution Action Updated Date', u'Community Board', u'Borough',\n",
       "       u'X Coordinate (State Plane)', u'Y Coordinate (State Plane)',\n",
       "       u'Park Facility Name', u'Park Borough', u'School Name',\n",
       "       u'School Number', u'School Region', u'School Code',\n",
       "       u'School Phone Number', u'School Address', u'School City',\n",
       "       u'School State', u'School Zip', u'School Not Found',\n",
       "       u'School or Citywide Complaint', u'Vehicle Type',\n",
       "       u'Taxi Company Borough', u'Taxi Pick Up Location',\n",
       "       u'Bridge Highway Name', u'Bridge Highway Direction', u'Road Ramp',\n",
       "       u'Bridge Highway Segment', u'Garage Lot Name', u'Ferry Direction',\n",
       "       u'Ferry Terminal Name', u'Latitude', u'Longitude', u'Location'],\n",
       "      dtype='object')"
      ]
     },
     "execution_count": 16,
     "metadata": {},
     "output_type": "execute_result"
    }
   ],
   "source": [
    "df.columns"
   ]
  },
  {
   "cell_type": "code",
   "execution_count": null,
   "metadata": {
    "collapsed": true
   },
   "outputs": [],
   "source": []
  }
 ],
 "metadata": {
  "kernelspec": {
   "display_name": "Python 2",
   "language": "python",
   "name": "python2"
  },
  "language_info": {
   "codemirror_mode": {
    "name": "ipython",
    "version": 2
   },
   "file_extension": ".py",
   "mimetype": "text/x-python",
   "name": "python",
   "nbconvert_exporter": "python",
   "pygments_lexer": "ipython2",
   "version": "2.7.10"
  }
 },
 "nbformat": 4,
 "nbformat_minor": 0
}
