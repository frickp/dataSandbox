{
 "cells": [
  {
   "cell_type": "markdown",
   "metadata": {},
   "source": [
    "#Purpose\n",
    "\n",
    "I want to get an intuition for multiple regression analysis"
   ]
  },
  {
   "cell_type": "code",
   "execution_count": 2,
   "metadata": {
    "collapsed": true
   },
   "outputs": [],
   "source": [
    "%matplotlib inline\n",
    "import pandas as pd\n",
    "import numpy as np\n",
    "import matplotlib.pylab as plt\n",
    "#import pylab as pl\n",
    "from sklearn import linear_model\n",
    "from scipy import stats"
   ]
  },
  {
   "cell_type": "code",
   "execution_count": 47,
   "metadata": {
    "collapsed": false
   },
   "outputs": [
    {
     "name": "stdout",
     "output_type": "stream",
     "text": [
      "[10.0, 5.0, 2.5, 1.25, 0.625, 0.3125]\n"
     ]
    },
    {
     "data": {
      "text/html": [
       "<div>\n",
       "<table border=\"1\" class=\"dataframe\">\n",
       "  <thead>\n",
       "    <tr style=\"text-align: right;\">\n",
       "      <th></th>\n",
       "      <th>x1</th>\n",
       "      <th>x2</th>\n",
       "      <th>x3</th>\n",
       "      <th>x4</th>\n",
       "      <th>x5</th>\n",
       "      <th>x6</th>\n",
       "    </tr>\n",
       "  </thead>\n",
       "  <tbody>\n",
       "    <tr>\n",
       "      <th>0</th>\n",
       "      <td>-4.167578</td>\n",
       "      <td>5.807607</td>\n",
       "      <td>-2.877507</td>\n",
       "      <td>1.088551</td>\n",
       "      <td>-0.551953</td>\n",
       "      <td>0.077143</td>\n",
       "    </tr>\n",
       "    <tr>\n",
       "      <th>1</th>\n",
       "      <td>-0.562668</td>\n",
       "      <td>1.930390</td>\n",
       "      <td>-1.066306</td>\n",
       "      <td>0.741008</td>\n",
       "      <td>0.965867</td>\n",
       "      <td>-0.458992</td>\n",
       "    </tr>\n",
       "    <tr>\n",
       "      <th>2</th>\n",
       "      <td>-21.361961</td>\n",
       "      <td>-5.665666</td>\n",
       "      <td>-0.370368</td>\n",
       "      <td>-1.374122</td>\n",
       "      <td>0.091150</td>\n",
       "      <td>0.358469</td>\n",
       "    </tr>\n",
       "    <tr>\n",
       "      <th>3</th>\n",
       "      <td>16.402708</td>\n",
       "      <td>2.165463</td>\n",
       "      <td>3.753592</td>\n",
       "      <td>-0.851913</td>\n",
       "      <td>-0.250066</td>\n",
       "      <td>0.029862</td>\n",
       "    </tr>\n",
       "    <tr>\n",
       "      <th>4</th>\n",
       "      <td>-17.934356</td>\n",
       "      <td>-1.520432</td>\n",
       "      <td>2.173995</td>\n",
       "      <td>0.225083</td>\n",
       "      <td>0.509504</td>\n",
       "      <td>-0.346075</td>\n",
       "    </tr>\n",
       "  </tbody>\n",
       "</table>\n",
       "</div>"
      ],
      "text/plain": [
       "          x1        x2        x3        x4        x5        x6\n",
       "0  -4.167578  5.807607 -2.877507  1.088551 -0.551953  0.077143\n",
       "1  -0.562668  1.930390 -1.066306  0.741008  0.965867 -0.458992\n",
       "2 -21.361961 -5.665666 -0.370368 -1.374122  0.091150  0.358469\n",
       "3  16.402708  2.165463  3.753592 -0.851913 -0.250066  0.029862\n",
       "4 -17.934356 -1.520432  2.173995  0.225083  0.509504 -0.346075"
      ]
     },
     "execution_count": 47,
     "metadata": {},
     "output_type": "execute_result"
    }
   ],
   "source": [
    "p = [10*np.power(float(1)/2,i) for i in range(6)]\n",
    "print p\n",
    "#Set a randomization seed for reproducibility\n",
    "np.random.seed(2)\n",
    "d = 100\n",
    "df = pd.DataFrame({'x1': np.random.randn(d)*p[0],\n",
    "                   'x2': np.random.randn(d)*p[1],\n",
    "                   'x3': np.random.randn(d)*p[2],\n",
    "                   'x4': np.random.randn(d)*p[3],\n",
    "                   'x5': np.random.randn(d)*p[4],\n",
    "                   'x6': np.random.randn(d)*p[5],\n",
    "                  })\n",
    "df.head()\n"
   ]
  },
  {
   "cell_type": "code",
   "execution_count": 48,
   "metadata": {
    "collapsed": false
   },
   "outputs": [
    {
     "data": {
      "text/html": [
       "<div>\n",
       "<table border=\"1\" class=\"dataframe\">\n",
       "  <thead>\n",
       "    <tr style=\"text-align: right;\">\n",
       "      <th></th>\n",
       "      <th>x1</th>\n",
       "      <th>x2</th>\n",
       "      <th>x3</th>\n",
       "      <th>x4</th>\n",
       "      <th>x5</th>\n",
       "      <th>x6</th>\n",
       "      <th>Y</th>\n",
       "    </tr>\n",
       "  </thead>\n",
       "  <tbody>\n",
       "    <tr>\n",
       "      <th>0</th>\n",
       "      <td>-4.167578</td>\n",
       "      <td>5.807607</td>\n",
       "      <td>-2.877507</td>\n",
       "      <td>1.088551</td>\n",
       "      <td>-0.551953</td>\n",
       "      <td>0.077143</td>\n",
       "      <td>-0.623738</td>\n",
       "    </tr>\n",
       "    <tr>\n",
       "      <th>1</th>\n",
       "      <td>-0.562668</td>\n",
       "      <td>1.930390</td>\n",
       "      <td>-1.066306</td>\n",
       "      <td>0.741008</td>\n",
       "      <td>0.965867</td>\n",
       "      <td>-0.458992</td>\n",
       "      <td>1.549299</td>\n",
       "    </tr>\n",
       "    <tr>\n",
       "      <th>2</th>\n",
       "      <td>-21.361961</td>\n",
       "      <td>-5.665666</td>\n",
       "      <td>-0.370368</td>\n",
       "      <td>-1.374122</td>\n",
       "      <td>0.091150</td>\n",
       "      <td>0.358469</td>\n",
       "      <td>-28.322498</td>\n",
       "    </tr>\n",
       "    <tr>\n",
       "      <th>3</th>\n",
       "      <td>16.402708</td>\n",
       "      <td>2.165463</td>\n",
       "      <td>3.753592</td>\n",
       "      <td>-0.851913</td>\n",
       "      <td>-0.250066</td>\n",
       "      <td>0.029862</td>\n",
       "      <td>21.249645</td>\n",
       "    </tr>\n",
       "    <tr>\n",
       "      <th>4</th>\n",
       "      <td>-17.934356</td>\n",
       "      <td>-1.520432</td>\n",
       "      <td>2.173995</td>\n",
       "      <td>0.225083</td>\n",
       "      <td>0.509504</td>\n",
       "      <td>-0.346075</td>\n",
       "      <td>-16.892280</td>\n",
       "    </tr>\n",
       "  </tbody>\n",
       "</table>\n",
       "</div>"
      ],
      "text/plain": [
       "          x1        x2        x3        x4        x5        x6          Y\n",
       "0  -4.167578  5.807607 -2.877507  1.088551 -0.551953  0.077143  -0.623738\n",
       "1  -0.562668  1.930390 -1.066306  0.741008  0.965867 -0.458992   1.549299\n",
       "2 -21.361961 -5.665666 -0.370368 -1.374122  0.091150  0.358469 -28.322498\n",
       "3  16.402708  2.165463  3.753592 -0.851913 -0.250066  0.029862  21.249645\n",
       "4 -17.934356 -1.520432  2.173995  0.225083  0.509504 -0.346075 -16.892280"
      ]
     },
     "execution_count": 48,
     "metadata": {},
     "output_type": "execute_result"
    }
   ],
   "source": [
    "#df['Y']=df[['x1','x2','x3']].sum(axis=1)\n",
    "df['Y']=df.sum(axis=1)\n",
    "df.head()"
   ]
  },
  {
   "cell_type": "code",
   "execution_count": 49,
   "metadata": {
    "collapsed": true
   },
   "outputs": [],
   "source": [
    "#I should plot overlayed histograms with different alpha values\n",
    "\n"
   ]
  },
  {
   "cell_type": "code",
   "execution_count": 109,
   "metadata": {
    "collapsed": false
   },
   "outputs": [
    {
     "data": {
      "image/png": "[encoded data removed]",
      "text/plain": [
       "<matplotlib.figure.Figure at 0x10b35cfd0>"
      ]
     },
     "metadata": {},
     "output_type": "display_data"
    }
   ],
   "source": [
    "#In Dev\n",
    "xList = ['x'+str(i+1) for i in range(6)]\n",
    "fig = plt.figure(figsize=(10,6), dpi=1600)\n",
    "\n",
    "#Function to make a single plot\n",
    "def multiPlot(col):    \n",
    "    ax=plt.subplot2grid((ncol,nrow),(yPanel,xPanel))\n",
    "    ax.scatter(df['Y'],df[col],alpha=0.2)\n",
    "    ax.set_ylim(-4*p[legIdx],4*p[legIdx])\n",
    "    pVal = str(np.round(stats.pearsonr(df['Y'],df[col])[1],3))\n",
    "    rVal = str(np.round(stats.pearsonr(df['Y'],df[col])[0],3))\n",
    "    ax.text(y=3*p[legIdx],x=-35,s='p = '+ pVal,fontsize=12)\n",
    "    ax.text(y=2.3*p[legIdx],x=-35,s='R = '+ rVal,fontsize=12)\n",
    "    ax.set_xlabel(col,fontsize=14,fontweight='bold')\n",
    "    ax.set_ylabel('Y',fontsize=14,fontweight='bold',rotation='horizontal')\n",
    "    ax.tick_params(labelsize=14)\n",
    "\n",
    "#Script to add plots to multipanel figure\n",
    "xPanel = 0; yPanel = 0; ncol = 2; nrow = 3; legIdx=0\n",
    "#plt.tight_layout()\n",
    "for i in xList:\n",
    "    multiPlot(i)\n",
    "    xPanel=xPanel+1; legIdx=legIdx+1\n",
    "    if xPanel>(nrow-1):\n",
    "        xPanel=0\n",
    "        yPanel=yPanel+1\n",
    "   \n",
    "fig.tight_layout()"
   ]
  },
  {
   "cell_type": "code",
   "execution_count": 12,
   "metadata": {
    "collapsed": false
   },
   "outputs": [
    {
     "name": "stdout",
     "output_type": "stream",
     "text": [
      "4.75005770547e-29\n",
      "1.07996438039e-07\n",
      "0.205295566476\n",
      "0.648778837869\n",
      "0.713634947521\n",
      "0.387900613969\n"
     ]
    }
   ],
   "source": [
    "xList = ['x'+str(i+1) for i in range(6)]\n",
    "\n",
    "#fig = plt.figure(figsize=(12,6), dpi=1600) \n",
    "#ax1 = plt.subplot2grid((2,3),(0,0))\n",
    "#plt.ylim([0,25]); plt.xlim([0,25])\n",
    "\n",
    "#plt.rcParams.update({'font.size':10})\n",
    "#plt.scatter(df['Y'],df['x1'])\n",
    "\n",
    "#np.corrcoef(df['Y'],df['x1'])\n",
    "stats.pearsonr(df['Y'],df['x3'])\n",
    "\n",
    "for i in xList:\n",
    "    print stats.pearsonr(df['Y'],df[i])[1]\n",
    "\n",
    "#plt.ylabel('Y')\n",
    "#plt.xlabel('x1')\n",
    "\n",
    "#ax1 = plt.subplot2grid((2,3),(0,1))\n",
    "\n",
    "#plt.scatter(df['Y'],df['x2'])\n",
    "\n",
    "#find out how to display coff stat on top of the data"
   ]
  },
  {
   "cell_type": "code",
   "execution_count": null,
   "metadata": {
    "collapsed": false
   },
   "outputs": [],
   "source": [
    "#How to make subpanels of figures?\n",
    "#I want to overlay histograms using alpha blending\n",
    "#Also, can plot the theoreticals as an overlay"
   ]
  },
  {
   "cell_type": "code",
   "execution_count": null,
   "metadata": {
    "collapsed": true
   },
   "outputs": [],
   "source": [
    "# Next up I want to generate ~6 variables (4 significant) stepping the standard dev down to 0 and add them\n",
    "# all together. Then I can do the fwd/rev selection to see how well the algorithm detects\n",
    "# the contribution of each variable"
   ]
  },
  {
   "cell_type": "code",
   "execution_count": null,
   "metadata": {
    "collapsed": false
   },
   "outputs": [],
   "source": [
    "np.random.seed(1)\n",
    "print np.random.randn(1)\n",
    "print np.random.randn(1)\n",
    "print np.random.randn(1)\n",
    "print np.random.randn(1)"
   ]
  },
  {
   "cell_type": "code",
   "execution_count": null,
   "metadata": {
    "collapsed": false
   },
   "outputs": [],
   "source": [
    "#df['Y']  = df[['y1','y2','y3']].sum(axis=1)\n",
    "df['Y']  = df[['x1','x2','x3']].sum(axis=1)\n",
    "df.head()"
   ]
  },
  {
   "cell_type": "markdown",
   "metadata": {},
   "source": [
    "Great! Now let's plot it and see what it looks like"
   ]
  },
  {
   "cell_type": "code",
   "execution_count": null,
   "metadata": {
    "collapsed": false
   },
   "outputs": [],
   "source": [
    "#pl.plot(df['x'],df['y1'])\n",
    "#pl.plot(df['x'],df['y2'])\n",
    "#pl.plot(df['x'],df['y3'])\n",
    "plt.scatter(df['x1'],df['Y'])\n",
    "#why aren't these the same?"
   ]
  },
  {
   "cell_type": "markdown",
   "metadata": {},
   "source": [
    "It works! Now on to bigger and better stuff!"
   ]
  },
  {
   "cell_type": "code",
   "execution_count": 12,
   "metadata": {
    "collapsed": false
   },
   "outputs": [
    {
     "ename": "SyntaxError",
     "evalue": "invalid syntax (<ipython-input-12-bf192b2f588c>, line 1)",
     "output_type": "error",
     "traceback": [
      "\u001b[0;36m  File \u001b[0;32m\"<ipython-input-12-bf192b2f588c>\"\u001b[0;36m, line \u001b[0;32m1\u001b[0m\n\u001b[0;31m    myList=[i for range(1,10,2)]\u001b[0m\n\u001b[0m                               ^\u001b[0m\n\u001b[0;31mSyntaxError\u001b[0m\u001b[0;31m:\u001b[0m invalid syntax\n"
     ]
    }
   ],
   "source": [
    "myList=[i for range(1,10,2)]"
   ]
  },
  {
   "cell_type": "code",
   "execution_count": null,
   "metadata": {
    "collapsed": false
   },
   "outputs": [],
   "source": [
    "myList=range(1,10,2)\n",
    "myList"
   ]
  },
  {
   "cell_type": "code",
   "execution_count": 13,
   "metadata": {
    "collapsed": false
   },
   "outputs": [
    {
     "ename": "NameError",
     "evalue": "name 'myList' is not defined",
     "output_type": "error",
     "traceback": [
      "\u001b[0;31m---------------------------------------------------------------------------\u001b[0m",
      "\u001b[0;31mNameError\u001b[0m                                 Traceback (most recent call last)",
      "\u001b[0;32m<ipython-input-13-c1f6afcf505d>\u001b[0m in \u001b[0;36m<module>\u001b[0;34m()\u001b[0m\n\u001b[0;32m----> 1\u001b[0;31m \u001b[0;32mfor\u001b[0m \u001b[0mblah\u001b[0m \u001b[0;32min\u001b[0m \u001b[0mmyList\u001b[0m\u001b[0;34m:\u001b[0m\u001b[0;34m\u001b[0m\u001b[0m\n\u001b[0m\u001b[1;32m      2\u001b[0m     \u001b[0;32mprint\u001b[0m \u001b[0mnp\u001b[0m\u001b[0;34m.\u001b[0m\u001b[0mexp\u001b[0m\u001b[0;34m(\u001b[0m\u001b[0mblah\u001b[0m\u001b[0;34m)\u001b[0m\u001b[0;34m\u001b[0m\u001b[0m\n",
      "\u001b[0;31mNameError\u001b[0m: name 'myList' is not defined"
     ]
    }
   ],
   "source": [
    "for blah in myList:\n",
    "    print np.exp(blah)"
   ]
  },
  {
   "cell_type": "code",
   "execution_count": null,
   "metadata": {
    "collapsed": true
   },
   "outputs": [],
   "source": []
  },
  {
   "cell_type": "code",
   "execution_count": null,
   "metadata": {
    "collapsed": true
   },
   "outputs": [],
   "source": []
  }
 ],
 "metadata": {
  "kernelspec": {
   "display_name": "Python 2",
   "language": "python",
   "name": "python2"
  },
  "language_info": {
   "codemirror_mode": {
    "name": "ipython",
    "version": 2
   },
   "file_extension": ".py",
   "mimetype": "text/x-python",
   "name": "python",
   "nbconvert_exporter": "python",
   "pygments_lexer": "ipython2",
   "version": "2.7.10"
  }
 },
 "nbformat": 4,
 "nbformat_minor": 0
}
