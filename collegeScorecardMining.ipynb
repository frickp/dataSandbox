{
 "cells": [
  {
   "cell_type": "markdown",
   "metadata": {},
   "source": [
    "Documentation for api [here](https://github.com/18F/open-data-maker/blob/api-docs/API.md)"
   ]
  },
  {
   "cell_type": "code",
   "execution_count": 1,
   "metadata": {
    "collapsed": true
   },
   "outputs": [],
   "source": [
    "\n",
    "import requests\n",
    "import json\n",
    "import pandas as pd\n",
    "import matplotlib.pylab as plt\n",
    "import numpy as np\n",
    "import requests"
   ]
  },
  {
   "cell_type": "code",
   "execution_count": null,
   "metadata": {
    "collapsed": true
   },
   "outputs": [],
   "source": [
    "#All data for Boston College\n",
    "\n",
    "URL='https://api.data.gov/ed/collegescorecard/v1/' +\n",
    "    'schools?school.name=boston%20college' +\n",
    "    '&api_key=Xxf2NKtwfcXUd8K2hqawnlur6c0YY93xsNFwq0Dy'"
   ]
  },
  {
   "cell_type": "code",
   "execution_count": 38,
   "metadata": {
    "collapsed": false
   },
   "outputs": [],
   "source": [
    "#Completion by race/ethnicity\n",
    "\n",
    "URL='https://api.data.gov/ed/collegescorecard/v1/'                   \\\n",
    "    'schools?fields=school.name,'                                    \\\n",
    "    'id,'                                                            \\\n",
    "    '2013.student.demographics.race_ethnicity.white,'                \\\n",
    "    '2013.student.demographics.race_ethnicity.black,'                \\\n",
    "    '2013.student.demographics.race_ethnicity.hispanic,'             \\\n",
    "    '2013.student.demographics.race_ethnicity.asian,'                \\\n",
    "    '2013.student.demographics.race_ethnicity.aian,'                 \\\n",
    "    '2013.student.demographics.race_ethnicity.nhpi,'                 \\\n",
    "    '2013.student.demographics.race_ethnicity.two_or_more,'          \\\n",
    "    '2013.student.demographics.race_ethnicity.non_resident_alien,'   \\\n",
    "    '2013.student.demographics.race_ethnicity.unknown,'              \\\n",
    "    '2013.student.demographics.race_ethnicity.white_non_hispanic,'   \\\n",
    "    '2013.student.demographics.race_ethnicity.black_non_hispanic,'   \\\n",
    "    '2013.student.demographics.race_ethnicity.asian_pacific_islander'\\\n",
    "    '&sort=2013.completion.rate_suppressed.overall:desc'             \\\n",
    "    '&api_key=Xxf2NKtwfcXUd8K2hqawnlur6c0YY93xsNFwq0Dy'"
   ]
  },
  {
   "cell_type": "code",
   "execution_count": 36,
   "metadata": {
    "collapsed": false
   },
   "outputs": [],
   "source": [
    "URL='https://api.data.gov/ed/collegescorecard/v1/'                   \\\n",
    "    'schools?fields=school.name,'                                    \\\n",
    "    'id,'                                                            \\\n",
    "    '2013.student.demographics.race_ethnicity.white,'                \\\n",
    "    '2013.student.demographics.race_ethnicity.black,'                \\\n",
    "    '2013.student.demographics.race_ethnicity.hispanic,'             \\\n",
    "    '2013.student.demographics.race_ethnicity.asian,'                \\\n",
    "    '2013.student.demographics.race_ethnicity.aian,'                 \\\n",
    "    '2013.student.demographics.race_ethnicity.nhpi,'                 \\\n",
    "    '2013.student.demographics.race_ethnicity.two_or_more,'          \\\n",
    "    '2013.student.demographics.race_ethnicity.non_resident_alien,'   \\\n",
    "    '2013.student.demographics.race_ethnicity.unknown,'              \\\n",
    "    '2013.student.demographics.race_ethnicity.white_non_hispanic,'   \\\n",
    "    '2013.student.demographics.race_ethnicity.black_non_hispanic,'   \\\n",
    "    '2013.student.demographics.race_ethnicity.asian_pacific_islander'\\\n",
    "    '&sort=2013.completion.rate_suppressed.overall:desc'             \\\n",
    "    '&api_key=Xxf2NKtwfcXUd8K2hqawnlur6c0YY93xsNFwq0Dy'"
   ]
  },
  {
   "cell_type": "code",
   "execution_count": 72,
   "metadata": {
    "collapsed": false
   },
   "outputs": [],
   "source": [
    "URL='https://api.data.gov/ed/collegescorecard/v1/' \\\n",
    "    'schools?fields=school.name,' \\\n",
    "    'id,' \\\n",
    "    '2011.aid.median_debt.completers.overall,' \\\n",
    "    '2011.repayment.1_yr_repayment.completers,' \\\n",
    "    '2011.earnings.10_yrs_after_entry.working_not_enrolled.mean_earnings' \\\n",
    "    '&api_key=Xxf2NKtwfcXUd8K2hqawnlur6c0YY93xsNFwq0Dy'\n",
    "    #'&page=100' \\\n",
    "#    '&api_key=Xxf2NKtwfcXUd8K2hqawnlur6c0YY93xsNFwq0Dy'"
   ]
  },
  {
   "cell_type": "code",
   "execution_count": 73,
   "metadata": {
    "collapsed": false
   },
   "outputs": [],
   "source": [
    "response = requests.get(URL)\n",
    "response.raise_for_status()\n",
    "data = response.json()"
   ]
  },
  {
   "cell_type": "code",
   "execution_count": 74,
   "metadata": {
    "collapsed": false
   },
   "outputs": [],
   "source": [
    "df = pd.DataFrame(data['results'])"
   ]
  },
  {
   "cell_type": "code",
   "execution_count": 75,
   "metadata": {
    "collapsed": false
   },
   "outputs": [
    {
     "data": {
      "text/html": [
       "<div>\n",
       "<table border=\"1\" class=\"dataframe\">\n",
       "  <thead>\n",
       "    <tr style=\"text-align: right;\">\n",
       "      <th></th>\n",
       "      <th>2011.aid.median_debt.completers.overall</th>\n",
       "      <th>id</th>\n",
       "      <th>school.name</th>\n",
       "    </tr>\n",
       "  </thead>\n",
       "  <tbody>\n",
       "    <tr>\n",
       "      <th>0</th>\n",
       "      <td>6250</td>\n",
       "      <td>238573</td>\n",
       "      <td>Columbia College of Nursing</td>\n",
       "    </tr>\n",
       "    <tr>\n",
       "      <th>1</th>\n",
       "      <td>NaN</td>\n",
       "      <td>479646</td>\n",
       "      <td>ITT Technical Institute-Overland Park</td>\n",
       "    </tr>\n",
       "    <tr>\n",
       "      <th>2</th>\n",
       "      <td>NaN</td>\n",
       "      <td>479655</td>\n",
       "      <td>ITT Technical Institute-Springfield</td>\n",
       "    </tr>\n",
       "    <tr>\n",
       "      <th>3</th>\n",
       "      <td>NaN</td>\n",
       "      <td>479664</td>\n",
       "      <td>ITT Technical Institute-West Chester</td>\n",
       "    </tr>\n",
       "    <tr>\n",
       "      <th>4</th>\n",
       "      <td>NaN</td>\n",
       "      <td>479770</td>\n",
       "      <td>University of Phoenix-McAllen Campus</td>\n",
       "    </tr>\n",
       "    <tr>\n",
       "      <th>5</th>\n",
       "      <td>NaN</td>\n",
       "      <td>479956</td>\n",
       "      <td>Pennsylvania State University-World Campus</td>\n",
       "    </tr>\n",
       "    <tr>\n",
       "      <th>6</th>\n",
       "      <td>NaN</td>\n",
       "      <td>479965</td>\n",
       "      <td>Medical Career Institute</td>\n",
       "    </tr>\n",
       "    <tr>\n",
       "      <th>7</th>\n",
       "      <td>NaN</td>\n",
       "      <td>479974</td>\n",
       "      <td>Advance Beauty Techs Academy</td>\n",
       "    </tr>\n",
       "    <tr>\n",
       "      <th>8</th>\n",
       "      <td>NaN</td>\n",
       "      <td>479983</td>\n",
       "      <td>Longs Peak Academy</td>\n",
       "    </tr>\n",
       "    <tr>\n",
       "      <th>9</th>\n",
       "      <td>NaN</td>\n",
       "      <td>479992</td>\n",
       "      <td>Brand College</td>\n",
       "    </tr>\n",
       "    <tr>\n",
       "      <th>10</th>\n",
       "      <td>NaN</td>\n",
       "      <td>480000</td>\n",
       "      <td>Hinton Barber College</td>\n",
       "    </tr>\n",
       "    <tr>\n",
       "      <th>11</th>\n",
       "      <td>NaN</td>\n",
       "      <td>480019</td>\n",
       "      <td>Advanced Career Institute</td>\n",
       "    </tr>\n",
       "    <tr>\n",
       "      <th>12</th>\n",
       "      <td>NaN</td>\n",
       "      <td>480028</td>\n",
       "      <td>Digital Film Academy</td>\n",
       "    </tr>\n",
       "    <tr>\n",
       "      <th>13</th>\n",
       "      <td>NaN</td>\n",
       "      <td>480037</td>\n",
       "      <td>MyComputerCareer.com-Raleigh</td>\n",
       "    </tr>\n",
       "    <tr>\n",
       "      <th>14</th>\n",
       "      <td>NaN</td>\n",
       "      <td>480073</td>\n",
       "      <td>South University-Austin</td>\n",
       "    </tr>\n",
       "    <tr>\n",
       "      <th>15</th>\n",
       "      <td>NaN</td>\n",
       "      <td>480082</td>\n",
       "      <td>South University-Cleveland</td>\n",
       "    </tr>\n",
       "    <tr>\n",
       "      <th>16</th>\n",
       "      <td>NaN</td>\n",
       "      <td>480091</td>\n",
       "      <td>Bryant &amp; Stratton College-Online</td>\n",
       "    </tr>\n",
       "    <tr>\n",
       "      <th>17</th>\n",
       "      <td>NaN</td>\n",
       "      <td>480107</td>\n",
       "      <td>Virginia College-Florence</td>\n",
       "    </tr>\n",
       "    <tr>\n",
       "      <th>18</th>\n",
       "      <td>NaN</td>\n",
       "      <td>480125</td>\n",
       "      <td>Ogle School Hair Skin Nails-San Antonio</td>\n",
       "    </tr>\n",
       "    <tr>\n",
       "      <th>19</th>\n",
       "      <td>NaN</td>\n",
       "      <td>480134</td>\n",
       "      <td>Elizabethtown College School of Continuing and...</td>\n",
       "    </tr>\n",
       "  </tbody>\n",
       "</table>\n",
       "</div>"
      ],
      "text/plain": [
       "    2011.aid.median_debt.completers.overall      id  \\\n",
       "0                                      6250  238573   \n",
       "1                                       NaN  479646   \n",
       "2                                       NaN  479655   \n",
       "3                                       NaN  479664   \n",
       "4                                       NaN  479770   \n",
       "5                                       NaN  479956   \n",
       "6                                       NaN  479965   \n",
       "7                                       NaN  479974   \n",
       "8                                       NaN  479983   \n",
       "9                                       NaN  479992   \n",
       "10                                      NaN  480000   \n",
       "11                                      NaN  480019   \n",
       "12                                      NaN  480028   \n",
       "13                                      NaN  480037   \n",
       "14                                      NaN  480073   \n",
       "15                                      NaN  480082   \n",
       "16                                      NaN  480091   \n",
       "17                                      NaN  480107   \n",
       "18                                      NaN  480125   \n",
       "19                                      NaN  480134   \n",
       "\n",
       "                                          school.name  \n",
       "0                         Columbia College of Nursing  \n",
       "1               ITT Technical Institute-Overland Park  \n",
       "2                 ITT Technical Institute-Springfield  \n",
       "3                ITT Technical Institute-West Chester  \n",
       "4                University of Phoenix-McAllen Campus  \n",
       "5          Pennsylvania State University-World Campus  \n",
       "6                            Medical Career Institute  \n",
       "7                        Advance Beauty Techs Academy  \n",
       "8                                  Longs Peak Academy  \n",
       "9                                       Brand College  \n",
       "10                              Hinton Barber College  \n",
       "11                          Advanced Career Institute  \n",
       "12                               Digital Film Academy  \n",
       "13                       MyComputerCareer.com-Raleigh  \n",
       "14                            South University-Austin  \n",
       "15                         South University-Cleveland  \n",
       "16                   Bryant & Stratton College-Online  \n",
       "17                          Virginia College-Florence  \n",
       "18            Ogle School Hair Skin Nails-San Antonio  \n",
       "19  Elizabethtown College School of Continuing and...  "
      ]
     },
     "execution_count": 75,
     "metadata": {},
     "output_type": "execute_result"
    }
   ],
   "source": [
    "df\n"
   ]
  },
  {
   "cell_type": "code",
   "execution_count": null,
   "metadata": {
    "collapsed": true
   },
   "outputs": [],
   "source": []
  }
 ],
 "metadata": {
  "kernelspec": {
   "display_name": "Python 2",
   "language": "python",
   "name": "python2"
  },
  "language_info": {
   "codemirror_mode": {
    "name": "ipython",
    "version": 2
   },
   "file_extension": ".py",
   "mimetype": "text/x-python",
   "name": "python",
   "nbconvert_exporter": "python",
   "pygments_lexer": "ipython2",
   "version": "2.7.10"
  }
 },
 "nbformat": 4,
 "nbformat_minor": 0
}
