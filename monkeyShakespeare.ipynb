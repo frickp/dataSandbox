{
 "cells": [
  {
   "cell_type": "code",
   "execution_count": 308,
   "metadata": {
    "collapsed": false
   },
   "outputs": [],
   "source": [
    "import random\n",
    "import string\n",
    "import timeit\n",
    "spSent = list('methinks it is like a weasel')"
   ]
  },
  {
   "cell_type": "code",
   "execution_count": 103,
   "metadata": {
    "collapsed": false
   },
   "outputs": [],
   "source": [
    "#List of lowercase letters\n",
    "Ltr = list(string.ascii_lowercase)\n",
    "Ltr.append(' ')\n",
    "\n",
    "# Function 1: generate random lowercase letters\n",
    "def makeRandSent(r=Ltr):\n",
    "    randSent = []\n",
    "    for i in range(28):\n",
    "        randSent.append(random.choice(r))\n",
    "    return(randSent)"
   ]
  },
  {
   "cell_type": "code",
   "execution_count": 127,
   "metadata": {
    "collapsed": false
   },
   "outputs": [
    {
     "data": {
      "text/plain": [
       "['o',\n",
       " 'k',\n",
       " 'x',\n",
       " 'w',\n",
       " 'c',\n",
       " 'z',\n",
       " 'h',\n",
       " 'j',\n",
       " 'h',\n",
       " 'v',\n",
       " 'l',\n",
       " 'n',\n",
       " 'p',\n",
       " 'm',\n",
       " 't',\n",
       " 'h',\n",
       " 'v',\n",
       " 't',\n",
       " 'r',\n",
       " 'p',\n",
       " 'd',\n",
       " 'u',\n",
       " 'w',\n",
       " 'z',\n",
       " 'n',\n",
       " 's',\n",
       " 'f',\n",
       " 'k']"
      ]
     },
     "execution_count": 127,
     "metadata": {},
     "output_type": "execute_result"
    }
   ],
   "source": [
    "makeRandSent()"
   ]
  },
  {
   "cell_type": "code",
   "execution_count": 231,
   "metadata": {
    "collapsed": false
   },
   "outputs": [],
   "source": [
    "def scoreIt(testSent,truthSent):\n",
    "    testScore = 0\n",
    "    idxMatch = []\n",
    "    for i in range(len(truthSent)):\n",
    "        if truthSent[i] == testSent[i]:\n",
    "            testScore+=1\n",
    "            idxMatch.append(i)\n",
    "    #return testScore\n",
    "    #print testScore, idxMatch\n",
    "    return testScore, idxMatch\n"
   ]
  },
  {
   "cell_type": "code",
   "execution_count": 154,
   "metadata": {
    "collapsed": false
   },
   "outputs": [
    {
     "name": "stdout",
     "output_type": "stream",
     "text": [
      "3 [8, 13, 25]\n"
     ]
    }
   ],
   "source": [
    "scoreIt(makeRandSent(),spSent)"
   ]
  },
  {
   "cell_type": "code",
   "execution_count": 149,
   "metadata": {
    "collapsed": false
   },
   "outputs": [],
   "source": [
    "def iterateScore(truthSent):\n",
    "    for  i in range(10):\n",
    "        scoreIt(makeRandSent(),truthSent)"
   ]
  },
  {
   "cell_type": "code",
   "execution_count": 150,
   "metadata": {
    "collapsed": false
   },
   "outputs": [
    {
     "name": "stdout",
     "output_type": "stream",
     "text": [
      "1 [3]\n",
      "0 []\n",
      "0 []\n",
      "0 []\n",
      "1 [9]\n",
      "0 []\n",
      "2 [2, 27]\n",
      "0 []\n",
      "0 []\n",
      "2 [0, 11]\n"
     ]
    }
   ],
   "source": [
    "iterateScore(spSent)"
   ]
  },
  {
   "cell_type": "markdown",
   "metadata": {},
   "source": [
    "### Now refine the function. First, allow the random string function to input known index positions. Then do an iterative updating process."
   ]
  },
  {
   "cell_type": "code",
   "execution_count": 270,
   "metadata": {
    "collapsed": true
   },
   "outputs": [],
   "source": [
    "def improveCurrSent(knownIdx=[],r=Ltr,truthSent=spSent):\n",
    "    currSent = ['*' for i in range(28)]\n",
    "    if len(knownIdx)>0:\n",
    "        for i in knownIdx:\n",
    "            currSent[i] = truthSent[i]\n",
    "    #print ''.join(currSent)\n",
    "    return currSent\n",
    "    \n",
    "    #for i in range(28):\n",
    "    #    randSent.append(random.choice(r))\n",
    "    #return(randSent)"
   ]
  },
  {
   "cell_type": "code",
   "execution_count": 247,
   "metadata": {
    "collapsed": false
   },
   "outputs": [
    {
     "name": "stdout",
     "output_type": "stream",
     "text": [
      "*et*************************\n"
     ]
    },
    {
     "data": {
      "text/plain": [
       "['*',\n",
       " 'e',\n",
       " 't',\n",
       " '*',\n",
       " '*',\n",
       " '*',\n",
       " '*',\n",
       " '*',\n",
       " '*',\n",
       " '*',\n",
       " '*',\n",
       " '*',\n",
       " '*',\n",
       " '*',\n",
       " '*',\n",
       " '*',\n",
       " '*',\n",
       " '*',\n",
       " '*',\n",
       " '*',\n",
       " '*',\n",
       " '*',\n",
       " '*',\n",
       " '*',\n",
       " '*',\n",
       " '*',\n",
       " '*',\n",
       " '*']"
      ]
     },
     "execution_count": 247,
     "metadata": {},
     "output_type": "execute_result"
    }
   ],
   "source": [
    "improveCurrSent(knownIdx=[1,2])"
   ]
  },
  {
   "cell_type": "code",
   "execution_count": null,
   "metadata": {
    "collapsed": true
   },
   "outputs": [],
   "source": []
  },
  {
   "cell_type": "code",
   "execution_count": 371,
   "metadata": {
    "collapsed": false
   },
   "outputs": [],
   "source": [
    "# In progress\n",
    "\n",
    "def iterateScore(truthSent,resultPrint=False):\n",
    "    rollingScore = 0\n",
    "    steps = [0]\n",
    "    knownIdx = []\n",
    "    #for  i in range(200):\n",
    "    i=0\n",
    "    while rollingScore < 28:\n",
    "        i += 1\n",
    "        currSent = improveCurrSent(knownIdx)\n",
    "        currScore, currIdx = scoreIt(makeRandSent(),spSent)\n",
    "        #if len(currIdx) > 0:\n",
    "        #    steps.append(len(knownIdx) + len(currIdx))\n",
    "        for j in currIdx:\n",
    "            newEntry = 0\n",
    "            if j not in knownIdx:\n",
    "                knownIdx.append(j)\n",
    "                rollingScore += 1\n",
    "                newEntry += 1\n",
    "                if resultPrint != False:\n",
    "                    print 'Score: ' + str(rollingScore), 'Iterations: ' + str(i)  \n",
    "                    print 'Sentence: ' + ''.join(improveCurrSent(knownIdx=knownIdx)), '\\n'\n",
    "            if newEntry > 0:\n",
    "                steps.append(len(knownIdx) + len(currIdx))\n",
    "    return steps"
   ]
  },
  {
   "cell_type": "code",
   "execution_count": 263,
   "metadata": {
    "collapsed": false
   },
   "outputs": [],
   "source": [
    "# Working\n",
    "# Refining iterate function\n",
    "\n",
    "def iterateScore(truthSent):\n",
    "    rollingScore = 0\n",
    "    for  i in range(10):\n",
    "        currScore, currIdx = scoreIt(makeRandSent(),spSent)\n",
    "        print currScore, currIdx, '\\n'\n",
    "        \n",
    "        #if rollingScore > 0:\n",
    "            "
   ]
  },
  {
   "cell_type": "code",
   "execution_count": 370,
   "metadata": {
    "collapsed": false,
    "scrolled": true
   },
   "outputs": [
    {
     "data": {
      "text/plain": [
       "[0,\n",
       " 2,\n",
       " 3,\n",
       " 6,\n",
       " 7,\n",
       " 8,\n",
       " 10,\n",
       " 11,\n",
       " 12,\n",
       " 13,\n",
       " 11,\n",
       " 13,\n",
       " 14,\n",
       " 15,\n",
       " 16,\n",
       " 17,\n",
       " 17,\n",
       " 19,\n",
       " 19,\n",
       " 21,\n",
       " 22,\n",
       " 24,\n",
       " 23,\n",
       " 29,\n",
       " 26,\n",
       " 27,\n",
       " 29,\n",
       " 30,\n",
       " 29]"
      ]
     },
     "execution_count": 370,
     "metadata": {},
     "output_type": "execute_result"
    }
   ],
   "source": [
    "iterateScore(spSent,resultPrint=False)"
   ]
  },
  {
   "cell_type": "code",
   "execution_count": 165,
   "metadata": {
    "collapsed": false,
    "scrolled": false
   },
   "outputs": [],
   "source": [
    "x = ['*' for i in range(28)] "
   ]
  },
  {
   "cell_type": "code",
   "execution_count": 175,
   "metadata": {
    "collapsed": false
   },
   "outputs": [
    {
     "ename": "TypeError",
     "evalue": "list indices must be integers, not list",
     "output_type": "error",
     "traceback": [
      "\u001b[0;31m---------------------------------------------------------------------------\u001b[0m",
      "\u001b[0;31mTypeError\u001b[0m                                 Traceback (most recent call last)",
      "\u001b[0;32m<ipython-input-175-bb5095ad9f36>\u001b[0m in \u001b[0;36m<module>\u001b[0;34m()\u001b[0m\n\u001b[0;32m----> 1\u001b[0;31m \u001b[0mx\u001b[0m\u001b[0;34m[\u001b[0m\u001b[0mrange\u001b[0m\u001b[0;34m(\u001b[0m\u001b[0;36m3\u001b[0m\u001b[0;34m)\u001b[0m\u001b[0;34m]\u001b[0m\u001b[0;34m\u001b[0m\u001b[0m\n\u001b[0m",
      "\u001b[0;31mTypeError\u001b[0m: list indices must be integers, not list"
     ]
    }
   ],
   "source": [
    "x[range(3)]"
   ]
  },
  {
   "cell_type": "code",
   "execution_count": 227,
   "metadata": {
    "collapsed": false
   },
   "outputs": [
    {
     "name": "stdout",
     "output_type": "stream",
     "text": [
      "2 [0, 11]\n"
     ]
    },
    {
     "data": {
      "text/plain": [
       "2"
      ]
     },
     "execution_count": 227,
     "metadata": {},
     "output_type": "execute_result"
    }
   ],
   "source": [
    "s,i = scoreIt(makeRandSent(),spSent)\n",
    "s"
   ]
  },
  {
   "cell_type": "code",
   "execution_count": 241,
   "metadata": {
    "collapsed": false
   },
   "outputs": [
    {
     "name": "stdout",
     "output_type": "stream",
     "text": [
      "[0, 11]\n"
     ]
    }
   ],
   "source": [
    "print i"
   ]
  },
  {
   "cell_type": "code",
   "execution_count": 283,
   "metadata": {
    "collapsed": false
   },
   "outputs": [
    {
     "data": {
      "text/plain": [
       "True"
      ]
     },
     "execution_count": 283,
     "metadata": {},
     "output_type": "execute_result"
    }
   ],
   "source": [
    "11 in i and 11 > 0"
   ]
  },
  {
   "cell_type": "code",
   "execution_count": 323,
   "metadata": {
    "collapsed": false
   },
   "outputs": [
    {
     "data": {
      "text/plain": [
       "2"
      ]
     },
     "execution_count": 323,
     "metadata": {},
     "output_type": "execute_result"
    }
   ],
   "source": [
    "len(i)"
   ]
  },
  {
   "cell_type": "code",
   "execution_count": 337,
   "metadata": {
    "collapsed": false
   },
   "outputs": [
    {
     "data": {
      "text/plain": [
       "2"
      ]
     },
     "execution_count": 337,
     "metadata": {},
     "output_type": "execute_result"
    }
   ],
   "source": [
    "len(i)"
   ]
  },
  {
   "cell_type": "code",
   "execution_count": null,
   "metadata": {
    "collapsed": true
   },
   "outputs": [],
   "source": []
  }
 ],
 "metadata": {
  "kernelspec": {
   "display_name": "Python 2",
   "language": "python",
   "name": "python2"
  },
  "language_info": {
   "codemirror_mode": {
    "name": "ipython",
    "version": 2
   },
   "file_extension": ".py",
   "mimetype": "text/x-python",
   "name": "python",
   "nbconvert_exporter": "python",
   "pygments_lexer": "ipython2",
   "version": "2.7.10"
  }
 },
 "nbformat": 4,
 "nbformat_minor": 0
}
