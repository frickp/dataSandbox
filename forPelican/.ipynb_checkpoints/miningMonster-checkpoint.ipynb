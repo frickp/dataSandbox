{
 "cells": [
  {
   "cell_type": "markdown",
   "metadata": {},
   "source": [
    "What is a data scientist? Seems like it means different things to different people. Well, what if we let the companies who need a data scientist tell us?\n",
    "\n",
    "To do this, let's look at jobs on [Stack Overflow](stackoverflow.com). The advantage here is that each posting is along the same html format, as opposed to other sites like Indeed.com or Monster.com, where job descriptions vary by company. To do this, we need a cursory knowledge of html, and a python package that helps us with the heavy lifting.\n",
    "\n",
    "Let's get started."
   ]
  },
  {
   "cell_type": "code",
   "execution_count": 11,
   "metadata": {
    "collapsed": false
   },
   "outputs": [],
   "source": [
    "import pandas as pd\n",
    "import re\n",
    "#import os\n",
    "from bs4 import BeautifulSoup\n",
    "from urllib2 import urlopen\n",
    "import string\n",
    "import unicodedata"
   ]
  },
  {
   "cell_type": "markdown",
   "metadata": {},
   "source": [
    "Here I'm using a job posting by doing a simple seach for \"data scientist\" and choosing the\n",
    "first result. This is fed in as `BASE_URL`, but this posting will likely expire and can be switched out easily.\n",
    "\n",
    "We'll read in the posting using `urlopen` and then parse the page with `BeautifulSoup`.\n",
    "\n"
   ]
  },
  {
   "cell_type": "markdown",
   "metadata": {
    "collapsed": false
   },
   "source": [
    "BASE_URL = \"http://careers.stackoverflow.com/jobs/89632/data-scientist-palo-alto-or-seattle-coupang?searchTerm=data+scientist\"\n",
    "html = urlopen(BASE_URL)\n",
    "soup = BeautifulSoup(html, \"lxml\")"
   ]
  },
  {
   "cell_type": "code",
   "execution_count": 13,
   "metadata": {
    "collapsed": false
   },
   "outputs": [
    {
     "name": "stdout",
     "output_type": "stream",
     "text": [
      "Masters PhDs in CS machine learning  Statistics  Applied Math or a quantitative field\n",
      "2+ years of experience in data analytics data mining machine learning algorithms and models\n",
      "Our recruiting efforts do not support OPT candidates\n",
      "Candidates must be local to the U S  and willing to work at our Palo Alto or Seattle locations \n",
      "Experiences of programming with R to apply statistical analytical methods to solve problems \n",
      "Work experience analyzing big data  Hadoop  Netezza  HBase  Mahout  AWS  etc  \n",
      "Strong research and analytical mindset and extremely detail-oriented\n",
      "Experiences in Excel  pivot tables  advanced formulas charts plots  etc   \n",
      "Creative thinking and problem solving skills required\n",
      "Strong capability to draw insights conclusions from raw data and summarizing results quickly and efficiently\n",
      "Strong communication skills  written and verbal; ability to present data and its implications in a clear  concise manner\n",
      "Team player with excellent interpersonal skills  self-motivated  energetic  “CAN-DO” altitude and ability to meet deadlines in a fast-moving environment\n",
      "In-depth knowledge experience with package function creation  vectorization  parallel programming in R\n",
      "Skills Experiences in scripting language Python Java Scala etc \n",
      "Strong data visualization skills\n"
     ]
    }
   ],
   "source": [
    "\n",
    "a = soup.findAll(\"div\", { \"class\" : \"description\" })[1].findAll('li')  #Get list elements\n",
    "\n",
    "b = unicode.join(u'\\n',map(unicode,a))   #Switch away from ResultSet\n",
    "b = re.sub('<[^>]*>', '', b)             #Remove elements from text\n",
    "b = re.sub('[.()/!@#$,]', ' ', b)        #Get rid of spurious characters\n",
    "print b\n"
   ]
  },
  {
   "cell_type": "code",
   "execution_count": 14,
   "metadata": {
    "collapsed": false
   },
   "outputs": [
    {
     "data": {
      "text/html": [
       "<div>\n",
       "<table border=\"1\" class=\"dataframe\">\n",
       "  <thead>\n",
       "    <tr style=\"text-align: right;\">\n",
       "      <th></th>\n",
       "      <th>words</th>\n",
       "      <th>title</th>\n",
       "      <th>url</th>\n",
       "    </tr>\n",
       "  </thead>\n",
       "  <tbody>\n",
       "    <tr>\n",
       "      <th>0</th>\n",
       "      <td>Masters</td>\n",
       "      <td>DataScientistPalo</td>\n",
       "      <td>89632</td>\n",
       "    </tr>\n",
       "    <tr>\n",
       "      <th>1</th>\n",
       "      <td>PhDs</td>\n",
       "      <td>DataScientistPalo</td>\n",
       "      <td>89632</td>\n",
       "    </tr>\n",
       "    <tr>\n",
       "      <th>2</th>\n",
       "      <td>in</td>\n",
       "      <td>DataScientistPalo</td>\n",
       "      <td>89632</td>\n",
       "    </tr>\n",
       "    <tr>\n",
       "      <th>3</th>\n",
       "      <td>CS</td>\n",
       "      <td>DataScientistPalo</td>\n",
       "      <td>89632</td>\n",
       "    </tr>\n",
       "    <tr>\n",
       "      <th>4</th>\n",
       "      <td>machine</td>\n",
       "      <td>DataScientistPalo</td>\n",
       "      <td>89632</td>\n",
       "    </tr>\n",
       "    <tr>\n",
       "      <th>5</th>\n",
       "      <td>learning</td>\n",
       "      <td>DataScientistPalo</td>\n",
       "      <td>89632</td>\n",
       "    </tr>\n",
       "    <tr>\n",
       "      <th>6</th>\n",
       "      <td>Statistics</td>\n",
       "      <td>DataScientistPalo</td>\n",
       "      <td>89632</td>\n",
       "    </tr>\n",
       "    <tr>\n",
       "      <th>7</th>\n",
       "      <td>Applied</td>\n",
       "      <td>DataScientistPalo</td>\n",
       "      <td>89632</td>\n",
       "    </tr>\n",
       "    <tr>\n",
       "      <th>8</th>\n",
       "      <td>Math</td>\n",
       "      <td>DataScientistPalo</td>\n",
       "      <td>89632</td>\n",
       "    </tr>\n",
       "    <tr>\n",
       "      <th>9</th>\n",
       "      <td>or</td>\n",
       "      <td>DataScientistPalo</td>\n",
       "      <td>89632</td>\n",
       "    </tr>\n",
       "  </tbody>\n",
       "</table>\n",
       "</div>"
      ],
      "text/plain": [
       "        words              title    url\n",
       "0     Masters  DataScientistPalo  89632\n",
       "1        PhDs  DataScientistPalo  89632\n",
       "2          in  DataScientistPalo  89632\n",
       "3          CS  DataScientistPalo  89632\n",
       "4     machine  DataScientistPalo  89632\n",
       "5    learning  DataScientistPalo  89632\n",
       "6  Statistics  DataScientistPalo  89632\n",
       "7     Applied  DataScientistPalo  89632\n",
       "8        Math  DataScientistPalo  89632\n",
       "9          or  DataScientistPalo  89632"
      ]
     },
     "execution_count": 14,
     "metadata": {},
     "output_type": "execute_result"
    }
   ],
   "source": [
    "jobName = soup.find(\"a\", {\"class\" : \"title job-link\"}).text.split()[0:3]\n",
    "jobName = re.sub(r'\\W+', '',  unicode.join(u'',map(unicode,jobName)))\n",
    "df['title'] = jobName\n",
    "df['url'] = BASE_URL.rsplit('/',3)[2]\n",
    "df.head(10)\n"
   ]
  },
  {
   "cell_type": "code",
   "execution_count": null,
   "metadata": {
    "collapsed": false
   },
   "outputs": [],
   "source": []
  },
  {
   "cell_type": "code",
   "execution_count": null,
   "metadata": {
    "collapsed": true
   },
   "outputs": [],
   "source": []
  }
 ],
 "metadata": {
  "kernelspec": {
   "display_name": "Python 2",
   "language": "python",
   "name": "python2"
  },
  "language_info": {
   "codemirror_mode": {
    "name": "ipython",
    "version": 2
   },
   "file_extension": ".py",
   "mimetype": "text/x-python",
   "name": "python",
   "nbconvert_exporter": "python",
   "pygments_lexer": "ipython2",
   "version": "2.7.10"
  }
 },
 "nbformat": 4,
 "nbformat_minor": 0
}
