{
 "cells": [
  {
   "cell_type": "markdown",
   "metadata": {},
   "source": [
    "### Purpose\n",
    "My goal is to learn how to scrape data using python.\n",
    "\n",
    "This is my first time scraping from the web. I found this documentation *extremely* helpful http://www.gregreda.com/2015/02/15/web-scraping-finding-the-api/. Here, I'm pulling in the shot log for Andrew Wiggins, the NBA Rookie of the Year last year."
   ]
  },
  {
   "cell_type": "code",
   "execution_count": 1,
   "metadata": {
    "collapsed": false
   },
   "outputs": [],
   "source": [
    "%matplotlib inline\n",
    "import requests\n",
    "import json\n",
    "import pandas as pd\n",
    "import matplotlib.pylab as plt\n",
    "import numpy as np"
   ]
  },
  {
   "cell_type": "markdown",
   "metadata": {},
   "source": [
    "To get the info needed, you can navigate to the website that gives the data you want. Using Chrome developer tools, you can navigate to find the API and see the structure of the request by previewing it."
   ]
  },
  {
   "cell_type": "code",
   "execution_count": 2,
   "metadata": {
    "collapsed": false
   },
   "outputs": [],
   "source": [
    "shotsUrl = 'http://stats.nba.com/stats/playerdashptshotlog?DateFrom=&DateTo=&' + \\\n",
    "    'GameSegment=&LastNGames=0&LeagueID=00&Location=&Month=0&' + \\\n",
    "    'OpponentTeamID=0&Outcome=&Period=0&PlayerID=203952&Season=2014-15' + \\\n",
    "    '&SeasonSegment=&SeasonType=Regular+Season&TeamID=0&VsConference=&VsDivision='"
   ]
  },
  {
   "cell_type": "markdown",
   "metadata": {},
   "source": [
    "Now, use requests to get the data back in json format "
   ]
  },
  {
   "cell_type": "code",
   "execution_count": 3,
   "metadata": {
    "collapsed": false
   },
   "outputs": [],
   "source": [
    "response = requests.get(shotsUrl)\n",
    "response.raise_for_status()\n",
    "shots = response.json()['resultSets'][0]['rowSet']\n",
    "colNames = response.json()['resultSets'][0]['headers']"
   ]
  },
  {
   "cell_type": "markdown",
   "metadata": {},
   "source": [
    "Now, having all the data in memory, arrange it and put it in a dataframe."
   ]
  },
  {
   "cell_type": "code",
   "execution_count": 4,
   "metadata": {
    "collapsed": false
   },
   "outputs": [
    {
     "data": {
      "text/html": [
       "<div>\n",
       "<table border=\"1\" class=\"dataframe\">\n",
       "  <thead>\n",
       "    <tr style=\"text-align: right;\">\n",
       "      <th></th>\n",
       "      <th>GAME_ID</th>\n",
       "      <th>MATCHUP</th>\n",
       "      <th>LOCATION</th>\n",
       "      <th>W</th>\n",
       "      <th>FINAL_MARGIN</th>\n",
       "      <th>SHOT_NUMBER</th>\n",
       "      <th>PERIOD</th>\n",
       "      <th>GAME_CLOCK</th>\n",
       "      <th>SHOT_CLOCK</th>\n",
       "      <th>DRIBBLES</th>\n",
       "      <th>TOUCH_TIME</th>\n",
       "      <th>SHOT_DIST</th>\n",
       "      <th>PTS_TYPE</th>\n",
       "      <th>SHOT_RESULT</th>\n",
       "      <th>CLOSEST_DEFENDER</th>\n",
       "      <th>CLOSEST_DEFENDER_PLAYER_ID</th>\n",
       "      <th>CLOSE_DEF_DIST</th>\n",
       "      <th>FGM</th>\n",
       "      <th>PTS</th>\n",
       "    </tr>\n",
       "  </thead>\n",
       "  <tbody>\n",
       "    <tr>\n",
       "      <th>0</th>\n",
       "      <td>0021401222</td>\n",
       "      <td>APR 15, 2015 - MIN vs. OKC</td>\n",
       "      <td>H</td>\n",
       "      <td>L</td>\n",
       "      <td>-25</td>\n",
       "      <td>1</td>\n",
       "      <td>1</td>\n",
       "      <td>11:23</td>\n",
       "      <td>11.9</td>\n",
       "      <td>1</td>\n",
       "      <td>3.6</td>\n",
       "      <td>10.5</td>\n",
       "      <td>2</td>\n",
       "      <td>missed</td>\n",
       "      <td>Roberson, Andre</td>\n",
       "      <td>203460</td>\n",
       "      <td>3.0</td>\n",
       "      <td>0</td>\n",
       "      <td>0</td>\n",
       "    </tr>\n",
       "    <tr>\n",
       "      <th>1</th>\n",
       "      <td>0021401222</td>\n",
       "      <td>APR 15, 2015 - MIN vs. OKC</td>\n",
       "      <td>H</td>\n",
       "      <td>L</td>\n",
       "      <td>-25</td>\n",
       "      <td>2</td>\n",
       "      <td>1</td>\n",
       "      <td>5:34</td>\n",
       "      <td>9.5</td>\n",
       "      <td>2</td>\n",
       "      <td>4.2</td>\n",
       "      <td>12.2</td>\n",
       "      <td>2</td>\n",
       "      <td>made</td>\n",
       "      <td>Morrow, Anthony</td>\n",
       "      <td>201627</td>\n",
       "      <td>2.3</td>\n",
       "      <td>1</td>\n",
       "      <td>2</td>\n",
       "    </tr>\n",
       "    <tr>\n",
       "      <th>2</th>\n",
       "      <td>0021401222</td>\n",
       "      <td>APR 15, 2015 - MIN vs. OKC</td>\n",
       "      <td>H</td>\n",
       "      <td>L</td>\n",
       "      <td>-25</td>\n",
       "      <td>3</td>\n",
       "      <td>1</td>\n",
       "      <td>1:58</td>\n",
       "      <td>6.0</td>\n",
       "      <td>0</td>\n",
       "      <td>1.0</td>\n",
       "      <td>24.5</td>\n",
       "      <td>3</td>\n",
       "      <td>missed</td>\n",
       "      <td>Kanter, Enes</td>\n",
       "      <td>202683</td>\n",
       "      <td>7.0</td>\n",
       "      <td>0</td>\n",
       "      <td>0</td>\n",
       "    </tr>\n",
       "    <tr>\n",
       "      <th>3</th>\n",
       "      <td>0021401222</td>\n",
       "      <td>APR 15, 2015 - MIN vs. OKC</td>\n",
       "      <td>H</td>\n",
       "      <td>L</td>\n",
       "      <td>-25</td>\n",
       "      <td>4</td>\n",
       "      <td>2</td>\n",
       "      <td>10:46</td>\n",
       "      <td>14.9</td>\n",
       "      <td>0</td>\n",
       "      <td>0.9</td>\n",
       "      <td>24.9</td>\n",
       "      <td>3</td>\n",
       "      <td>missed</td>\n",
       "      <td>Collison, Nick</td>\n",
       "      <td>2555</td>\n",
       "      <td>7.4</td>\n",
       "      <td>0</td>\n",
       "      <td>0</td>\n",
       "    </tr>\n",
       "    <tr>\n",
       "      <th>4</th>\n",
       "      <td>0021401222</td>\n",
       "      <td>APR 15, 2015 - MIN vs. OKC</td>\n",
       "      <td>H</td>\n",
       "      <td>L</td>\n",
       "      <td>-25</td>\n",
       "      <td>5</td>\n",
       "      <td>2</td>\n",
       "      <td>7:12</td>\n",
       "      <td>14.8</td>\n",
       "      <td>1</td>\n",
       "      <td>2.2</td>\n",
       "      <td>4.2</td>\n",
       "      <td>2</td>\n",
       "      <td>missed</td>\n",
       "      <td>Adams, Steven</td>\n",
       "      <td>203500</td>\n",
       "      <td>3.3</td>\n",
       "      <td>0</td>\n",
       "      <td>0</td>\n",
       "    </tr>\n",
       "  </tbody>\n",
       "</table>\n",
       "</div>"
      ],
      "text/plain": [
       "      GAME_ID                     MATCHUP LOCATION  W  FINAL_MARGIN  \\\n",
       "0  0021401222  APR 15, 2015 - MIN vs. OKC        H  L           -25   \n",
       "1  0021401222  APR 15, 2015 - MIN vs. OKC        H  L           -25   \n",
       "2  0021401222  APR 15, 2015 - MIN vs. OKC        H  L           -25   \n",
       "3  0021401222  APR 15, 2015 - MIN vs. OKC        H  L           -25   \n",
       "4  0021401222  APR 15, 2015 - MIN vs. OKC        H  L           -25   \n",
       "\n",
       "   SHOT_NUMBER  PERIOD GAME_CLOCK  SHOT_CLOCK  DRIBBLES  TOUCH_TIME  \\\n",
       "0            1       1      11:23        11.9         1         3.6   \n",
       "1            2       1       5:34         9.5         2         4.2   \n",
       "2            3       1       1:58         6.0         0         1.0   \n",
       "3            4       2      10:46        14.9         0         0.9   \n",
       "4            5       2       7:12        14.8         1         2.2   \n",
       "\n",
       "   SHOT_DIST  PTS_TYPE SHOT_RESULT CLOSEST_DEFENDER  \\\n",
       "0       10.5         2      missed  Roberson, Andre   \n",
       "1       12.2         2        made  Morrow, Anthony   \n",
       "2       24.5         3      missed     Kanter, Enes   \n",
       "3       24.9         3      missed   Collison, Nick   \n",
       "4        4.2         2      missed    Adams, Steven   \n",
       "\n",
       "   CLOSEST_DEFENDER_PLAYER_ID  CLOSE_DEF_DIST  FGM  PTS  \n",
       "0                      203460             3.0    0    0  \n",
       "1                      201627             2.3    1    2  \n",
       "2                      202683             7.0    0    0  \n",
       "3                        2555             7.4    0    0  \n",
       "4                      203500             3.3    0    0  "
      ]
     },
     "execution_count": 4,
     "metadata": {},
     "output_type": "execute_result"
    }
   ],
   "source": [
    "dfShots = pd.DataFrame(shots,columns=colNames)\n",
    "dfShots.head()"
   ]
  },
  {
   "cell_type": "markdown",
   "metadata": {},
   "source": [
    "There's a lot of data here. Let's just start with a quick analysis of how much time was on the shot clock when Wiggins shot the ball."
   ]
  },
  {
   "cell_type": "code",
   "execution_count": 5,
   "metadata": {
    "collapsed": false,
    "scrolled": true
   },
   "outputs": [
    {
     "data": {
      "text/plain": [
       "<matplotlib.text.Text at 0x109995a10>"
      ]
     },
     "execution_count": 5,
     "metadata": {},
     "output_type": "execute_result"
    },
    {
     "data": {
      "image/png": "[encoded data removed]",
      "text/plain": [
       "<matplotlib.figure.Figure at 0x109a87450>"
      ]
     },
     "metadata": {},
     "output_type": "display_data"
    }
   ],
   "source": [
    "allShots = dfShots[np.invert(np.isnan(dfShots.SHOT_CLOCK))]\n",
    "fig = plt.figure(figsize=(5,4), dpi=1600)\n",
    "ax = fig.add_subplot(111)\n",
    "allShots['SHOT_CLOCK'].hist(normed = True,bins=20,alpha=0.4,linewidth=0.4)\n",
    "ax.set_xlabel('Shot clock (s)',fontsize=16,fontweight='bold')\n",
    "ax.set_ylabel('Density',fontsize=16,fontweight='bold')\n",
    "fig.suptitle('Andrew Wiggins',fontsize=20,fontweight='bold')\n",
    "#plt.show()"
   ]
  },
  {
   "cell_type": "markdown",
   "metadata": {},
   "source": [
    "We can continue to dig into the data. Next let's just compare the same data divided into made shots and missed shots."
   ]
  },
  {
   "cell_type": "code",
   "execution_count": 6,
   "metadata": {
    "collapsed": false
   },
   "outputs": [
    {
     "data": {
      "image/png": "[encoded data removed]",
      "text/plain": [
       "<matplotlib.figure.Figure at 0x109d3db50>"
      ]
     },
     "metadata": {},
     "output_type": "display_data"
    }
   ],
   "source": [
    "fig = plt.figure(figsize=(5,4), dpi=1600)\n",
    "ax = fig.add_subplot(111)\n",
    "\n",
    "madeShots = dfShots[(dfShots.SHOT_RESULT=='made') & (np.invert(np.isnan(dfShots.SHOT_CLOCK)))]\n",
    "#madeShots = allShots[allShots.SHOT_RESULT=='made']\n",
    "missedShots = dfShots[(dfShots.SHOT_RESULT=='missed') & (np.invert(np.isnan(dfShots.SHOT_CLOCK)))]\n",
    "\n",
    "madeShots['SHOT_CLOCK'].hist(normed = True,bins=20,alpha=0.3,linewidth=0.4,label='made')\n",
    "missedShots['SHOT_CLOCK'].hist(normed = True,bins=20,alpha=0.3,linewidth=0.4,label='missed')\n",
    "plt.legend(loc='upper right',framealpha=0)\n",
    "\n",
    "ax.set_xlabel('Shot clock (s)',fontsize=16,fontweight='bold')\n",
    "ax.set_ylabel('Density',fontsize=16,fontweight='bold')\n",
    "fig.suptitle('Andrew Wiggins',fontsize=20,fontweight='bold')\n",
    "plt.show()"
   ]
  },
  {
   "cell_type": "markdown",
   "metadata": {},
   "source": [
    "It looks like the missed shots and made shots pretty much overlap. A couple of interesting points. The made shots density is relatively higher with more time left on the shot clock. This is probably due to quick put-back shots. At low time left, the missed is slightly higher, suggesting possible forced low-quality shots as the shot clock is expiring.\n",
    "\n",
    "There's obviously a lot more room for analysis here. But I'm happy that after fumbling through this I have a much better grasp on scraping web data."
   ]
  },
  {
   "cell_type": "markdown",
   "metadata": {},
   "source": [
    "# Nike bootstraps\n",
    "A quick diversion. We have these two distributions, and they look different by eye, but can we say with confidence that the sample means are not the same? To translate that to statistics mumbo jumbo, can we reject the null hypothesis that these two distributions have equal sample means?\n",
    "\n",
    "If the data were nice pretty Gaussians, then a t-test would be perfect. I'm not sure what distribution describes the time remaining on the shot clock, so we'll instead take a _non-parametric approach_, that is, to not assume knowledge of the underlying distributions.\n",
    "\n",
    "So... let's use bootstrapping to estimate the error of the estimates of the means for the two distributions. This will tell us if we can distinguish these distributions with confidence."
   ]
  },
  {
   "cell_type": "code",
   "execution_count": 7,
   "metadata": {
    "collapsed": true
   },
   "outputs": [],
   "source": [
    "from sklearn.utils import resample"
   ]
  },
  {
   "cell_type": "markdown",
   "metadata": {},
   "source": [
    "Now, let's write a function to resample the sample data. \n",
    "\n",
    "__Wait, you are seriously going to use only your data to make up more theoretical data and use this to draw conclusions about the real-world error of the original data?__  \n",
    "\n",
    "Okay, so this hits a nerve. The experimentalist in me has had the luxury of resampling from the population by just doing another experiment. This is obiously the ideal case. So I've always kind of kept a healthy skepticism every time I thought about bootstrap resampling.\n",
    "\n",
    "Apparently it is called  bootstrapping precisely because it is physically impossible to pull yourself up off the ground by pulling your own bootstraps (wiki ref). This happens to work in statistics though. Think of it this way, as your sample increases in size, it will more closely approximate the underlying distribution of the data. \n",
    "\n",
    "___Bootstrapping relies upon the assumption that your sample closely resembles the unobserved/theoretical population distribution___. Therefore sampling from your sample is equivalent to sampling from the the population. This makes sense for larger sample sizes, but I would stay cautious using bootstrapping with small samples, because the sample may not resemble the total population."
   ]
  },
  {
   "cell_type": "markdown",
   "metadata": {},
   "source": [
    "Okay, to the bootstraps. Here's a function to return the 95% confidence interval for the estimate of the mean."
   ]
  },
  {
   "cell_type": "code",
   "execution_count": 8,
   "metadata": {
    "collapsed": false
   },
   "outputs": [],
   "source": [
    "def getCI(dist,n=1000):\n",
    "    bootMean = []\n",
    "    for i in range(n):\n",
    "        newDist = resample(dist)\n",
    "        bootMean.append(newDist.mean())\n",
    "    bootMean = sorted(bootMean)\n",
    "    madeCI = {'lower': bootMean[int(n*0.025)], 'upper': bootMean[int(n*0.975)], 'mean': bootMean[int(n*0.5)]}\n",
    "    return madeCI"
   ]
  },
  {
   "cell_type": "markdown",
   "metadata": {},
   "source": [
    "Now, resample 1,000 times to calculate the 95% CI of the mean shot clock time remaining for both the made and missed shots."
   ]
  },
  {
   "cell_type": "code",
   "execution_count": 9,
   "metadata": {
    "collapsed": false
   },
   "outputs": [
    {
     "name": "stdout",
     "output_type": "stream",
     "text": [
      "Made shots abs. error intervals:\n",
      "0.485802469136, 0.494855967078\n",
      "\n",
      "Missed shots abs. error intervals:\n",
      "0.414308943089, 0.429756097561\n"
     ]
    }
   ],
   "source": [
    "made = getCI(madeShots['SHOT_CLOCK'],1000)\n",
    "missed = getCI(missedShots['SHOT_CLOCK'],1000)\n",
    "\n",
    "madeUp = abs(made['upper'] - made['mean'])\n",
    "madeLow = abs(made['lower'] - made['mean'])\n",
    "print \"Made shots abs. error intervals:\\n\" + str(madeLow) +', ' + str(madeUp) + '\\n'\n",
    "missedUp = abs(missed['upper'] - missed['mean'])\n",
    "missedLow = abs(missed['lower'] - missed['mean'])\n",
    "print \"Missed shots abs. error intervals:\\n\" + str(missedLow) + ', ' + str(missedUp)"
   ]
  },
  {
   "cell_type": "code",
   "execution_count": 10,
   "metadata": {
    "collapsed": false,
    "scrolled": true
   },
   "outputs": [
    {
     "name": "stderr",
     "output_type": "stream",
     "text": [
      "/Users/Peter/anaconda/lib/python2.7/site-packages/matplotlib/collections.py:590: FutureWarning: elementwise comparison failed; returning scalar instead, but in the future will perform elementwise comparison\n",
      "  if self._edgecolors == str('face'):\n"
     ]
    },
    {
     "data": {
      "image/png": "[encoded data removed]",
      "text/plain": [
       "<matplotlib.figure.Figure at 0x10ae74490>"
      ]
     },
     "metadata": {},
     "output_type": "display_data"
    }
   ],
   "source": [
    "fig = plt.figure(figsize=(8,6), dpi=1600)\n",
    "ax = fig.add_subplot(111)\n",
    "\n",
    "madeShots = dfShots[(dfShots.SHOT_RESULT=='made') & (np.invert(np.isnan(dfShots.SHOT_CLOCK)))]\n",
    "#madeShots = allShots[allShots.SHOT_RESULT=='made']\n",
    "missedShots = dfShots[(dfShots.SHOT_RESULT=='missed') & (np.invert(np.isnan(dfShots.SHOT_CLOCK)))]\n",
    "\n",
    "madeShots['SHOT_CLOCK'].hist(normed = True,bins=20,alpha=0.3,linewidth=0.4,label='made')\n",
    "missedShots['SHOT_CLOCK'].hist(normed = True,bins=20,alpha=0.3,linewidth=0.4,label='missed')\n",
    "plt.legend(loc='upper right',framealpha=0)\n",
    "\n",
    "ax.set_xlabel('Shot clock (s)',fontsize=16,fontweight='bold')\n",
    "ax.set_ylabel('Density',fontsize=16,fontweight='bold')\n",
    "fig.suptitle('Andrew Wiggins',fontsize=20,fontweight='bold')\n",
    "\n",
    "plt.errorbar(x=[made['mean']],y=[0.05],xerr=[[madeLow],[madeUp]],linewidth=3,capthick=3,ecolor='b')\n",
    "plt.errorbar(x=[missed['mean']],y=[0.05],xerr=[[missedLow],[missedUp]],linewidth=3,capthick=3,ecolor='g')\n",
    "\n",
    "plt.show()\n"
   ]
  },
  {
   "cell_type": "code",
   "execution_count": 11,
   "metadata": {
    "collapsed": false
   },
   "outputs": [
    {
     "name": "stderr",
     "output_type": "stream",
     "text": [
      "/Users/Peter/anaconda/lib/python2.7/site-packages/pandas/core/indexing.py:260: SettingWithCopyWarning: \n",
      "A value is trying to be set on a copy of a slice from a DataFrame.\n",
      "Try using .loc[row_indexer,col_indexer] = value instead\n",
      "\n",
      "See the caveats in the documentation: http://pandas.pydata.org/pandas-docs/stable/indexing.html#indexing-view-versus-copy\n",
      "  self.obj[key] = _infer_fill_value(value)\n",
      "/Users/Peter/anaconda/lib/python2.7/site-packages/pandas/core/indexing.py:420: SettingWithCopyWarning: \n",
      "A value is trying to be set on a copy of a slice from a DataFrame.\n",
      "Try using .loc[row_indexer,col_indexer] = value instead\n",
      "\n",
      "See the caveats in the documentation: http://pandas.pydata.org/pandas-docs/stable/indexing.html#indexing-view-versus-copy\n",
      "  self.obj[item] = s\n"
     ]
    }
   ],
   "source": [
    "#cMin,cSec = allShots['GAME_CLOCK'].str.split(':').str.get(0),allShots['GAME_CLOCK'].str.split(':').str.get(1)\n",
    "cMin,cSec = allShots.loc[:,'GAME_CLOCK'].str.split(':').str.get(0),allShots.loc[:,'GAME_CLOCK'].str.split(':').str.get(1)\n",
    "\n",
    "allShots.loc[:,'secGameClock'] = cMin.astype('int') * 60 + cSec.astype('int')\n",
    "#allShots"
   ]
  },
  {
   "cell_type": "code",
   "execution_count": 12,
   "metadata": {
    "collapsed": false
   },
   "outputs": [],
   "source": [
    "# Dummify variables\n",
    "\n",
    "pd.get_dummies(allShots[['W','LOCATION','FGM']])\n",
    "allShots.loc[:,'gameWon'] = pd.get_dummies(allShots['W'])['W']\n",
    "allShots.loc[:,'homeGame'] = pd.get_dummies(allShots['LOCATION'])['H']\n",
    "allShots.loc[:,'is3Pointer'] = pd.get_dummies(allShots['PTS_TYPE'])[3]\n",
    "q = pd.get_dummies(allShots['PERIOD'])[[2,3,4,5]]\n",
    "allShots = pd.concat([allShots,q],axis=1)\n"
   ]
  },
  {
   "cell_type": "code",
   "execution_count": 13,
   "metadata": {
    "collapsed": false
   },
   "outputs": [
    {
     "data": {
      "text/plain": [
       "[None, None, None, None, None, None, None, None, None, None, None]"
      ]
     },
     "execution_count": 13,
     "metadata": {},
     "output_type": "execute_result"
    }
   ],
   "source": [
    "dropThese = ['GAME_ID','MATCHUP','CLOSEST_DEFENDER','CLOSEST_DEFENDER_PLAYER_ID','GAME_CLOCK','SHOT_RESULT','LOCATION','W','PERIOD','PTS_TYPE','PTS']\n",
    "[ allShots.drop(i, axis=1, inplace=True) for i in dropThese ] \n",
    "\n"
   ]
  },
  {
   "cell_type": "code",
   "execution_count": 14,
   "metadata": {
    "collapsed": false
   },
   "outputs": [],
   "source": [
    "#from sklearn import linear_model\n",
    "from sklearn.linear_model import SGDClassifier, RidgeClassifier, LogisticRegression\n",
    "from sklearn import cross_validation\n",
    "from sklearn.preprocessing import scale\n",
    "from sklearn.svm import SVC\n",
    "from sklearn.ensemble import RandomForestClassifier, BaggingClassifier\n"
   ]
  },
  {
   "cell_type": "code",
   "execution_count": 15,
   "metadata": {
    "collapsed": false
   },
   "outputs": [],
   "source": [
    "trainShots = allShots[1::2] #Odd rows\n",
    "testShots = allShots[::2] #Even rows"
   ]
  },
  {
   "cell_type": "code",
   "execution_count": 16,
   "metadata": {
    "collapsed": false
   },
   "outputs": [],
   "source": [
    "scAllShots = pd.DataFrame(scale(allShots),index=allShots.index,columns=allShots.columns)\n",
    "scTrainShots = scAllShots[1::2] \n",
    "scTestShots = scAllShots[::2]"
   ]
  },
  {
   "cell_type": "code",
   "execution_count": 17,
   "metadata": {
    "collapsed": false
   },
   "outputs": [
    {
     "name": "stdout",
     "output_type": "stream",
     "text": [
      "Algorithm used:\n",
      "RandomForestClassifier(n_estimators=100)\n",
      "\n",
      "\n",
      "Correctly classified:\n",
      "62.25%\n",
      "\n",
      "\n",
      "Algorithm used:\n",
      "BaggingClassifier()\n",
      "\n",
      "\n",
      "Correctly classified:\n",
      "58.8%\n",
      "\n",
      "\n",
      "Algorithm used:\n",
      "SGDClassifier(alpha=2)\n",
      "\n",
      "\n",
      "Correctly classified:\n",
      "54.99%\n",
      "\n",
      "\n",
      "Algorithm used:\n",
      "RidgeClassifier(alpha=2)\n",
      "\n",
      "\n",
      "Correctly classified:\n",
      "60.62%\n",
      "\n",
      "\n",
      "Algorithm used:\n",
      "LogisticRegression()\n",
      "\n",
      "\n",
      "Correctly classified:\n",
      "60.25%\n",
      "\n",
      "\n",
      "Algorithm used:\n",
      "LogisticRegression()\n",
      "\n",
      "\n",
      "Correctly classified:\n",
      "60.25%\n",
      "\n",
      "\n",
      "Algorithm used:\n",
      "SVC()\n",
      "\n",
      "\n",
      "Correctly classified:\n",
      "54.63%\n",
      "\n",
      "\n",
      "Algorithm used:\n",
      "SVC()\n",
      "\n",
      "\n",
      "Correctly classified:\n",
      "58.26%\n",
      "\n",
      "\n"
     ]
    }
   ],
   "source": [
    "#Huzzah this one is generalized!\n",
    "#Rebuild the restof the code around this\n",
    "\n",
    "def myLearning(myData,myMod,trainIdx,testIdx,respVar,scaleIt=False): #Make this a function of train/test set, scale, algorithm\n",
    "    predCol = [col for col in allShots.columns if col != respVar]\n",
    "    if scaleIt == True:\n",
    "        myData = pd.DataFrame(scale(myData), index=myData.index, columns=allShots.columns)\n",
    "    trainSet = eval('myData' + trainIdx)\n",
    "    testSet = eval('myData' + testIdx)\n",
    "    print 'Algorithm used:\\n' + myMod + '\\n'\n",
    "    myEst = eval(myMod)\n",
    "    myEst.fit(\n",
    "        trainSet[predCol],\n",
    "        trainSet['FGM']\n",
    "    )\n",
    "    print \n",
    "    matches = np.count_nonzero(myEst.predict(testSet[predCol]) == testSet['FGM'])\n",
    "    testLen = testSet.shape[0]\n",
    "    print \"Correctly classified:\\n\" + str(round(float(matches) / testLen * 100,2)) + '%\\n\\n'\n",
    "\n",
    "     \n",
    "myLearning(myData=allShots,myMod='RandomForestClassifier(n_estimators=100)',trainIdx='[1::2]',testIdx='[::2]',respVar='FGM',scaleIt=False) \n",
    "myLearning(myData=allShots,myMod='BaggingClassifier()',trainIdx='[1::2]',testIdx='[::2]',respVar='FGM',scaleIt=False) \n",
    "    \n",
    "myLearning(myData=allShots,myMod='SGDClassifier(alpha=2)',trainIdx='[1::2]',testIdx='[::2]',respVar='FGM',scaleIt=False) \n",
    "myLearning(myData=allShots,myMod='RidgeClassifier(alpha=2)',trainIdx='[1::2]',testIdx='[::2]',respVar='FGM',scaleIt=False) \n",
    "\n",
    "\n",
    "myLearning(myData=allShots,myMod='LogisticRegression()',trainIdx='[1::2]',testIdx='[::2]',respVar='FGM',scaleIt=True) \n",
    "myLearning(myData=allShots,myMod='LogisticRegression()',trainIdx='[1::2]',testIdx='[::2]',respVar='FGM',scaleIt=False) \n",
    "\n",
    "myLearning(myData=allShots,myMod='SVC()',trainIdx='[1::2]',testIdx='[::2]',respVar='FGM',scaleIt=False) \n",
    "myLearning(myData=allShots,myMod='SVC()',trainIdx='[1::2]',testIdx='[::2]',respVar='FGM',scaleIt=True) \n"
   ]
  },
  {
   "cell_type": "code",
   "execution_count": null,
   "metadata": {
    "collapsed": true
   },
   "outputs": [],
   "source": []
  },
  {
   "cell_type": "code",
   "execution_count": 18,
   "metadata": {
    "collapsed": false
   },
   "outputs": [
    {
     "name": "stdout",
     "output_type": "stream",
     "text": [
      "Algorithm used:\n",
      "LogisticRegression()\n",
      "\n",
      "Correctly classified:\n",
      "60.25%\n"
     ]
    }
   ],
   "source": [
    "#I'm developing this one to read in data and make train/test based on an index\n",
    "\n",
    "def myLearning(myMod,trainSet,testSet,respVar,scaleIt=False): #Make this a function of train/test set, scale, algorithm\n",
    "    predCol = [col for col in allShots.columns if col != respVar]\n",
    "    if scaleIt == True:\n",
    "        print 'Scale is true! Write some code to scale the data...'\n",
    "    print 'Algorithm used:\\n' + myMod + '\\n'\n",
    "    myEst = eval(myMod)\n",
    "    myEst.fit(\n",
    "        eval(trainSet)[predCol],\n",
    "        eval(trainSet)['FGM']\n",
    "    )\n",
    "    matches = np.count_nonzero(myEst.predict(eval(testSet)[predCol]) == eval(testSet)['FGM'])\n",
    "    testLen = eval(testSet).shape[0]\n",
    "    print \"Correctly classified:\\n\" + str(round(float(matches) / testLen * 100,2)) + '%'\n",
    "\n",
    "\n",
    "myLearning(myMod='LogisticRegression()',trainSet='trainShots',testSet='testShots',respVar='FGM') "
   ]
  },
  {
   "cell_type": "code",
   "execution_count": 19,
   "metadata": {
    "collapsed": false
   },
   "outputs": [
    {
     "name": "stdout",
     "output_type": "stream",
     "text": [
      "[u'FINAL_MARGIN', u'SHOT_NUMBER', u'SHOT_CLOCK', u'DRIBBLES', u'TOUCH_TIME', u'SHOT_DIST', u'CLOSE_DEF_DIST', 'secGameClock', 'gameWon', 'homeGame', 'is3Pointer', 2, 3, 4, 5]\n"
     ]
    },
    {
     "data": {
      "text/plain": [
       "SVC(C=1.0, cache_size=200, class_weight=None, coef0=0.0, degree=3, gamma=0.0,\n",
       "  kernel='rbf', max_iter=-1, probability=False, random_state=None,\n",
       "  shrinking=True, tol=0.001, verbose=False)"
      ]
     },
     "execution_count": 19,
     "metadata": {},
     "output_type": "execute_result"
    }
   ],
   "source": [
    "predCol = [col for col in allShots.columns if col != 'FGM']\n",
    "print predCol\n",
    "\n",
    "estLog = LogisticRegression()\n",
    "estLog.fit(trainShots[predCol],trainShots['FGM'])\n",
    "estSVM = SVC()\n",
    "estSVM.fit(trainShots[predCol],trainShots['FGM'])\n",
    "estscSVM = SVC()\n",
    "estscSVM.fit(scTrainShots[predCol],scTrainShots['FGM'])\n",
    "\n",
    "\n"
   ]
  },
  {
   "cell_type": "code",
   "execution_count": 20,
   "metadata": {
    "collapsed": false
   },
   "outputs": [],
   "source": [
    "results = pd.DataFrame()\n",
    "results['predLog'] = estLog.predict(testShots[predCol])\n",
    "results['predSVM'] = estSVM.predict(testShots[predCol])\n",
    "\n",
    "results['scPredSVM'] = estscSVM.predict(scTestShots[predCol])\n",
    "#NuSVC, LinearSVC"
   ]
  },
  {
   "cell_type": "code",
   "execution_count": 21,
   "metadata": {
    "collapsed": false
   },
   "outputs": [
    {
     "data": {
      "text/html": [
       "<div>\n",
       "<table border=\"1\" class=\"dataframe\">\n",
       "  <thead>\n",
       "    <tr style=\"text-align: right;\">\n",
       "      <th></th>\n",
       "      <th>predLog</th>\n",
       "      <th>predSVM</th>\n",
       "      <th>scPredSVM</th>\n",
       "      <th>actual</th>\n",
       "      <th>scActual</th>\n",
       "    </tr>\n",
       "  </thead>\n",
       "  <tbody>\n",
       "    <tr>\n",
       "      <th>0</th>\n",
       "      <td>0</td>\n",
       "      <td>0</td>\n",
       "      <td>-0.888957</td>\n",
       "      <td>0</td>\n",
       "      <td>-0.888957</td>\n",
       "    </tr>\n",
       "    <tr>\n",
       "      <th>1</th>\n",
       "      <td>0</td>\n",
       "      <td>0</td>\n",
       "      <td>-0.888957</td>\n",
       "      <td>0</td>\n",
       "      <td>-0.888957</td>\n",
       "    </tr>\n",
       "    <tr>\n",
       "      <th>2</th>\n",
       "      <td>1</td>\n",
       "      <td>0</td>\n",
       "      <td>1.124914</td>\n",
       "      <td>0</td>\n",
       "      <td>-0.888957</td>\n",
       "    </tr>\n",
       "    <tr>\n",
       "      <th>3</th>\n",
       "      <td>1</td>\n",
       "      <td>0</td>\n",
       "      <td>-0.888957</td>\n",
       "      <td>1</td>\n",
       "      <td>1.124914</td>\n",
       "    </tr>\n",
       "    <tr>\n",
       "      <th>4</th>\n",
       "      <td>1</td>\n",
       "      <td>0</td>\n",
       "      <td>1.124914</td>\n",
       "      <td>1</td>\n",
       "      <td>1.124914</td>\n",
       "    </tr>\n",
       "  </tbody>\n",
       "</table>\n",
       "</div>"
      ],
      "text/plain": [
       "   predLog  predSVM  scPredSVM  actual  scActual\n",
       "0        0        0  -0.888957       0 -0.888957\n",
       "1        0        0  -0.888957       0 -0.888957\n",
       "2        1        0   1.124914       0 -0.888957\n",
       "3        1        0  -0.888957       1  1.124914\n",
       "4        1        0   1.124914       1  1.124914"
      ]
     },
     "execution_count": 21,
     "metadata": {},
     "output_type": "execute_result"
    }
   ],
   "source": [
    "results['actual'] = np.array(testShots['FGM'])\n",
    "results['scActual'] = np.array(scTestShots['FGM'])\n",
    "results.head()"
   ]
  },
  {
   "cell_type": "code",
   "execution_count": 22,
   "metadata": {
    "collapsed": false
   },
   "outputs": [],
   "source": [
    "results['logTF'] = results['predLog'] == results['actual']\n",
    "results['svmTF'] = results['predSVM'] == results['actual']\n",
    "\n",
    "results['scSvmTF'] = results['scPredSVM'] == results['scActual']"
   ]
  },
  {
   "cell_type": "code",
   "execution_count": 23,
   "metadata": {
    "collapsed": false
   },
   "outputs": [
    {
     "name": "stdout",
     "output_type": "stream",
     "text": [
      "60.2540834846\n",
      "54.6279491833\n",
      "58.2577132486\n"
     ]
    }
   ],
   "source": [
    "print np.count_nonzero(results['logTF'])/float(len(results))*100\n",
    "print np.count_nonzero(results['svmTF'])/float(len(results))*100\n",
    "\n",
    "print np.count_nonzero(results['scSvmTF'])/float(len(results))*100\n",
    "\n",
    "#trainShots[predCol]"
   ]
  },
  {
   "cell_type": "code",
   "execution_count": 24,
   "metadata": {
    "collapsed": false
   },
   "outputs": [
    {
     "ename": "NameError",
     "evalue": "name 'linear_model' is not defined",
     "output_type": "error",
     "traceback": [
      "\u001b[0;31m---------------------------------------------------------------------------\u001b[0m",
      "\u001b[0;31mNameError\u001b[0m                                 Traceback (most recent call last)",
      "\u001b[0;32m<ipython-input-24-455d40606ee0>\u001b[0m in \u001b[0;36m<module>\u001b[0;34m()\u001b[0m\n\u001b[0;32m----> 1\u001b[0;31m \u001b[0mestLog\u001b[0m \u001b[0;34m=\u001b[0m \u001b[0mlinear_model\u001b[0m\u001b[0;34m.\u001b[0m\u001b[0mLogisticRegression\u001b[0m\u001b[0;34m(\u001b[0m\u001b[0;34m)\u001b[0m\u001b[0;34m\u001b[0m\u001b[0m\n\u001b[0m\u001b[1;32m      2\u001b[0m \u001b[0mestLog\u001b[0m\u001b[0;34m.\u001b[0m\u001b[0mfit\u001b[0m\u001b[0;34m(\u001b[0m\u001b[0mtrainShots\u001b[0m\u001b[0;34m[\u001b[0m\u001b[0mpredCol\u001b[0m\u001b[0;34m]\u001b[0m\u001b[0;34m,\u001b[0m\u001b[0mtrainShots\u001b[0m\u001b[0;34m[\u001b[0m\u001b[0;34m'FGM'\u001b[0m\u001b[0;34m]\u001b[0m\u001b[0;34m)\u001b[0m\u001b[0;34m\u001b[0m\u001b[0m\n",
      "\u001b[0;31mNameError\u001b[0m: name 'linear_model' is not defined"
     ]
    }
   ],
   "source": [
    "estLog = linear_model.LogisticRegression()\n",
    "estLog.fit(trainShots[predCol],trainShots['FGM'])"
   ]
  },
  {
   "cell_type": "code",
   "execution_count": null,
   "metadata": {
    "collapsed": false
   },
   "outputs": [],
   "source": [
    "from sklearn import cross_validation"
   ]
  },
  {
   "cell_type": "code",
   "execution_count": null,
   "metadata": {
    "collapsed": false
   },
   "outputs": [],
   "source": [
    "predCol = [col for col in allShots.columns if col != 'FGM']\n",
    "allShots = allShots.reset_index(drop=True)\n",
    "\n",
    "loo = cross_validation.LeaveOneOut(len(allShots))\n",
    "estLog = linear_model.LogisticRegression()\n",
    "svmCorrect, logCorrect = 0, 0\n",
    "for trainIdx, testIdx in loo:\n",
    "    trainShots = allShots.loc[trainIdx]\n",
    "    estLog = linear_model.LogisticRegression()\n",
    "    estLog.fit(trainShots[predCol],trainShots['FGM'])\n",
    "    estSVM = svm.SVC()\n",
    "    estSVM.fit(trainShots[predCol],trainShots['FGM'])\n",
    "    testShots = allShots.loc[testIdx]\n",
    "    if int(estLog.predict(testShots[predCol])) == int(testShots['FGM']):\n",
    "        logCorrect += 1\n",
    "    if int(estSVM.predict(testShots[predCol])) == int(testShots['FGM']):\n",
    "        svmCorrect += 1\n",
    "logClass = round(logCorrect/float(len(allShots))*100,2)\n",
    "svmClass = round(svmCorrect/float(len(allShots))*100,2)\n",
    "print \"Logistic regression prediction accuracy: \" + str(logClass) + \" \\n\"\n",
    "print \"Support vector machine prediction accuracy: \" + str(svmClass)"
   ]
  },
  {
   "cell_type": "code",
   "execution_count": null,
   "metadata": {
    "collapsed": false
   },
   "outputs": [],
   "source": [
    "# Figuring out scaling. \n",
    "\n",
    "p = pd.DataFrame({'a': 20+50*np.random.randn(10),'b':np.random.randn(10)})\n",
    "print np.std(sk.preprocessing.scale(p)[:,0]), np.std(sk.preprocessing.scale(p)[:,1])\n",
    "print np.mean(sk.preprocessing.scale(p)[:,0]), np.mean(sk.preprocessing.scale(p)[:,1])"
   ]
  },
  {
   "cell_type": "code",
   "execution_count": null,
   "metadata": {
    "collapsed": true
   },
   "outputs": [],
   "source": []
  },
  {
   "cell_type": "code",
   "execution_count": null,
   "metadata": {
    "collapsed": true
   },
   "outputs": [],
   "source": []
  },
  {
   "cell_type": "code",
   "execution_count": null,
   "metadata": {
    "collapsed": true
   },
   "outputs": [],
   "source": []
  },
  {
   "cell_type": "code",
   "execution_count": null,
   "metadata": {
    "collapsed": true
   },
   "outputs": [],
   "source": []
  },
  {
   "cell_type": "code",
   "execution_count": null,
   "metadata": {
    "collapsed": true
   },
   "outputs": [],
   "source": []
  },
  {
   "cell_type": "code",
   "execution_count": null,
   "metadata": {
    "collapsed": true
   },
   "outputs": [],
   "source": []
  }
 ],
 "metadata": {
  "kernelspec": {
   "display_name": "Python 2",
   "language": "python",
   "name": "python2"
  },
  "language_info": {
   "codemirror_mode": {
    "name": "ipython",
    "version": 2
   },
   "file_extension": ".py",
   "mimetype": "text/x-python",
   "name": "python",
   "nbconvert_exporter": "python",
   "pygments_lexer": "ipython2",
   "version": "2.7.10"
  }
 },
 "nbformat": 4,
 "nbformat_minor": 0
}
