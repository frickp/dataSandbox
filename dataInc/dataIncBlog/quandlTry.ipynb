{
 "cells": [
  {
   "cell_type": "code",
   "execution_count": 113,
   "metadata": {
    "collapsed": false
   },
   "outputs": [],
   "source": [
    "import requests\n",
    "\n",
    "api_url = 'https://www.quandl.com/api/v1/datasets/WIKI/%s.json' % 'GOOG'\n",
    "session = requests.Session()\n",
    "session.mount('http://', requests.adapters.HTTPAdapter(max_retries=3))\n",
    "raw_data = session.get(api_url)\n",
    "\n",
    "# This is a low-tech alternate to get the data. \n",
    "# Not sure why you want to mount...\n",
    "\n",
    "#URL = 'https://www.quandl.com/api/v1/datasets/WIKI/GOOG'\n",
    "#r = requests.get(URL)\n",
    "#r.json()"
   ]
  },
  {
   "cell_type": "code",
   "execution_count": 129,
   "metadata": {
    "collapsed": false
   },
   "outputs": [],
   "source": [
    "%matplotlib inline\n",
    "import matplotlib.pyplot as plt\n",
    "import pandas as pd"
   ]
  },
  {
   "cell_type": "code",
   "execution_count": 130,
   "metadata": {
    "collapsed": false
   },
   "outputs": [
    {
     "data": {
      "text/plain": [
       "[u'column_names',\n",
       " u'code',\n",
       " u'source_name',\n",
       " u'name',\n",
       " u'display_url',\n",
       " u'urlize_name',\n",
       " u'data',\n",
       " u'updated_at',\n",
       " u'private',\n",
       " u'from_date',\n",
       " u'errors',\n",
       " u'frequency',\n",
       " u'to_date',\n",
       " u'premium',\n",
       " u'source_code',\n",
       " u'type',\n",
       " u'id',\n",
       " u'description']"
      ]
     },
     "execution_count": 130,
     "metadata": {},
     "output_type": "execute_result"
    }
   ],
   "source": [
    "# Look at the JSON keys\n",
    "# ['data'] is what we want\n",
    "raw_data.json().keys()"
   ]
  },
  {
   "cell_type": "code",
   "execution_count": 131,
   "metadata": {
    "collapsed": false
   },
   "outputs": [
    {
     "data": {
      "text/html": [
       "<div>\n",
       "<table border=\"1\" class=\"dataframe\">\n",
       "  <thead>\n",
       "    <tr style=\"text-align: right;\">\n",
       "      <th></th>\n",
       "      <th>Date</th>\n",
       "      <th>Open</th>\n",
       "      <th>High</th>\n",
       "      <th>Low</th>\n",
       "      <th>Close</th>\n",
       "      <th>Volume</th>\n",
       "      <th>Ex-Dividend</th>\n",
       "      <th>Split Ratio</th>\n",
       "      <th>Adj. Open</th>\n",
       "      <th>Adj. High</th>\n",
       "      <th>Adj. Low</th>\n",
       "      <th>Adj. Close</th>\n",
       "      <th>Adj. Volume</th>\n",
       "    </tr>\n",
       "  </thead>\n",
       "  <tbody>\n",
       "    <tr>\n",
       "      <th>0</th>\n",
       "      <td>2015-11-02</td>\n",
       "      <td>711.06</td>\n",
       "      <td>721.62</td>\n",
       "      <td>705.85</td>\n",
       "      <td>721.11</td>\n",
       "      <td>1867760</td>\n",
       "      <td>0</td>\n",
       "      <td>1</td>\n",
       "      <td>711.06</td>\n",
       "      <td>721.62</td>\n",
       "      <td>705.85</td>\n",
       "      <td>721.11</td>\n",
       "      <td>1867760</td>\n",
       "    </tr>\n",
       "    <tr>\n",
       "      <th>1</th>\n",
       "      <td>2015-10-30</td>\n",
       "      <td>715.73</td>\n",
       "      <td>718.00</td>\n",
       "      <td>710.05</td>\n",
       "      <td>710.81</td>\n",
       "      <td>1882801</td>\n",
       "      <td>0</td>\n",
       "      <td>1</td>\n",
       "      <td>715.73</td>\n",
       "      <td>718.00</td>\n",
       "      <td>710.05</td>\n",
       "      <td>710.81</td>\n",
       "      <td>1882801</td>\n",
       "    </tr>\n",
       "    <tr>\n",
       "      <th>2</th>\n",
       "      <td>2015-10-29</td>\n",
       "      <td>710.50</td>\n",
       "      <td>718.26</td>\n",
       "      <td>710.01</td>\n",
       "      <td>716.92</td>\n",
       "      <td>1451743</td>\n",
       "      <td>0</td>\n",
       "      <td>1</td>\n",
       "      <td>710.50</td>\n",
       "      <td>718.26</td>\n",
       "      <td>710.01</td>\n",
       "      <td>716.92</td>\n",
       "      <td>1451743</td>\n",
       "    </tr>\n",
       "    <tr>\n",
       "      <th>3</th>\n",
       "      <td>2015-10-28</td>\n",
       "      <td>707.33</td>\n",
       "      <td>712.98</td>\n",
       "      <td>703.08</td>\n",
       "      <td>712.95</td>\n",
       "      <td>2166114</td>\n",
       "      <td>0</td>\n",
       "      <td>1</td>\n",
       "      <td>707.33</td>\n",
       "      <td>712.98</td>\n",
       "      <td>703.08</td>\n",
       "      <td>712.95</td>\n",
       "      <td>2166114</td>\n",
       "    </tr>\n",
       "    <tr>\n",
       "      <th>4</th>\n",
       "      <td>2015-10-27</td>\n",
       "      <td>707.38</td>\n",
       "      <td>713.62</td>\n",
       "      <td>704.55</td>\n",
       "      <td>708.49</td>\n",
       "      <td>2250799</td>\n",
       "      <td>0</td>\n",
       "      <td>1</td>\n",
       "      <td>707.38</td>\n",
       "      <td>713.62</td>\n",
       "      <td>704.55</td>\n",
       "      <td>708.49</td>\n",
       "      <td>2250799</td>\n",
       "    </tr>\n",
       "  </tbody>\n",
       "</table>\n",
       "</div>"
      ],
      "text/plain": [
       "         Date    Open    High     Low   Close   Volume  Ex-Dividend  \\\n",
       "0  2015-11-02  711.06  721.62  705.85  721.11  1867760            0   \n",
       "1  2015-10-30  715.73  718.00  710.05  710.81  1882801            0   \n",
       "2  2015-10-29  710.50  718.26  710.01  716.92  1451743            0   \n",
       "3  2015-10-28  707.33  712.98  703.08  712.95  2166114            0   \n",
       "4  2015-10-27  707.38  713.62  704.55  708.49  2250799            0   \n",
       "\n",
       "   Split Ratio  Adj. Open  Adj. High  Adj. Low  Adj. Close  Adj. Volume  \n",
       "0            1     711.06     721.62    705.85      721.11      1867760  \n",
       "1            1     715.73     718.00    710.05      710.81      1882801  \n",
       "2            1     710.50     718.26    710.01      716.92      1451743  \n",
       "3            1     707.33     712.98    703.08      712.95      2166114  \n",
       "4            1     707.38     713.62    704.55      708.49      2250799  "
      ]
     },
     "execution_count": 131,
     "metadata": {},
     "output_type": "execute_result"
    }
   ],
   "source": [
    "myData = pd.DataFrame(raw_data.json()['data'],columns=raw_data.json()['column_names'])\n",
    "myData.head()"
   ]
  },
  {
   "cell_type": "code",
   "execution_count": 133,
   "metadata": {
    "collapsed": false
   },
   "outputs": [
    {
     "data": {
      "image/png": "[encoded data removed]",
      "text/plain": [
       "<matplotlib.figure.Figure at 0x10d1ee990>"
      ]
     },
     "metadata": {},
     "output_type": "display_data"
    }
   ],
   "source": [
    "myData.hist()\n",
    "plt.show()"
   ]
  },
  {
   "cell_type": "code",
   "execution_count": null,
   "metadata": {
    "collapsed": true
   },
   "outputs": [],
   "source": []
  },
  {
   "cell_type": "code",
   "execution_count": null,
   "metadata": {
    "collapsed": true
   },
   "outputs": [],
   "source": []
  }
 ],
 "metadata": {
  "kernelspec": {
   "display_name": "Python 2",
   "language": "python",
   "name": "python2"
  },
  "language_info": {
   "codemirror_mode": {
    "name": "ipython",
    "version": 2
   },
   "file_extension": ".py",
   "mimetype": "text/x-python",
   "name": "python",
   "nbconvert_exporter": "python",
   "pygments_lexer": "ipython2",
   "version": "2.7.10"
  }
 },
 "nbformat": 4,
 "nbformat_minor": 0
}
