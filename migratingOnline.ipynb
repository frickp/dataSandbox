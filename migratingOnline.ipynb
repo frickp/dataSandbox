{
 "cells": [
  {
   "cell_type": "markdown",
   "metadata": {},
   "source": [
    "#Purpose\n",
    "\n",
    "This is the first iPython notebook I'm adding online. The goal of this notebook is more to learn the syntax, etc.\n",
    "For example, one asterisk makes text *italic*. Two asterisks makes text **bold**. Putting 2 dollar signs before and after an expression gives an equation:\n",
    "\n",
    "$$y=10*x$$\n",
    "\n",
    "An equation can be displayed inline with the text by adding a single dollar sign on\n",
    "either side of the expression, like so: $y=sin(x)$\n",
    "    \n",
    "This is a good website to remember for markdown:\n",
    "http://nestacms.com/docs/creating-content/markdown-cheat-sheet\n",
    "    \n",
    "And for when you come up with something quotable, use a greater-than key\n",
    "> Be inspired!\n",
    "\n",
    "Okay, now on to some plots!\n",
    "*First*, load the dependencies"
   ]
  },
  {
   "cell_type": "code",
   "execution_count": 1,
   "metadata": {
    "collapsed": true
   },
   "outputs": [],
   "source": [
    "%matplotlib inline\n",
    "import pandas as pd\n",
    "import numpy as np\n",
    "import matplotlib as plt\n",
    "import pylab as pl\n",
    "from sklearn import linear_model"
   ]
  },
  {
   "cell_type": "markdown",
   "metadata": {},
   "source": [
    "Now generate a dataset of a line with some noise built in and see what it looks like..."
   ]
  },
  {
   "cell_type": "code",
   "execution_count": 156,
   "metadata": {
    "collapsed": false
   },
   "outputs": [
    {
     "name": "stdout",
     "output_type": "stream",
     "text": [
      "1000\n"
     ]
    },
    {
     "data": {
      "text/html": [
       "<div>\n",
       "<table border=\"1\" class=\"dataframe\">\n",
       "  <thead>\n",
       "    <tr style=\"text-align: right;\">\n",
       "      <th></th>\n",
       "      <th>x</th>\n",
       "      <th>y1</th>\n",
       "      <th>y2</th>\n",
       "      <th>y3</th>\n",
       "    </tr>\n",
       "  </thead>\n",
       "  <tbody>\n",
       "    <tr>\n",
       "      <th>0</th>\n",
       "      <td>0.0</td>\n",
       "      <td>-370.126964</td>\n",
       "      <td>-1.076618</td>\n",
       "      <td>51.958066</td>\n",
       "    </tr>\n",
       "    <tr>\n",
       "      <th>1</th>\n",
       "      <td>0.1</td>\n",
       "      <td>-376.335269</td>\n",
       "      <td>-2.516254</td>\n",
       "      <td>49.955183</td>\n",
       "    </tr>\n",
       "    <tr>\n",
       "      <th>2</th>\n",
       "      <td>0.2</td>\n",
       "      <td>-375.584515</td>\n",
       "      <td>-1.346008</td>\n",
       "      <td>46.207553</td>\n",
       "    </tr>\n",
       "    <tr>\n",
       "      <th>3</th>\n",
       "      <td>0.3</td>\n",
       "      <td>-376.718906</td>\n",
       "      <td>-2.062016</td>\n",
       "      <td>44.556820</td>\n",
       "    </tr>\n",
       "    <tr>\n",
       "      <th>4</th>\n",
       "      <td>0.4</td>\n",
       "      <td>-370.403777</td>\n",
       "      <td>-2.955538</td>\n",
       "      <td>37.880220</td>\n",
       "    </tr>\n",
       "  </tbody>\n",
       "</table>\n",
       "</div>"
      ],
      "text/plain": [
       "     x          y1        y2         y3\n",
       "0  0.0 -370.126964 -1.076618  51.958066\n",
       "1  0.1 -376.335269 -2.516254  49.955183\n",
       "2  0.2 -375.584515 -1.346008  46.207553\n",
       "3  0.3 -376.718906 -2.062016  44.556820\n",
       "4  0.4 -370.403777 -2.955538  37.880220"
      ]
     },
     "execution_count": 156,
     "metadata": {},
     "output_type": "execute_result"
    }
   ],
   "source": [
    "#Set a randomization seed for reproducibility\n",
    "np.random.seed(1)\n",
    "d = np.arange(0,100,0.1)\n",
    "df = pd.DataFrame({'x': d})\n",
    "df['y1'] =  df['x']*5   -375  + np.random.randn(len(d))*3\n",
    "df['y2'] = -df['x']*3 - 1  + np.random.randn(len(d))*0.5\n",
    "df['y3'] = -df['x']*10   + 50 + np.random.randn(len(d))*4\n",
    "\n",
    "#print d\n",
    "print len(d)\n",
    "df.head()"
   ]
  },
  {
   "cell_type": "code",
   "execution_count": null,
   "metadata": {
    "collapsed": true
   },
   "outputs": [],
   "source": [
    "# I think the way to do this is to count each variable as independent variable and\n",
    "#initialize them as random (not dependent on ind. var)"
   ]
  },
  {
   "cell_type": "code",
   "execution_count": 157,
   "metadata": {
    "collapsed": false
   },
   "outputs": [
    {
     "name": "stdout",
     "output_type": "stream",
     "text": [
      "[ 1.62434536]\n",
      "[-0.61175641]\n",
      "[-0.52817175]\n",
      "[-1.07296862]\n"
     ]
    }
   ],
   "source": [
    "np.random.seed(1)\n",
    "print np.random.randn(1)\n",
    "print np.random.randn(1)\n",
    "print np.random.randn(1)\n",
    "print np.random.randn(1)"
   ]
  },
  {
   "cell_type": "code",
   "execution_count": 158,
   "metadata": {
    "collapsed": false
   },
   "outputs": [
    {
     "data": {
      "text/html": [
       "<div>\n",
       "<table border=\"1\" class=\"dataframe\">\n",
       "  <thead>\n",
       "    <tr style=\"text-align: right;\">\n",
       "      <th></th>\n",
       "      <th>x</th>\n",
       "      <th>y1</th>\n",
       "      <th>y2</th>\n",
       "      <th>y3</th>\n",
       "      <th>Y</th>\n",
       "    </tr>\n",
       "  </thead>\n",
       "  <tbody>\n",
       "    <tr>\n",
       "      <th>0</th>\n",
       "      <td>0.0</td>\n",
       "      <td>-370.126964</td>\n",
       "      <td>-1.076618</td>\n",
       "      <td>51.958066</td>\n",
       "      <td>-319.245516</td>\n",
       "    </tr>\n",
       "    <tr>\n",
       "      <th>1</th>\n",
       "      <td>0.1</td>\n",
       "      <td>-376.335269</td>\n",
       "      <td>-2.516254</td>\n",
       "      <td>49.955183</td>\n",
       "      <td>-328.896340</td>\n",
       "    </tr>\n",
       "    <tr>\n",
       "      <th>2</th>\n",
       "      <td>0.2</td>\n",
       "      <td>-375.584515</td>\n",
       "      <td>-1.346008</td>\n",
       "      <td>46.207553</td>\n",
       "      <td>-330.722970</td>\n",
       "    </tr>\n",
       "    <tr>\n",
       "      <th>3</th>\n",
       "      <td>0.3</td>\n",
       "      <td>-376.718906</td>\n",
       "      <td>-2.062016</td>\n",
       "      <td>44.556820</td>\n",
       "      <td>-334.224102</td>\n",
       "    </tr>\n",
       "    <tr>\n",
       "      <th>4</th>\n",
       "      <td>0.4</td>\n",
       "      <td>-370.403777</td>\n",
       "      <td>-2.955538</td>\n",
       "      <td>37.880220</td>\n",
       "      <td>-335.479096</td>\n",
       "    </tr>\n",
       "  </tbody>\n",
       "</table>\n",
       "</div>"
      ],
      "text/plain": [
       "     x          y1        y2         y3           Y\n",
       "0  0.0 -370.126964 -1.076618  51.958066 -319.245516\n",
       "1  0.1 -376.335269 -2.516254  49.955183 -328.896340\n",
       "2  0.2 -375.584515 -1.346008  46.207553 -330.722970\n",
       "3  0.3 -376.718906 -2.062016  44.556820 -334.224102\n",
       "4  0.4 -370.403777 -2.955538  37.880220 -335.479096"
      ]
     },
     "execution_count": 158,
     "metadata": {},
     "output_type": "execute_result"
    }
   ],
   "source": [
    "#df['Y']  = df[['y1','y2','y3']].sum(axis=1)\n",
    "df['Y']  = df[['y1','y2','y3']].sum(axis=1)\n",
    "df.head()"
   ]
  },
  {
   "cell_type": "markdown",
   "metadata": {},
   "source": [
    "Great! Now let's plot it and see what it looks like"
   ]
  },
  {
   "cell_type": "code",
   "execution_count": 162,
   "metadata": {
    "collapsed": false
   },
   "outputs": [
    {
     "data": {
      "text/plain": [
       "[<matplotlib.lines.Line2D at 0x10c2a3e50>]"
      ]
     },
     "execution_count": 162,
     "metadata": {},
     "output_type": "execute_result"
    },
    {
     "data": {
      "image/png": "[encoded data removed]",
      "text/plain": [
       "<matplotlib.figure.Figure at 0x10bfc4ad0>"
      ]
     },
     "metadata": {},
     "output_type": "display_data"
    }
   ],
   "source": [
    "pl.plot(df['x'],df['y1'])\n",
    "#pl.plot(df['x'],df['y2'])\n",
    "pl.plot(df['x'],df['y3'])\n",
    "pl.plot(df['x'],df['Y'])\n",
    "#why aren't these the same?"
   ]
  },
  {
   "cell_type": "markdown",
   "metadata": {},
   "source": [
    "It works! Now on to bigger and better stuff!"
   ]
  },
  {
   "cell_type": "code",
   "execution_count": 6,
   "metadata": {
    "collapsed": false
   },
   "outputs": [
    {
     "data": {
      "text/html": [
       "<div>\n",
       "<table border=\"1\" class=\"dataframe\">\n",
       "  <thead>\n",
       "    <tr style=\"text-align: right;\">\n",
       "      <th></th>\n",
       "      <th>error</th>\n",
       "      <th>x</th>\n",
       "      <th>y</th>\n",
       "    </tr>\n",
       "  </thead>\n",
       "  <tbody>\n",
       "    <tr>\n",
       "      <th>0</th>\n",
       "      <td>0.470847</td>\n",
       "      <td>0.1</td>\n",
       "      <td>3.912541</td>\n",
       "    </tr>\n",
       "    <tr>\n",
       "      <th>1</th>\n",
       "      <td>0.535609</td>\n",
       "      <td>0.2</td>\n",
       "      <td>4.606827</td>\n",
       "    </tr>\n",
       "    <tr>\n",
       "      <th>2</th>\n",
       "      <td>0.362538</td>\n",
       "      <td>0.3</td>\n",
       "      <td>4.587614</td>\n",
       "    </tr>\n",
       "    <tr>\n",
       "      <th>3</th>\n",
       "      <td>-0.282161</td>\n",
       "      <td>0.4</td>\n",
       "      <td>3.153516</td>\n",
       "    </tr>\n",
       "    <tr>\n",
       "      <th>4</th>\n",
       "      <td>0.117982</td>\n",
       "      <td>0.5</td>\n",
       "      <td>4.853946</td>\n",
       "    </tr>\n",
       "  </tbody>\n",
       "</table>\n",
       "</div>"
      ],
      "text/plain": [
       "      error    x         y\n",
       "0  0.470847  0.1  3.912541\n",
       "1  0.535609  0.2  4.606827\n",
       "2  0.362538  0.3  4.587614\n",
       "3 -0.282161  0.4  3.153516\n",
       "4  0.117982  0.5  4.853946"
      ]
     },
     "execution_count": 6,
     "metadata": {},
     "output_type": "execute_result"
    }
   ],
   "source": [
    "df.head"
   ]
  },
  {
   "cell_type": "code",
   "execution_count": null,
   "metadata": {
    "collapsed": true
   },
   "outputs": [],
   "source": []
  }
 ],
 "metadata": {
  "kernelspec": {
   "display_name": "Python 2",
   "language": "python",
   "name": "python2"
  },
  "language_info": {
   "codemirror_mode": {
    "name": "ipython",
    "version": 2
   },
   "file_extension": ".py",
   "mimetype": "text/x-python",
   "name": "python",
   "nbconvert_exporter": "python",
   "pygments_lexer": "ipython2",
   "version": "2.7.10"
  }
 },
 "nbformat": 4,
 "nbformat_minor": 0
}
