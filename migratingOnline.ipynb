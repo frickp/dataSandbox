{
 "cells": [
  {
   "cell_type": "markdown",
   "metadata": {},
   "source": [
    "#Purpose\n",
    "\n",
    "This is the first iPython notebook I'm adding online. The goal of this notebook is more to learn the syntax, etc.\n",
    "For example, one asterisk makes text *italic*. Two asterisks makes text **bold**. Putting 2 dollar signs before and after an expression gives an equation:\n",
    "\n",
    "$$y=10*x$$\n",
    "\n",
    "An equation can be displayed inline with the text by adding a single dollar sign on\n",
    "either side of the expression, like so: $y=sin(x)$\n",
    "    \n",
    "This is a good website to remember for markdown:\n",
    "http://nestacms.com/docs/creating-content/markdown-cheat-sheet\n",
    "    \n",
    "And for when you come up with something quotable, use a greater-than key\n",
    "> Be inspired!\n",
    "\n",
    "Okay, now on to some plots!\n",
    "*First*, load the dependencies"
   ]
  },
  {
   "cell_type": "code",
   "execution_count": 3,
   "metadata": {
    "collapsed": true
   },
   "outputs": [],
   "source": [
    "%matplotlib inline\n",
    "import pandas as pd\n",
    "import numpy as np\n",
    "import matplotlib as plt\n",
    "import pylab as pl\n",
    "from sklearn import linear_model"
   ]
  },
  {
   "cell_type": "markdown",
   "metadata": {},
   "source": [
    "Now generate a dataset of a line with some noise built in and see what it looks like..."
   ]
  },
  {
   "cell_type": "code",
   "execution_count": 5,
   "metadata": {
    "collapsed": false
   },
   "outputs": [
    {
     "data": {
      "text/html": [
       "<div>\n",
       "<table border=\"1\" class=\"dataframe\">\n",
       "  <thead>\n",
       "    <tr style=\"text-align: right;\">\n",
       "      <th></th>\n",
       "      <th>error</th>\n",
       "      <th>x</th>\n",
       "      <th>y</th>\n",
       "    </tr>\n",
       "  </thead>\n",
       "  <tbody>\n",
       "    <tr>\n",
       "      <th>0</th>\n",
       "      <td>1.520884</td>\n",
       "      <td>0.1</td>\n",
       "      <td>7.062651</td>\n",
       "    </tr>\n",
       "    <tr>\n",
       "      <th>1</th>\n",
       "      <td>-1.098279</td>\n",
       "      <td>0.2</td>\n",
       "      <td>-0.294838</td>\n",
       "    </tr>\n",
       "    <tr>\n",
       "      <th>2</th>\n",
       "      <td>-1.147072</td>\n",
       "      <td>0.3</td>\n",
       "      <td>0.058784</td>\n",
       "    </tr>\n",
       "    <tr>\n",
       "      <th>3</th>\n",
       "      <td>0.463654</td>\n",
       "      <td>0.4</td>\n",
       "      <td>5.390963</td>\n",
       "    </tr>\n",
       "    <tr>\n",
       "      <th>4</th>\n",
       "      <td>0.022277</td>\n",
       "      <td>0.5</td>\n",
       "      <td>4.566831</td>\n",
       "    </tr>\n",
       "  </tbody>\n",
       "</table>\n",
       "</div>"
      ],
      "text/plain": [
       "      error    x         y\n",
       "0  1.520884  0.1  7.062651\n",
       "1 -1.098279  0.2 -0.294838\n",
       "2 -1.147072  0.3  0.058784\n",
       "3  0.463654  0.4  5.390963\n",
       "4  0.022277  0.5  4.566831"
      ]
     },
     "execution_count": 5,
     "metadata": {},
     "output_type": "execute_result"
    }
   ],
   "source": [
    "d={'x': range(1,100),'error': np.random.randn(99)}\n",
    "df = pd.DataFrame(data=d,index=range(99))\n",
    "df['y'] = df['x']*0.5 + 2 + df['error']*3\n",
    "df['x']=df['x']/10\n",
    "#df['x2'] = df[]\n",
    "df.head()\n"
   ]
  },
  {
   "cell_type": "markdown",
   "metadata": {},
   "source": [
    "Great! Now let's plot it and see what it looks like"
   ]
  },
  {
   "cell_type": "code",
   "execution_count": 7,
   "metadata": {
    "collapsed": false
   },
   "outputs": [
    {
     "data": {
      "text/plain": [
       "[<matplotlib.lines.Line2D at 0x10996bf50>]"
      ]
     },
     "execution_count": 7,
     "metadata": {},
     "output_type": "execute_result"
    },
    {
     "data": {
      "image/png": "[encoded data removed]",
      "text/plain": [
       "<matplotlib.figure.Figure at 0x108feb690>"
      ]
     },
     "metadata": {},
     "output_type": "display_data"
    }
   ],
   "source": [
    "pl.plot(df['x'],df['y'])"
   ]
  },
  {
   "cell_type": "markdown",
   "metadata": {},
   "source": [
    "It works! Now on to bigger and better stuff!"
   ]
  }
 ],
 "metadata": {
  "kernelspec": {
   "display_name": "Python 2",
   "language": "python",
   "name": "python2"
  },
  "language_info": {
   "codemirror_mode": {
    "name": "ipython",
    "version": 2
   },
   "file_extension": ".py",
   "mimetype": "text/x-python",
   "name": "python",
   "nbconvert_exporter": "python",
   "pygments_lexer": "ipython2",
   "version": "2.7.10"
  }
 },
 "nbformat": 4,
 "nbformat_minor": 0
}
